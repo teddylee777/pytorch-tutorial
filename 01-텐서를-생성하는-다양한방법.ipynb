{
 "cells": [
  {
   "cell_type": "markdown",
   "metadata": {},
   "source": [
    "## torch import\n"
   ]
  },
  {
   "cell_type": "code",
   "execution_count": null,
   "metadata": {},
   "outputs": [],
   "source": [
    "import torch\n",
    "import numpy as np\n",
    "\n",
    "# version 체크\n",
    "print(torch.__version__)"
   ]
  },
  {
   "cell_type": "markdown",
   "metadata": {},
   "source": [
    "## 기본 텐서 생성\n"
   ]
  },
  {
   "cell_type": "code",
   "execution_count": null,
   "metadata": {},
   "outputs": [],
   "source": [
    "# 샘플 numpy array 생성\n",
    "arr = np.arange(0, 5)\n",
    "print(arr)"
   ]
  },
  {
   "cell_type": "markdown",
   "metadata": {},
   "source": [
    "### `torch.from_numpy()`\n",
    "\n",
    "- numpy array 로부터 생성. **sharing** 하므로 numpy array의 요소가 변경되면 tensor로 같이 변경됩니다\n"
   ]
  },
  {
   "cell_type": "code",
   "execution_count": null,
   "metadata": {},
   "outputs": [],
   "source": [
    "t1 = torch.from_numpy(arr)\n",
    "print(t1)  # 출력\n",
    "print(t1.dtype)  # dtype은 데이터 타입\n",
    "print(t1.type())  # type()은 텐서의 타입\n",
    "print(type(t1))  # t1 변수 자체의 타입"
   ]
  },
  {
   "cell_type": "markdown",
   "metadata": {},
   "source": [
    "### `torch.as_tensor()`\n",
    "\n",
    "- numpy array 로부터 생성. **sharing** 하므로 numpy array의 요소가 변경되면 tensor로 같이 변경됩니다\n"
   ]
  },
  {
   "cell_type": "code",
   "execution_count": null,
   "metadata": {},
   "outputs": [],
   "source": [
    "t2 = torch.as_tensor(arr)\n",
    "print(t2)  # 출력\n",
    "print(t2.dtype)  # dtype은 데이터 타입\n",
    "print(t2.type())  # type()은 텐서의 타입\n",
    "print(type(t2))  # t2 변수 자체의 타입"
   ]
  },
  {
   "cell_type": "markdown",
   "metadata": {},
   "source": [
    "### `torch.tensor()`\n",
    "\n",
    "- numpy array 로부터 생성. **copying** 하므로 numpy array의 요소가 변경에 영향을 받지 않습니다.\n"
   ]
  },
  {
   "cell_type": "code",
   "execution_count": null,
   "metadata": {},
   "outputs": [],
   "source": [
    "t3 = torch.tensor(arr)\n",
    "print(t3)  # 출력\n",
    "print(t3.dtype)  # dtype은 데이터 타입\n",
    "print(t3.type())  # type()은 텐서의 타입\n",
    "print(type(t3))  # t3 변수 자체의 타입"
   ]
  },
  {
   "cell_type": "markdown",
   "metadata": {},
   "source": [
    "## Zeros, Ones\n"
   ]
  },
  {
   "cell_type": "markdown",
   "metadata": {},
   "source": [
    "### `torch.zeros()`\n",
    "\n",
    "- 0으로 채워진 tensor를 생성합니다.\n",
    "- dtype을 직접 지정하는 것이 바람직합니다.\n"
   ]
  },
  {
   "cell_type": "code",
   "execution_count": null,
   "metadata": {},
   "outputs": [],
   "source": [
    "zeros = torch.zeros(3, 5, dtype=torch.int32)\n",
    "print(zeros)\n",
    "print(zeros.dtype)\n",
    "print(zeros.type())"
   ]
  },
  {
   "cell_type": "markdown",
   "metadata": {},
   "source": [
    "### `torch.ones()`\n",
    "\n",
    "- 1로 채워진 tensor를 생성합니다.\n",
    "- 역시 dtype을 직접 지정하는 것이 바람직합니다.\n"
   ]
  },
  {
   "cell_type": "code",
   "execution_count": null,
   "metadata": {},
   "outputs": [],
   "source": [
    "ones = torch.zeros(2, 3, dtype=torch.int64)\n",
    "print(ones)\n",
    "print(ones.dtype)\n",
    "print(ones.type())"
   ]
  },
  {
   "cell_type": "markdown",
   "metadata": {},
   "source": [
    "### Tensors from ranges\n",
    "\n",
    "<a href='https://pytorch.org/docs/stable/torch.html#torch.arange'><strong><tt>torch.arange(start,end,step)</tt></strong></a><br>\n",
    "<a href='https://pytorch.org/docs/stable/torch.html#torch.linspace'><strong><tt>torch.linspace(start,end,steps)</tt></strong></a><br>\n",
    "Note that with <tt>.arange()</tt>, <tt>end</tt> is exclusive, while with <tt>linspace()</tt>, <tt>end</tt> is inclusive.\n"
   ]
  },
  {
   "cell_type": "markdown",
   "metadata": {},
   "source": [
    "## 범위로 생성\n"
   ]
  },
  {
   "cell_type": "markdown",
   "metadata": {},
   "source": [
    "### `torch.arange(start, end, step)`\n",
    "\n",
    "- 지정된 범위로 tensor를 생성합니다.\n"
   ]
  },
  {
   "cell_type": "code",
   "execution_count": null,
   "metadata": {},
   "outputs": [],
   "source": [
    "# end만 지정\n",
    "a = torch.arange(5)\n",
    "print(a)\n",
    "# start, end 지정\n",
    "a = torch.arange(2, 6)\n",
    "print(a)\n",
    "# start, end, step 모두 지정\n",
    "a = torch.arange(1, 10, 2)\n",
    "print(a)"
   ]
  },
  {
   "cell_type": "markdown",
   "metadata": {},
   "source": [
    "### torch.linspace(start, end, steps)\n",
    "\n",
    "- start부터 end까지 동일 간격으로 생성합니다. steps 지정시 steps 갯수만큼 생성합니다. (미지정시 100개 생성)\n"
   ]
  },
  {
   "cell_type": "code",
   "execution_count": null,
   "metadata": {},
   "outputs": [],
   "source": [
    "# start, stop 지정 ()\n",
    "b = torch.linspace(2, 10)\n",
    "print(b)\n",
    "print(b.size(0))\n",
    "print(\"===\" * 20)\n",
    "# start, stop, step 모두 지정\n",
    "b = torch.linspace(2, 10, 5)\n",
    "print(b)"
   ]
  },
  {
   "cell_type": "markdown",
   "metadata": {},
   "source": [
    "## tensor의 타입 변경: type()\n",
    "\n",
    "- tensor의 dtype을 변경하기 위해서는 type() 함수를 사용합니다. type()함수의 인자로 변경할 tensor의 타입을 지정합니다.\n"
   ]
  },
  {
   "cell_type": "code",
   "execution_count": null,
   "metadata": {},
   "outputs": [],
   "source": [
    "aa = torch.arange(10, dtype=torch.int32)\n",
    "print(aa)\n",
    "print(aa.type())\n",
    "\n",
    "print(\"===\" * 10)\n",
    "# tensor의 타입 변경\n",
    "bb = aa.type(torch.int64)\n",
    "print(bb)\n",
    "print(bb.type())"
   ]
  },
  {
   "cell_type": "markdown",
   "metadata": {},
   "source": [
    "## 랜덤 tensor 생성\n",
    "\n",
    "- `torch.rand()`: [0, 1) 분포 안에서 랜덤한 tensor를 생성합니다.\n",
    "- `torch.randn()`: **standard normal** 분포 안에서 랜덤한 tensor를 생성합니다.\n",
    "- `torch.randint()`: 정수로 채워진 랜덤한 tensor를 생성합니다.\n"
   ]
  },
  {
   "cell_type": "code",
   "execution_count": null,
   "metadata": {},
   "outputs": [],
   "source": [
    "# random 생성 범위: 0 ~ 1\n",
    "rd1 = torch.rand(2, 3)\n",
    "print(rd1)"
   ]
  },
  {
   "cell_type": "code",
   "execution_count": null,
   "metadata": {},
   "outputs": [],
   "source": [
    "# random 생성 범위: standard normal\n",
    "rd2 = torch.randn(2, 3)\n",
    "print(rd2)"
   ]
  },
  {
   "cell_type": "code",
   "execution_count": null,
   "metadata": {},
   "outputs": [],
   "source": [
    "# randint 생성시 low, high, size를 지정한 경우\n",
    "rd3 = torch.randint(low=1, high=10, size=(2, 3))\n",
    "print(rd3)"
   ]
  },
  {
   "cell_type": "markdown",
   "metadata": {},
   "source": [
    "`torch.manual_seed()`: 난수 생성시 시드의 고정\n"
   ]
  },
  {
   "cell_type": "code",
   "execution_count": null,
   "metadata": {},
   "outputs": [],
   "source": [
    "# manual_seed를 고정시 고정한 cell의 난수 생성은 매번 동일한 값을 생성\n",
    "torch.manual_seed(0)\n",
    "rd4 = torch.randint(low=1, high=100, size=(2, 3))\n",
    "print(rd4)"
   ]
  },
  {
   "cell_type": "markdown",
   "metadata": {},
   "source": [
    "## like로 tensor 생성\n",
    "\n",
    "- 텐서 생성 함수에서 `_like()`가 뒤에 붙는 함수를 종종 볼 수 있습니다.\n",
    "- `_like()`가 붙은 이름의 함수는 `_like()` 안에 넣어주는 tensor의 shape와 동일한 tensor를 생성합니다.\n",
    "\n",
    "**\\_like() 함수 목록**\n",
    "\n",
    "- `torch.rand_like()`\n",
    "- `torch.randn_like()`\n",
    "- `torch.randint_like()`\n",
    "- `torch.ones_like()`\n",
    "- `torch.zeros_like()`\n"
   ]
  },
  {
   "cell_type": "code",
   "execution_count": null,
   "metadata": {},
   "outputs": [],
   "source": [
    "x = torch.tensor([[1, 3, 5], [7, 9, 11]], dtype=torch.float32)\n",
    "print(x)\n",
    "print(x.type())"
   ]
  },
  {
   "cell_type": "code",
   "execution_count": null,
   "metadata": {},
   "outputs": [],
   "source": [
    "# [0, 1)\n",
    "like1 = torch.rand_like(x)\n",
    "print(like1)\n",
    "print(like1.type())"
   ]
  },
  {
   "cell_type": "code",
   "execution_count": null,
   "metadata": {},
   "outputs": [],
   "source": [
    "# standard normal\n",
    "like2 = torch.randn_like(x)\n",
    "print(like2)\n",
    "print(like2.type())"
   ]
  },
  {
   "cell_type": "code",
   "execution_count": null,
   "metadata": {},
   "outputs": [],
   "source": [
    "# int range\n",
    "like3 = torch.randint_like(x, low=1, high=100)\n",
    "print(like3)\n",
    "print(like3.type())"
   ]
  },
  {
   "cell_type": "code",
   "execution_count": null,
   "metadata": {},
   "outputs": [],
   "source": [
    "# zeros\n",
    "like4 = torch.zeros_like(x)\n",
    "print(like4)\n",
    "print(like4.type())"
   ]
  },
  {
   "cell_type": "code",
   "execution_count": null,
   "metadata": {},
   "outputs": [],
   "source": [
    "# ones\n",
    "like5 = torch.ones_like(x)\n",
    "print(like5)\n",
    "print(like5.type())"
   ]
  },
  {
   "cell_type": "markdown",
   "metadata": {},
   "source": [
    "## tensor의 shape 확인 및 변경\n"
   ]
  },
  {
   "cell_type": "code",
   "execution_count": null,
   "metadata": {},
   "outputs": [],
   "source": [
    "x = torch.tensor([[1, 3, 5], [7, 9, 11]], dtype=torch.float32)\n",
    "print(x)"
   ]
  },
  {
   "cell_type": "markdown",
   "metadata": {},
   "source": [
    "### shape 확인\n"
   ]
  },
  {
   "cell_type": "code",
   "execution_count": null,
   "metadata": {},
   "outputs": [],
   "source": [
    "print(x.shape)\n",
    "print(x.shape[0])\n",
    "print(x.shape[1])"
   ]
  },
  {
   "cell_type": "code",
   "execution_count": null,
   "metadata": {},
   "outputs": [],
   "source": [
    "print(x.size())\n",
    "print(x.size(0))\n",
    "print(x.size(1))"
   ]
  },
  {
   "cell_type": "markdown",
   "metadata": {},
   "source": [
    "### shape 변경\n"
   ]
  },
  {
   "cell_type": "markdown",
   "metadata": {},
   "source": [
    "`view()`와 `reshape()` 모두 사용가능합니다.\n"
   ]
  },
  {
   "cell_type": "code",
   "execution_count": null,
   "metadata": {},
   "outputs": [],
   "source": [
    "x = torch.tensor([[1, 3, 5], [7, 9, 11]], dtype=torch.float32)\n",
    "print(x)\n",
    "print(x.shape)"
   ]
  },
  {
   "cell_type": "code",
   "execution_count": null,
   "metadata": {},
   "outputs": [],
   "source": [
    "print(x)\n",
    "# view()로 shape 변경\n",
    "print(x.view(3, 2))"
   ]
  },
  {
   "cell_type": "code",
   "execution_count": null,
   "metadata": {},
   "outputs": [],
   "source": [
    "# view\n",
    "x.view(-1, 1)"
   ]
  },
  {
   "cell_type": "code",
   "execution_count": null,
   "metadata": {},
   "outputs": [],
   "source": [
    "# reshape\n",
    "x.reshape(-1, 1)"
   ]
  },
  {
   "cell_type": "code",
   "execution_count": null,
   "metadata": {},
   "outputs": [],
   "source": [
    "# view\n",
    "x.view(3, -1)"
   ]
  },
  {
   "cell_type": "code",
   "execution_count": null,
   "metadata": {},
   "outputs": [],
   "source": [
    "# reshape\n",
    "x.reshape(3, -1)"
   ]
  }
 ],
 "metadata": {
  "kernelspec": {
   "display_name": "Python 3 (ipykernel)",
   "language": "python",
   "name": "python3"
  },
  "language_info": {
   "codemirror_mode": {
    "name": "ipython",
    "version": 3
   },
   "file_extension": ".py",
   "mimetype": "text/x-python",
   "name": "python",
   "nbconvert_exporter": "python",
   "pygments_lexer": "ipython3",
   "version": "3.9.18"
  }
 },
 "nbformat": 4,
 "nbformat_minor": 4
}
