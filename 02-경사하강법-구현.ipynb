{
 "cells": [
  {
   "cell_type": "code",
   "execution_count": null,
   "id": "39314692",
   "metadata": {},
   "outputs": [],
   "source": [
    "import torch\n",
    "import numpy as np\n",
    "import matplotlib.pyplot as plt"
   ]
  },
  {
   "cell_type": "markdown",
   "id": "a53792af",
   "metadata": {},
   "source": [
    "## 샘플 데이터셋 생성\n"
   ]
  },
  {
   "cell_type": "code",
   "execution_count": null,
   "id": "05d1fec4",
   "metadata": {},
   "outputs": [],
   "source": [
    "x = torch.tensor(np.arange(10))\n",
    "y = 2 * x + 1\n",
    "y"
   ]
  },
  {
   "cell_type": "code",
   "execution_count": null,
   "id": "ff7853d2",
   "metadata": {},
   "outputs": [],
   "source": [
    "plt.title(\"y = 2x + b\", fontsize=15)\n",
    "plt.scatter(x, y)\n",
    "plt.show()"
   ]
  },
  {
   "cell_type": "code",
   "execution_count": null,
   "id": "879c2dd9",
   "metadata": {},
   "outputs": [],
   "source": [
    "# random w, b 생성\n",
    "w = torch.randn(1, requires_grad=True)\n",
    "b = torch.randn(1, requires_grad=True)\n",
    "w, b"
   ]
  },
  {
   "cell_type": "code",
   "execution_count": null,
   "id": "c4d9cbad",
   "metadata": {},
   "outputs": [],
   "source": [
    "# Hypothesis Function 정의\n",
    "y_hat = w * x + b"
   ]
  },
  {
   "cell_type": "code",
   "execution_count": null,
   "id": "b76f44f8",
   "metadata": {},
   "outputs": [],
   "source": [
    "# Mean Squared Error(MSE) 오차 정의\n",
    "loss = ((y_hat - y) ** 2).mean()"
   ]
  },
  {
   "cell_type": "code",
   "execution_count": null,
   "id": "4d539a6c",
   "metadata": {},
   "outputs": [],
   "source": [
    "# BackPropagation (Gradient 계산)\n",
    "loss.backward()"
   ]
  },
  {
   "cell_type": "code",
   "execution_count": null,
   "id": "d17648d8",
   "metadata": {},
   "outputs": [],
   "source": [
    "# 결과 출력\n",
    "print(f\"w gradient: {w.grad.item():.2f}, b gradient: {b.grad.item():.2f}\")"
   ]
  },
  {
   "cell_type": "markdown",
   "id": "28351782",
   "metadata": {},
   "source": [
    "## w, b 의 직접 계산한 Gradient와 비교\n"
   ]
  },
  {
   "cell_type": "code",
   "execution_count": null,
   "id": "ad2e7f7d",
   "metadata": {},
   "outputs": [],
   "source": [
    "w_grad = (2 * (y_hat - y) * x).mean().item()\n",
    "b_grad = (2 * (y_hat - y)).mean().item()"
   ]
  },
  {
   "cell_type": "code",
   "execution_count": null,
   "id": "4ff2c4cb",
   "metadata": {},
   "outputs": [],
   "source": [
    "print(f\"w gradient: {w_grad:.2f}, b gradient: {b_grad:.2f}\")"
   ]
  },
  {
   "cell_type": "markdown",
   "id": "152032c6",
   "metadata": {},
   "source": [
    "## Gradient 계산 미적용\n"
   ]
  },
  {
   "cell_type": "code",
   "execution_count": null,
   "id": "6da931d2",
   "metadata": {},
   "outputs": [],
   "source": [
    "y_hat = w*x + b\n",
    "print(y_hat.requires_grad)\n",
    "\n",
    "with torch.no_grad():\n",
    "    y_hat = w*x + b\n",
    "\n",
    "print(y_hat.requires_grad)"
   ]
  }
 ],
 "metadata": {
  "kernelspec": {
   "display_name": "Python 3 (ipykernel)",
   "language": "python",
   "name": "python3"
  },
  "language_info": {
   "codemirror_mode": {
    "name": "ipython",
    "version": 3
   },
   "file_extension": ".py",
   "mimetype": "text/x-python",
   "name": "python",
   "nbconvert_exporter": "python",
   "pygments_lexer": "ipython3",
   "version": "3.9.18"
  }
 },
 "nbformat": 4,
 "nbformat_minor": 5
}
