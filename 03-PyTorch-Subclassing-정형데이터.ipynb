{
 "cells": [
  {
   "cell_type": "markdown",
   "id": "788eb9d9",
   "metadata": {},
   "source": [
    "## 샘플 데이터셋 로드\n"
   ]
  },
  {
   "cell_type": "code",
   "execution_count": null,
   "id": "c54b24cc",
   "metadata": {},
   "outputs": [],
   "source": [
    "!pip install opendata-kr -q\n",
    "from opendata import dataset\n",
    "\n",
    "dataset.download('toydata')"
   ]
  },
  {
   "cell_type": "code",
   "execution_count": null,
   "id": "a7e4b88f",
   "metadata": {},
   "outputs": [],
   "source": [
    "import pandas as pd\n",
    "import matplotlib.pyplot as plt\n",
    "import warnings\n",
    "import torch\n",
    "\n",
    "warnings.filterwarnings(\"ignore\")"
   ]
  },
  {
   "cell_type": "code",
   "execution_count": null,
   "id": "259799be",
   "metadata": {},
   "outputs": [],
   "source": [
    "# 보스톤 주택 가격 데이터셋 로드\n",
    "df = pd.read_csv(\"data/toydata/boston_house_price.csv\")\n",
    "df.head()"
   ]
  },
  {
   "cell_type": "markdown",
   "id": "48464fe4",
   "metadata": {},
   "source": [
    "**컬럼 소개**\n",
    "\n",
    "속성 수 : 13\n",
    "\n",
    "- **CRIM**: 자치시 별 범죄율\n",
    "- **ZN**: 25,000 평방 피트를 초과하는 주거용 토지의 비율\n",
    "- **INDUS**: 비소매(non-retail) 비즈니스 토지 비율\n",
    "- **CHAS**: 찰스 강과 인접한 경우에 대한 더비 변수 (1= 인접, 0= 인접하지 않음)\n",
    "- **NOX**: 산화 질소 농도 (10ppm)\n",
    "- **RM**:주택당 평균 객실 수\n",
    "- **AGE**: 1940 년 이전에 건축된 자가소유 점유 비율\n",
    "- **DIS**: 5 개의 보스턴 고용 센터까지의 가중 거리\n",
    "- **RAD**: 고속도로 접근성 지수\n",
    "- **TAX**: 10,000 달러 당 전체 가치 재산 세율\n",
    "- **PTRATIO** 도시별 학생-교사 비율\n",
    "- **B**: 인구당 흑인의 비율. 1000(Bk - 0.63)^2, (Bk는 흑인의 비율을 뜻함)\n",
    "- **LSTAT**: 하위 계층의 비율\n",
    "- **PRICE**: 자가 주택의 중앙값 (1,000 달러 단위)\n"
   ]
  },
  {
   "cell_type": "code",
   "execution_count": null,
   "id": "0fb9abde",
   "metadata": {},
   "outputs": [],
   "source": [
    "# feature(x), label(y)로 분할\n",
    "x = df.drop(\"PRICE\", axis=1)\n",
    "y = df[\"PRICE\"]\n",
    "\n",
    "# feature 변수의 개수 지정\n",
    "NUM_FEATURES = len(x.columns)"
   ]
  },
  {
   "cell_type": "code",
   "execution_count": null,
   "id": "52785f7d",
   "metadata": {},
   "outputs": [],
   "source": [
    "# feature 변수의 개수 지정\n",
    "NUM_FEATURES = len(df.drop(\"PRICE\", axis=1).columns)\n",
    "print(f\"number of features: {NUM_FEATURES}\")"
   ]
  },
  {
   "cell_type": "markdown",
   "id": "37dfd687",
   "metadata": {},
   "source": [
    "## 서브클래싱으로 CustomDataset 생성\n",
    "\n",
    "- SubClassing으로 Dataset을 상속받아 구현하게 되면 DataLoader에 주입하여 배치(batch) 구성을 쉽게 할 수 있습니다.\n",
    "- 보통 `__init__()` 함수에서 데이터를 set 해주게 되고, 기타 필요한 전처리를 수행합니다. Image Transformation은 `__getitem__(self, idx)`에서 구현하는 경우도 있습니다.\n",
    "- SubClassing으로 커스텀 Dataset을 구성한다면 `__len__(self)`함수와 `__getitem__(self, idx)`를 구현해야 합니다.\n",
    "- [참고: 파이토치 튜토리얼(Tutorials > Dataset과 DataLoader)](https://tutorials.pytorch.kr/beginner/basics/data_tutorial.html)\n"
   ]
  },
  {
   "cell_type": "code",
   "execution_count": null,
   "id": "596552ad",
   "metadata": {},
   "outputs": [],
   "source": [
    "from torch.utils.data import Dataset\n",
    "from sklearn.preprocessing import StandardScaler\n",
    "\n",
    "\n",
    "class CustomDataset(Dataset):\n",
    "    def __init__(self, data, target=\"target\", normalize=True):\n",
    "        super(CustomDataset, self).__init__()\n",
    "        self.x = data.drop(target, axis=1)\n",
    "\n",
    "        # 데이터 표준화\n",
    "        if normalize:\n",
    "            scaler = StandardScaler()\n",
    "            self.x = pd.DataFrame(scaler.fit_transform(self.x))\n",
    "\n",
    "        self.y = data[target]\n",
    "\n",
    "        # 텐서 변환\n",
    "        self.x = torch.tensor(self.x.values).float()\n",
    "        self.y = torch.tensor(self.y).float()\n",
    "\n",
    "    def __len__(self):\n",
    "        return len(self.x)\n",
    "\n",
    "    def __getitem__(self, idx):\n",
    "        x = self.x[idx]\n",
    "        y = self.y[idx]\n",
    "        return x, y"
   ]
  },
  {
   "cell_type": "code",
   "execution_count": null,
   "id": "e7015f73",
   "metadata": {},
   "outputs": [],
   "source": [
    "# Custom으로 정의한 데이터셋 생성\n",
    "dataset = CustomDataset(df, \"PRICE\", True)"
   ]
  },
  {
   "cell_type": "markdown",
   "id": "ce5c0193",
   "metadata": {},
   "source": [
    "Custom으로 정의한 데이터셋은 `torch.utils.data.DataLoader`에 주입할 수 있습니다.\n"
   ]
  },
  {
   "cell_type": "code",
   "execution_count": null,
   "id": "5e0f1da9",
   "metadata": {},
   "outputs": [],
   "source": [
    "from torch.utils.data import DataLoader\n",
    "\n",
    "data_loader = DataLoader(dataset, batch_size=32, shuffle=True)"
   ]
  },
  {
   "cell_type": "code",
   "execution_count": null,
   "id": "b9035d64",
   "metadata": {},
   "outputs": [],
   "source": [
    "x, y = next(iter(data_loader))"
   ]
  },
  {
   "cell_type": "code",
   "execution_count": null,
   "id": "1a82e62e",
   "metadata": {},
   "outputs": [],
   "source": [
    "x.shape, y.shape"
   ]
  },
  {
   "cell_type": "markdown",
   "id": "b19b385d",
   "metadata": {},
   "source": [
    "## PyTorch를 활용하여 회귀(regression) 예측\n"
   ]
  },
  {
   "cell_type": "code",
   "execution_count": null,
   "id": "a1041c22",
   "metadata": {},
   "outputs": [],
   "source": [
    "# Device 설정 (cuda:0 혹은 cpu)\n",
    "device = torch.device(\"cuda:0\" if torch.cuda.is_available() else \"cpu\")\n",
    "print(device)"
   ]
  },
  {
   "cell_type": "code",
   "execution_count": null,
   "id": "0e94f7b9",
   "metadata": {},
   "outputs": [],
   "source": [
    "import torch.nn as nn\n",
    "import torch.optim as optim\n",
    "import torch.nn.functional as F\n",
    "\n",
    "\n",
    "class Net(nn.Module):\n",
    "    def __init__(self, num_features):\n",
    "        super(Net, self).__init__()\n",
    "        self.fc1 = nn.Linear(num_features, 32)\n",
    "        self.fc2 = nn.Linear(32, 8)\n",
    "        # 마지막 출력층의 Neuron은 1개로 설정\n",
    "        self.output = nn.Linear(8, 1)\n",
    "\n",
    "    def forward(self, x):\n",
    "        x = F.relu(self.fc1(x))\n",
    "        x = F.relu(self.fc2(x))\n",
    "        x = self.output(x)\n",
    "        return x"
   ]
  },
  {
   "cell_type": "code",
   "execution_count": null,
   "id": "dfc6f289",
   "metadata": {},
   "outputs": [],
   "source": [
    "# 모델 생성\n",
    "model = Net(NUM_FEATURES)\n",
    "# 모델을 device 에 올립니다. (cuda:0 혹은 cpu)\n",
    "model.to(device)\n",
    "model"
   ]
  },
  {
   "cell_type": "markdown",
   "id": "e1ee3a4f",
   "metadata": {},
   "source": [
    "## 손실함수(Loss Function) / 옵티마이저(Optimzier) 정의\n"
   ]
  },
  {
   "cell_type": "code",
   "execution_count": null,
   "id": "7f8ff160",
   "metadata": {},
   "outputs": [],
   "source": [
    "# Mean Squared Error(MSE) 오차 정의\n",
    "loss_fn = nn.MSELoss()"
   ]
  },
  {
   "cell_type": "code",
   "execution_count": null,
   "id": "67ddbb6c",
   "metadata": {},
   "outputs": [],
   "source": [
    "# 옵티마이저 설정: model.paramters()와 learning_rate 설정\n",
    "optimizer = optim.Adam(model.parameters(), lr=0.005)"
   ]
  },
  {
   "cell_type": "markdown",
   "id": "9b0b96b1",
   "metadata": {},
   "source": [
    "## 경사하강법을 활용한 회귀 예측\n"
   ]
  },
  {
   "cell_type": "code",
   "execution_count": null,
   "id": "8527ff71",
   "metadata": {},
   "outputs": [],
   "source": [
    "# 최대 반복 횟수 정의\n",
    "num_epoch = 200\n",
    "\n",
    "# loss 기록하기 위한 list 정의\n",
    "losses = []\n",
    "\n",
    "for epoch in range(num_epoch):\n",
    "    # loss 초기화\n",
    "    running_loss = 0\n",
    "    for x, y in data_loader:\n",
    "        # x, y 데이터를 device 에 올립니다. (cuda:0 혹은 cpu)\n",
    "        x = x.to(device)\n",
    "        y = y.to(device)\n",
    "\n",
    "        # 그라디언트 초기화 (초기화를 수행하지 않으면 계산된 그라디언트는 누적됩니다.)\n",
    "        optimizer.zero_grad()\n",
    "\n",
    "        # output 계산: model의 __call__() 함수 호출\n",
    "        y_hat = model(x)\n",
    "\n",
    "        # 손실(loss) 계산\n",
    "        loss = loss_fn(y.view(-1, 1), y_hat)\n",
    "\n",
    "        # 미분 계산\n",
    "        loss.backward()\n",
    "\n",
    "        # 경사하강법 계산 및 적용\n",
    "        optimizer.step()\n",
    "\n",
    "        # 배치별 loss 를 누적합산 합니다.\n",
    "        running_loss += loss.item()\n",
    "\n",
    "    # 누적합산된 배치별 loss값을 배치의 개수로 나누어 Epoch당 loss를 산출합니다.\n",
    "    loss = running_loss / len(data_loader)\n",
    "    losses.append(loss)\n",
    "\n",
    "    # 20번의 Epcoh당 출력합니다.\n",
    "    if epoch % 20 == 0:\n",
    "        print(\"{0:05d} loss = {1:.5f}\".format(epoch, loss))\n",
    "\n",
    "print(\"----\" * 15)\n",
    "print(\"{0:05d} loss = {1:.5f}\".format(epoch, loss))"
   ]
  },
  {
   "cell_type": "code",
   "execution_count": null,
   "id": "0949cf69",
   "metadata": {},
   "outputs": [],
   "source": [
    "# 전체 loss 에 대한 변화량 시각화\n",
    "plt.figure(figsize=(14, 6))\n",
    "plt.plot(losses[:100], c=\"darkviolet\", linestyle=\":\")\n",
    "\n",
    "plt.title(\"Losses over epoches\", fontsize=15)\n",
    "plt.xlabel(\"Epochs\")\n",
    "plt.ylabel(\"Error\")\n",
    "plt.show()"
   ]
  }
 ],
 "metadata": {
  "kernelspec": {
   "display_name": "Python 3 (ipykernel)",
   "language": "python",
   "name": "python3"
  },
  "language_info": {
   "codemirror_mode": {
    "name": "ipython",
    "version": 3
   },
   "file_extension": ".py",
   "mimetype": "text/x-python",
   "name": "python",
   "nbconvert_exporter": "python",
   "pygments_lexer": "ipython3",
   "version": "3.9.18"
  }
 },
 "nbformat": 4,
 "nbformat_minor": 5
}
