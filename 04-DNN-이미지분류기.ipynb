{
 "cells": [
  {
   "cell_type": "code",
   "execution_count": null,
   "id": "0bd10b24",
   "metadata": {},
   "outputs": [],
   "source": [
    "import numpy as np\n",
    "import torch\n",
    "from torch.utils.data import Dataset\n",
    "from torchvision import datasets, transforms"
   ]
  },
  {
   "cell_type": "markdown",
   "id": "345bb4d5",
   "metadata": {},
   "source": [
    "### 내장 데이터셋 로드\n",
    "\n",
    "- `FashionMNIST` 데이터셋 로드하는 예제\n"
   ]
  },
  {
   "cell_type": "markdown",
   "id": "bddf5151",
   "metadata": {},
   "source": [
    "- `root`: 데이터셋을 다운로드 받을 경로(폴더) 지정.\n",
    "- `train`: `True`로 설정된 경우 `train` 데이터셋에서 로드하며, `False`인 경우 `test` 데이터셋에서 로드\n",
    "- `download`: `True`로 설정된 경우, 인터넷으로부터 데이터셋을 다운로드 받아 지정된 `root` 디렉토리에 다운로드\n",
    "- `transform`: 이미지 `transform` 적용\n"
   ]
  },
  {
   "cell_type": "code",
   "execution_count": null,
   "id": "af76ea8e",
   "metadata": {},
   "outputs": [],
   "source": [
    "# Image Transform 정의\n",
    "transform = transforms.Compose(\n",
    "    [\n",
    "        transforms.ToTensor(),\n",
    "    ]\n",
    ")"
   ]
  },
  {
   "cell_type": "code",
   "execution_count": null,
   "id": "fa434082",
   "metadata": {},
   "outputs": [],
   "source": [
    "# train(학습용) 데이터셋 로드\n",
    "train = datasets.FashionMNIST(root='data',\n",
    "                              train=True,         # set True\n",
    "                              download=True,      # 다운로드\n",
    "                              transform=transform  # transform 적용. (0~1 로 정규화)\n",
    "                              )"
   ]
  },
  {
   "cell_type": "code",
   "execution_count": null,
   "id": "00d964a5",
   "metadata": {},
   "outputs": [],
   "source": [
    "# test(학습용) 데이터셋 로드\n",
    "test = datasets.FashionMNIST(root='data',\n",
    "                             train=False,       # set to False\n",
    "                             download=True,     # 다운로드\n",
    "                             transform=transform  # transform 적용. (0~1 로 정규화)\n",
    "                             )"
   ]
  },
  {
   "cell_type": "markdown",
   "id": "79ec39d2",
   "metadata": {},
   "source": [
    "`FashionMNIST` 데이터셋 시각화\n",
    "\n",
    "- 총 10개의 카테고리로 구성되어 있으며, `Label`은 아래 코드에서 `labels_map`에 정의되어 있습니다.\n",
    "- 출처: [zalandoresearch/fashion-mnist](https://github.com/zalandoresearch/fashion-mnist)\n"
   ]
  },
  {
   "cell_type": "code",
   "execution_count": null,
   "id": "d95b8e22",
   "metadata": {},
   "outputs": [],
   "source": [
    "import matplotlib.pyplot as plt\n",
    "\n",
    "labels_map = {\n",
    "    0: \"T-Shirt\",\n",
    "    1: \"Trouser\",\n",
    "    2: \"Pullover\",\n",
    "    3: \"Dress\",\n",
    "    4: \"Coat\",\n",
    "    5: \"Sandal\",\n",
    "    6: \"Shirt\",\n",
    "    7: \"Sneaker\",\n",
    "    8: \"Bag\",\n",
    "    9: \"Ankle Boot\",\n",
    "}\n",
    "\n",
    "figure = plt.figure(figsize=(12, 8))\n",
    "cols, rows = 8, 5\n",
    "\n",
    "for i in range(1, cols * rows + 1):\n",
    "    sample_idx = torch.randint(len(train), size=(1,)).item()\n",
    "    img, label = train[sample_idx]\n",
    "    figure.add_subplot(rows, cols, i)\n",
    "    plt.title(labels_map[label])\n",
    "    plt.axis(\"off\")\n",
    "    plt.imshow(torch.permute(img, (1, 2, 0)), cmap=\"gray\")\n",
    "plt.show()"
   ]
  },
  {
   "cell_type": "markdown",
   "id": "5ffa7009",
   "metadata": {},
   "source": [
    "### torch.utils.data.DataLoader로 데이터셋 로더 구성\n"
   ]
  },
  {
   "cell_type": "code",
   "execution_count": null,
   "id": "0507e65f",
   "metadata": {},
   "outputs": [],
   "source": [
    "batch_size = 32  # batch_size 지정\n",
    "num_workers = 8  # Thread 숫자 지정 (병렬 처리에 활용할 쓰레드 숫자 지정)"
   ]
  },
  {
   "cell_type": "code",
   "execution_count": null,
   "id": "d4d3317a",
   "metadata": {},
   "outputs": [],
   "source": [
    "train_loader = torch.utils.data.DataLoader(train,\n",
    "                                           batch_size=batch_size,\n",
    "                                           shuffle=True,\n",
    "                                           num_workers=num_workers)"
   ]
  },
  {
   "cell_type": "code",
   "execution_count": null,
   "id": "d08219f4",
   "metadata": {},
   "outputs": [],
   "source": [
    "test_loader = torch.utils.data.DataLoader(test,\n",
    "                                          batch_size=batch_size,\n",
    "                                          shuffle=False,\n",
    "                                          num_workers=num_workers)"
   ]
  },
  {
   "cell_type": "markdown",
   "id": "9268053d",
   "metadata": {},
   "source": [
    "## 모델 생성\n"
   ]
  },
  {
   "cell_type": "code",
   "execution_count": null,
   "id": "24fe4519",
   "metadata": {},
   "outputs": [],
   "source": [
    "# Device 설정 (cuda:0 혹은 cpu)\n",
    "device = torch.device(\"cuda:0\" if torch.cuda.is_available() else \"cpu\")\n",
    "print(device)"
   ]
  },
  {
   "cell_type": "code",
   "execution_count": null,
   "id": "ca213eb9",
   "metadata": {},
   "outputs": [],
   "source": [
    "import torch.nn as nn\n",
    "import torch.optim as optim\n",
    "import torch.nn.functional as F\n",
    "\n",
    "\n",
    "class Net(nn.Module):\n",
    "    def __init__(self, num_classes):\n",
    "        super(Net, self).__init__()\n",
    "        self.fc1 = nn.Linear(28*28, 256)\n",
    "        self.fc2 = nn.Linear(256, 128)\n",
    "        self.fc3 = nn.Linear(128, 32)\n",
    "        # 마지막 출력층의 Neuron은 Class 개수로 설정\n",
    "        self.output = nn.Linear(32, num_classes)\n",
    "\n",
    "    def forward(self, x):\n",
    "        # (B, 1, 28, 28) -> (B, 28*28)\n",
    "        x = x.view(-1, 28*28)\n",
    "        x = F.relu(self.fc1(x))\n",
    "        x = F.relu(self.fc2(x))\n",
    "        x = F.relu(self.fc3(x))\n",
    "        x = self.output(x)\n",
    "        return x"
   ]
  },
  {
   "cell_type": "code",
   "execution_count": null,
   "id": "dc743675",
   "metadata": {},
   "outputs": [],
   "source": [
    "# 모델 생성\n",
    "model = Net(num_classes=10)\n",
    "\n",
    "# 모델을 device 에 올립니다. (cuda:0 혹은 cpu)\n",
    "model.to(device)\n",
    "model"
   ]
  },
  {
   "cell_type": "markdown",
   "id": "882dab36",
   "metadata": {},
   "source": [
    "## 손실함수 / 옵티마이저 정의\n"
   ]
  },
  {
   "cell_type": "code",
   "execution_count": null,
   "id": "a9f6ae86",
   "metadata": {},
   "outputs": [],
   "source": [
    "# Mean Squared Error(MSE) 오차 정의\n",
    "loss_fn = nn.CrossEntropyLoss()\n",
    "\n",
    "# 옵티마이저 설정: model.paramters()와 learning_rate 설정\n",
    "optimizer = optim.Adam(model.parameters(), lr=0.005)"
   ]
  },
  {
   "cell_type": "markdown",
   "id": "8ed4d97f",
   "metadata": {},
   "source": [
    "## 훈련\n"
   ]
  },
  {
   "cell_type": "code",
   "execution_count": null,
   "id": "0dae3ae5",
   "metadata": {},
   "outputs": [],
   "source": [
    "# 최대 반복 횟수 정의\n",
    "num_epoch = 20\n",
    "\n",
    "# loss 기록하기 위한 list 정의\n",
    "losses = []\n",
    "accs = []\n",
    "\n",
    "# 훈련 모드 활성화\n",
    "model.train()\n",
    "\n",
    "for epoch in range(num_epoch):\n",
    "    # loss 초기화\n",
    "    running_loss = 0\n",
    "    # 정확도 계산\n",
    "    running_acc = 0\n",
    "\n",
    "    for x, y in train_loader:\n",
    "        # x, y 데이터를 device 에 올립니다. (cuda:0 혹은 cpu)\n",
    "        x = x.to(device)\n",
    "        y = y.to(device)\n",
    "\n",
    "        # 그라디언트 초기화 (초기화를 수행하지 않으면 계산된 그라디언트는 누적됩니다.)\n",
    "        optimizer.zero_grad()\n",
    "\n",
    "        # output 계산: model의 __call__() 함수 호출\n",
    "        output = model(x)\n",
    "\n",
    "        # 손실(loss) 계산 (예측 Prediction, 실제 Ground Truth)\n",
    "        loss = loss_fn(output, y)\n",
    "\n",
    "        # 미분 계산\n",
    "        loss.backward()\n",
    "\n",
    "        # 경사하강법 계산 및 적용\n",
    "        optimizer.step()\n",
    "\n",
    "        # 배치별 loss 를 누적합산 합니다.\n",
    "        running_loss += loss.item()\n",
    "        running_acc += (output.argmax(dim=1).eq(y).sum().item() / len(y))\n",
    "\n",
    "    # 누적합산된 배치별 loss값을 배치의 개수로 나누어 Epoch당 loss를 산출합니다.\n",
    "    loss = running_loss / len(train_loader)\n",
    "    losses.append(loss)\n",
    "    acc = running_acc / len(train_loader)\n",
    "    accs.append(acc)\n",
    "\n",
    "    # 매 Epoch의 학습이 끝날때 훈련 결과를 출력합니다.\n",
    "    print(f'{epoch:03d} loss = {loss:.5f}, accuracy = {acc:.5f}')"
   ]
  },
  {
   "cell_type": "markdown",
   "id": "744b9aa4",
   "metadata": {},
   "source": [
    "## 검증\n"
   ]
  },
  {
   "cell_type": "code",
   "execution_count": null,
   "id": "54306ec6",
   "metadata": {},
   "outputs": [],
   "source": [
    "# 검증모드 진입\n",
    "model.eval()\n",
    "\n",
    "with torch.no_grad():\n",
    "    # loss 초기화\n",
    "    running_loss = 0\n",
    "    # 정확도 계산\n",
    "    running_acc = 0\n",
    "    for x, y, in test_loader:\n",
    "        x, y = x.to(device), y.to(device)\n",
    "\n",
    "        output = model(x)\n",
    "\n",
    "        running_loss += loss.item()\n",
    "        running_acc += (output.argmax(dim=1).eq(y).sum().item() / len(y))\n",
    "\n",
    "    loss = running_loss / len(test_loader)\n",
    "    acc = running_acc / len(test_loader)"
   ]
  },
  {
   "cell_type": "code",
   "execution_count": null,
   "id": "8b21858e",
   "metadata": {},
   "outputs": [],
   "source": [
    "# 최종 훈련 결과확인\n",
    "print(f\"Loss: {loss:.5f}, Accuracy: {acc:.5f}\")"
   ]
  }
 ],
 "metadata": {
  "kernelspec": {
   "display_name": "Python 3 (ipykernel)",
   "language": "python",
   "name": "python3"
  },
  "language_info": {
   "codemirror_mode": {
    "name": "ipython",
    "version": 3
   },
   "file_extension": ".py",
   "mimetype": "text/x-python",
   "name": "python",
   "nbconvert_exporter": "python",
   "pygments_lexer": "ipython3",
   "version": "3.8.16"
  }
 },
 "nbformat": 4,
 "nbformat_minor": 5
}
