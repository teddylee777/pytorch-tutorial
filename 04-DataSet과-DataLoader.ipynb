{
 "cells": [
  {
   "cell_type": "markdown",
   "id": "794ad4a1",
   "metadata": {},
   "source": [
    "이번 튜토리얼에서는\n",
    "\n",
    "PyTorch에 **내장(Built-in) 데이터셋**을 로드하는 방법에 대하여 알아보겠습니다.\n",
    "\n",
    "**[참고]**\n",
    "\n",
    "- `torchvision.transform`을 활용한 이미지 정규화는 [링크](https://teddylee777.github.io/pytorch/torchvision-transform)에서 확인해 주시기 바랍니다.\n"
   ]
  },
  {
   "cell_type": "code",
   "execution_count": null,
   "id": "0bd10b24",
   "metadata": {},
   "outputs": [],
   "source": [
    "import numpy as np\n",
    "import torch\n",
    "from torch.utils.data import Dataset\n",
    "from torchvision import datasets, transforms"
   ]
  },
  {
   "cell_type": "markdown",
   "id": "63475e64",
   "metadata": {},
   "source": [
    "## 내장(built-in) 데이터셋 로드\n",
    "\n",
    "- `torchvision.datasets` 에서 데이터 로드\n",
    "- 아래 링크에서 built-in datasets의 목록을 확인해 볼 수 있습니다.\n",
    "  - [PyTorch Built-in Datsets](https://pytorch.org/vision/stable/datasets.html)\n"
   ]
  },
  {
   "cell_type": "markdown",
   "id": "a7b7fcff",
   "metadata": {},
   "source": [
    "### STEP 1) Image Transform 정의\n"
   ]
  },
  {
   "cell_type": "code",
   "execution_count": null,
   "id": "6b120323",
   "metadata": {},
   "outputs": [],
   "source": [
    "# Image Transform 정의\n",
    "transform = transforms.Compose(\n",
    "    [\n",
    "        transforms.ToTensor(),\n",
    "    ]\n",
    ")"
   ]
  },
  {
   "cell_type": "markdown",
   "id": "345bb4d5",
   "metadata": {},
   "source": [
    "### STEP 2) 내장 데이터셋 로드\n",
    "\n",
    "- `FashionMNIST` 데이터셋 로드하는 예제\n"
   ]
  },
  {
   "cell_type": "markdown",
   "id": "bddf5151",
   "metadata": {},
   "source": [
    "- `root`: 데이터셋을 다운로드 받을 경로(폴더) 지정.\n",
    "- `train`: `True`로 설정된 경우 `train` 데이터셋에서 로드하며, `False`인 경우 `test` 데이터셋에서 로드\n",
    "- `download`: `True`로 설정된 경우, 인터넷으로부터 데이터셋을 다운로드 받아 지정된 `root` 디렉토리에 다운로드\n",
    "- `transform`: 이미지 `transform` 적용\n"
   ]
  },
  {
   "cell_type": "code",
   "execution_count": null,
   "id": "fa434082",
   "metadata": {},
   "outputs": [],
   "source": [
    "# train(학습용) 데이터셋 로드\n",
    "train = datasets.FashionMNIST(root='data',\n",
    "                              train=True,         # set True\n",
    "                              download=True,      # 다운로드\n",
    "                              transform=transform  # transform 적용. (0~1 로 정규화)\n",
    "                              )"
   ]
  },
  {
   "cell_type": "code",
   "execution_count": null,
   "id": "00d964a5",
   "metadata": {},
   "outputs": [],
   "source": [
    "# test(학습용) 데이터셋 로드\n",
    "test = datasets.FashionMNIST(root='data',\n",
    "                             train=False,       # set to False\n",
    "                             download=True,     # 다운로드\n",
    "                             transform=transform  # transform 적용. (0~1 로 정규화)\n",
    "                             )"
   ]
  },
  {
   "cell_type": "markdown",
   "id": "79ec39d2",
   "metadata": {},
   "source": [
    "`FashionMNIST` 데이터셋 시각화\n",
    "\n",
    "- 총 10개의 카테고리로 구성되어 있으며, `Label`은 아래 코드에서 `labels_map`에 정의되어 있습니다.\n",
    "- 출처: [zalandoresearch/fashion-mnist](https://github.com/zalandoresearch/fashion-mnist)\n"
   ]
  },
  {
   "cell_type": "code",
   "execution_count": null,
   "id": "d95b8e22",
   "metadata": {},
   "outputs": [],
   "source": [
    "import matplotlib.pyplot as plt\n",
    "\n",
    "labels_map = {\n",
    "    0: \"T-Shirt\",\n",
    "    1: \"Trouser\",\n",
    "    2: \"Pullover\",\n",
    "    3: \"Dress\",\n",
    "    4: \"Coat\",\n",
    "    5: \"Sandal\",\n",
    "    6: \"Shirt\",\n",
    "    7: \"Sneaker\",\n",
    "    8: \"Bag\",\n",
    "    9: \"Ankle Boot\",\n",
    "}\n",
    "\n",
    "figure = plt.figure(figsize=(12, 8))\n",
    "cols, rows = 8, 5\n",
    "\n",
    "for i in range(1, cols * rows + 1):\n",
    "    sample_idx = torch.randint(len(train), size=(1,)).item()\n",
    "    img, label = train[sample_idx]\n",
    "    figure.add_subplot(rows, cols, i)\n",
    "    plt.title(labels_map[label])\n",
    "    plt.axis(\"off\")\n",
    "    plt.imshow(torch.permute(img, (1, 2, 0)), cmap=\"gray\")\n",
    "plt.show()"
   ]
  },
  {
   "cell_type": "markdown",
   "id": "5ffa7009",
   "metadata": {},
   "source": [
    "### STEP 3) torch.utils.data.DataLoader로 데이터셋 로더 구성\n"
   ]
  },
  {
   "cell_type": "code",
   "execution_count": null,
   "id": "0507e65f",
   "metadata": {},
   "outputs": [],
   "source": [
    "batch_size = 32  # batch_size 지정\n",
    "num_workers = 8  # Thread 숫자 지정 (병렬 처리에 활용할 쓰레드 숫자 지정)"
   ]
  },
  {
   "cell_type": "code",
   "execution_count": null,
   "id": "d4d3317a",
   "metadata": {},
   "outputs": [],
   "source": [
    "train_loader = torch.utils.data.DataLoader(train,\n",
    "                                           batch_size=batch_size,\n",
    "                                           shuffle=True,\n",
    "                                           num_workers=num_workers)"
   ]
  },
  {
   "cell_type": "code",
   "execution_count": null,
   "id": "d08219f4",
   "metadata": {},
   "outputs": [],
   "source": [
    "test_loader = torch.utils.data.DataLoader(test,\n",
    "                                          batch_size=batch_size,\n",
    "                                          shuffle=False,\n",
    "                                          num_workers=num_workers)"
   ]
  },
  {
   "cell_type": "code",
   "execution_count": null,
   "id": "e2b59b9d",
   "metadata": {},
   "outputs": [],
   "source": []
  }
 ],
 "metadata": {
  "kernelspec": {
   "display_name": "Python 3 (ipykernel)",
   "language": "python",
   "name": "python3"
  },
  "language_info": {
   "codemirror_mode": {
    "name": "ipython",
    "version": 3
   },
   "file_extension": ".py",
   "mimetype": "text/x-python",
   "name": "python",
   "nbconvert_exporter": "python",
   "pygments_lexer": "ipython3",
   "version": "3.8.16"
  }
 },
 "nbformat": 4,
 "nbformat_minor": 5
}
