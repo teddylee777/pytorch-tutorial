{
 "cells": [
  {
   "cell_type": "markdown",
   "id": "794ad4a1",
   "metadata": {},
   "source": [
    "이번 튜토리얼에서는 \n",
    "\n",
    "**로컬 드라이브에 저장**되어 있는 데이터셋을 로드하여 이미지 데이터셋을 구성하는 방법\n",
    "\n",
    "에 대하여 알아보겠습니다.\n",
    "\n",
    "**[참고]**\n",
    "- `torchvision.transform`을 활용한 이미지 정규화는 [링크](https://teddylee777.github.io/pytorch/torchvision-transform)에서 확인해 주시기 바랍니다."
   ]
  },
  {
   "cell_type": "code",
   "execution_count": null,
   "id": "0bd10b24",
   "metadata": {},
   "outputs": [],
   "source": [
    "import numpy as np\n",
    "import matplotlib.pyplot as plt\n",
    "import torch\n",
    "from torch.utils.data import Dataset\n",
    "from torchvision import datasets, transforms"
   ]
  },
  {
   "cell_type": "markdown",
   "id": "0b83a441",
   "metadata": {},
   "source": [
    "## 로컬 디렉토리에서 Image를 로드"
   ]
  },
  {
   "cell_type": "markdown",
   "id": "1770896d",
   "metadata": {},
   "source": [
    "튜토리얼 진행을 위한 데이터셋 다운로드\n",
    "- `images` 폴더에 `rps` 데이터셋 다운로드"
   ]
  },
  {
   "cell_type": "code",
   "execution_count": null,
   "id": "90d0c744",
   "metadata": {},
   "outputs": [],
   "source": [
    "# 이미지 데이터셋 다운로드\n",
    "import urllib.request\n",
    "import zipfile\n",
    "import glob\n",
    "\n",
    "url = 'https://storage.googleapis.com/download.tensorflow.org/data/rps.zip'\n",
    "urllib.request.urlretrieve(url, 'rps.zip')\n",
    "local_zip = 'rps.zip'\n",
    "zip_ref = zipfile.ZipFile(local_zip, 'r')\n",
    "zip_ref.extractall('images/')\n",
    "zip_ref.close()\n",
    "\n",
    "print(glob.glob('images/rps/*'))"
   ]
  },
  {
   "cell_type": "markdown",
   "id": "3406f597",
   "metadata": {},
   "source": [
    "다운로드 받은 이미지는 `images`폴더 하위에 `rps` 폴더에 `rock`, `paper`, `scissors` 폴더가 생성되었으며, 각각의 폴더 밑에 가위/바위/보자기 사진 파일이 위치해 있습니다."
   ]
  },
  {
   "cell_type": "code",
   "execution_count": null,
   "id": "62890aec",
   "metadata": {},
   "outputs": [],
   "source": [
    "# rock 폴더 하위에 위치한 .png 파일 10개 출력\n",
    "glob.glob('images/rps/rock/*')[:10]"
   ]
  },
  {
   "cell_type": "markdown",
   "id": "c365f900",
   "metadata": {},
   "source": [
    "현재 `root` 디렉토리는 `images/rps` 폴더가 `root` 디렉토리입니다.\n",
    "\n",
    "간단히 도식화 해보면 다음과 같습니다.\n",
    "\n",
    "- `images/rps`\n",
    "  - `rock` 폴더\n",
    "  - `paper` 폴더\n",
    "  - `scissor` 폴더"
   ]
  },
  {
   "cell_type": "code",
   "execution_count": null,
   "id": "9f480655",
   "metadata": {},
   "outputs": [],
   "source": [
    "image_folder = datasets.ImageFolder(root='images/rps', # 루트폴터 경로 지정\n",
    "                                    transform=transforms.Compose([\n",
    "                                        transforms.ToTensor(), \n",
    "                                    ])\n",
    "                                   )"
   ]
  },
  {
   "cell_type": "markdown",
   "id": "c8196aa0",
   "metadata": {},
   "source": [
    "`image_folder` 변수에 `class_to_idx` 속성 값을 확인해보면 class에 맵핑되는 label을 확인할 수 있습니다."
   ]
  },
  {
   "cell_type": "code",
   "execution_count": null,
   "id": "23d8c3af",
   "metadata": {},
   "outputs": [],
   "source": [
    "# class to index 라벨값 확인 (추후 시각화에 활용)\n",
    "image_folder.class_to_idx"
   ]
  },
  {
   "cell_type": "code",
   "execution_count": null,
   "id": "f5f6576a",
   "metadata": {},
   "outputs": [],
   "source": [
    "train_loader = torch.utils.data.DataLoader(image_folder,         # image_folder를 지정\n",
    "                                           batch_size=32,# 배치사이즈 지정\n",
    "                                           shuffle=True,        # shuffle 여부 지정\n",
    "                                           num_workers=8)       # num_workers 지정"
   ]
  },
  {
   "cell_type": "code",
   "execution_count": null,
   "id": "d04b1cdb",
   "metadata": {},
   "outputs": [],
   "source": [
    "test_loader = torch.utils.data.DataLoader(image_folder,          # 원래는 별도의 Validation Set의 root 경로를 지정해야 한다. \n",
    "                                          batch_size=32, # 배치사이즈 지정\n",
    "                                          shuffle=False,        # shuffle 여부 지정\n",
    "                                          num_workers=8)         # num_workers 지정"
   ]
  },
  {
   "cell_type": "markdown",
   "id": "f783055c",
   "metadata": {},
   "source": [
    "1개의 배치(Batch)를 가져와서 shape를 확인하고, 시각화를 해봅니다."
   ]
  },
  {
   "cell_type": "code",
   "execution_count": null,
   "id": "b3036ccd",
   "metadata": {},
   "outputs": [],
   "source": [
    "# 1개 batch 추출\n",
    "images, labels = next(iter(train_loader))"
   ]
  },
  {
   "cell_type": "code",
   "execution_count": null,
   "id": "964fc93d",
   "metadata": {},
   "outputs": [],
   "source": [
    "# images, labels에 각각 32개의 batch가 로드되어 있습니다.\n",
    "# images는 300 X 300 사이즈 RGB 이미지 32장이 1개 batch로 구성되어 있습니다.\n",
    "images.shape, labels.shape"
   ]
  },
  {
   "cell_type": "markdown",
   "id": "0320fed4",
   "metadata": {},
   "source": [
    "`RPS` 데이터셋을 시각화 합니다."
   ]
  },
  {
   "cell_type": "code",
   "execution_count": null,
   "id": "7df036c5",
   "metadata": {},
   "outputs": [],
   "source": [
    "# ImageFolder의 속성 값인 class_to_idx를 할당\n",
    "labels_map = {v:k for k, v in image_folder.class_to_idx.items()}\n",
    "\n",
    "figure = plt.figure(figsize=(12, 8))\n",
    "cols, rows = 8, 5\n",
    "\n",
    "for i in range(1, cols * rows + 1):\n",
    "    sample_idx = torch.randint(len(images), size=(1,)).item()\n",
    "    img, label = images[sample_idx], labels[sample_idx].item()\n",
    "    figure.add_subplot(rows, cols, i)\n",
    "    plt.title(labels_map[label])\n",
    "    plt.axis(\"off\")\n",
    "    plt.imshow(torch.permute(img, (1, 2, 0)))\n",
    "plt.show()"
   ]
  }
 ],
 "metadata": {
  "kernelspec": {
   "display_name": "Python 3 (ipykernel)",
   "language": "python",
   "name": "python3"
  },
  "language_info": {
   "codemirror_mode": {
    "name": "ipython",
    "version": 3
   },
   "file_extension": ".py",
   "mimetype": "text/x-python",
   "name": "python",
   "nbconvert_exporter": "python",
   "pygments_lexer": "ipython3",
   "version": "3.8.16"
  }
 },
 "nbformat": 4,
 "nbformat_minor": 5
}
