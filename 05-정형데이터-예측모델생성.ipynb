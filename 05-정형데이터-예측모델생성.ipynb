{
 "cells": [
  {
   "cell_type": "markdown",
   "id": "788eb9d9",
   "metadata": {},
   "source": [
    "## 샘플 데이터셋 로드\n"
   ]
  },
  {
   "cell_type": "code",
   "execution_count": null,
   "id": "a7e4b88f",
   "metadata": {},
   "outputs": [],
   "source": [
    "import pandas as pd\n",
    "import matplotlib.pyplot as plt\n",
    "import warnings\n",
    "from sklearn.datasets import load_boston\n",
    "import torch\n",
    "\n",
    "warnings.filterwarnings(\"ignore\")"
   ]
  },
  {
   "cell_type": "code",
   "execution_count": null,
   "id": "259799be",
   "metadata": {},
   "outputs": [],
   "source": [
    "# sklearn.datasets 내장 데이터셋인 보스톤 주택 가격 데이터셋 로드\n",
    "data = load_boston()"
   ]
  },
  {
   "cell_type": "markdown",
   "id": "48464fe4",
   "metadata": {},
   "source": [
    "**컬럼 소개**\n",
    "\n",
    "속성 수 : 13\n",
    "\n",
    "- **CRIM**: 자치시 별 범죄율\n",
    "- **ZN**: 25,000 평방 피트를 초과하는 주거용 토지의 비율\n",
    "- **INDUS**: 비소매(non-retail) 비즈니스 토지 비율\n",
    "- **CHAS**: 찰스 강과 인접한 경우에 대한 더비 변수 (1= 인접, 0= 인접하지 않음)\n",
    "- **NOX**: 산화 질소 농도 (10ppm)\n",
    "- **RM**:주택당 평균 객실 수\n",
    "- **AGE**: 1940 년 이전에 건축된 자가소유 점유 비율\n",
    "- **DIS**: 5 개의 보스턴 고용 센터까지의 가중 거리\n",
    "- **RAD**: 고속도로 접근성 지수\n",
    "- **TAX**: 10,000 달러 당 전체 가치 재산 세율\n",
    "- **PTRATIO** 도시별 학생-교사 비율\n",
    "- **B**: 인구당 흑인의 비율. 1000(Bk - 0.63)^2, (Bk는 흑인의 비율을 뜻함)\n",
    "- **LSTAT**: 하위 계층의 비율\n",
    "- **target**: 자가 주택의 중앙값 (1,000 달러 단위)\n"
   ]
  },
  {
   "cell_type": "code",
   "execution_count": null,
   "id": "14e162d2",
   "metadata": {},
   "outputs": [],
   "source": [
    "# 데이터프레임 생성. 504개의 행. Feature: 13개, target은 예측 변수(주택가격)\n",
    "df = pd.DataFrame(data[\"data\"], columns=data[\"feature_names\"])\n",
    "df[\"target\"] = data[\"target\"]\n",
    "print(df.shape)\n",
    "df.head()"
   ]
  },
  {
   "cell_type": "markdown",
   "id": "080f151d",
   "metadata": {},
   "source": [
    "## 데이터셋 분할 (x, y)\n"
   ]
  },
  {
   "cell_type": "code",
   "execution_count": null,
   "id": "f08f2731",
   "metadata": {},
   "outputs": [],
   "source": [
    "# feature(x), label(y)로 분할\n",
    "x = df.drop(\"target\", 1)\n",
    "y = df[\"target\"]\n",
    "\n",
    "# feature 변수의 개수 지정\n",
    "NUM_FEATURES = len(x.columns)"
   ]
  },
  {
   "cell_type": "markdown",
   "id": "832fbcb8",
   "metadata": {},
   "source": [
    "## 데이터 정규화\n",
    "\n",
    "- `sklearn.preprocessing 의 `StandardScaler`나 `MinMaxScaler`로 특성(feature) 값을 표준화 혹은 정규화를 진행합니다.\n"
   ]
  },
  {
   "cell_type": "code",
   "execution_count": null,
   "id": "1dfb5d6b",
   "metadata": {},
   "outputs": [],
   "source": [
    "from sklearn.preprocessing import StandardScaler\n",
    "\n",
    "scaler = StandardScaler()\n",
    "x_scaled = scaler.fit_transform(x)\n",
    "x_scaled[:5]"
   ]
  },
  {
   "cell_type": "markdown",
   "id": "b19b385d",
   "metadata": {},
   "source": [
    "## PyTorch를 활용하여 회귀(regression) 예측\n"
   ]
  },
  {
   "cell_type": "markdown",
   "id": "a97297ed",
   "metadata": {},
   "source": [
    "random 텐서 `w`, 와 `b`를 생성합니다.\n",
    "\n",
    "`w`의 `Size()`는 `13개`입니다. 이유는 특성(feature) 변수의 개수와 동일해야 합니다.\n"
   ]
  },
  {
   "cell_type": "code",
   "execution_count": null,
   "id": "b41348a1",
   "metadata": {},
   "outputs": [],
   "source": [
    "# random w, b 생성\n",
    "w = torch.randn(NUM_FEATURES, requires_grad=True, dtype=torch.float64)\n",
    "b = torch.randn(1, requires_grad=True, dtype=torch.float64)\n",
    "\n",
    "# w의 Size()는 13, b는 1개 생성\n",
    "w.shape, b.shape"
   ]
  },
  {
   "cell_type": "markdown",
   "id": "2ebeb3a2",
   "metadata": {},
   "source": [
    "손실함수(Mean Squared Error)를 정의 합니다.\n"
   ]
  },
  {
   "cell_type": "code",
   "execution_count": null,
   "id": "26c73648",
   "metadata": {},
   "outputs": [],
   "source": [
    "# Mean Squared Error(MSE) 오차 정의\n",
    "def loss_fn(y_true, y_pred): return ((y_true - y_pred)**2).mean()"
   ]
  },
  {
   "cell_type": "markdown",
   "id": "4fc409ef",
   "metadata": {},
   "source": [
    "`x`, `y`를 tensor로 변환합니다.\n"
   ]
  },
  {
   "cell_type": "code",
   "execution_count": null,
   "id": "52ce6f8c",
   "metadata": {},
   "outputs": [],
   "source": [
    "x = torch.tensor(x_scaled)\n",
    "y = torch.tensor(y.values)\n",
    "\n",
    "x.shape, y.shape"
   ]
  },
  {
   "cell_type": "markdown",
   "id": "dc2be1ef",
   "metadata": {},
   "source": [
    "단순 선형회귀 생성(simple linear regression)\n"
   ]
  },
  {
   "cell_type": "code",
   "execution_count": null,
   "id": "b5f0869e",
   "metadata": {},
   "outputs": [],
   "source": [
    "y_hat = torch.matmul(x, w)\n",
    "print(y_hat.shape)\n",
    "\n",
    "# y_hat 10개 출력\n",
    "y_hat[:10].data.numpy()"
   ]
  },
  {
   "cell_type": "markdown",
   "id": "9b0b96b1",
   "metadata": {},
   "source": [
    "## 경사하강법을 활용한 회귀 예측\n"
   ]
  },
  {
   "cell_type": "code",
   "execution_count": null,
   "id": "8527ff71",
   "metadata": {},
   "outputs": [],
   "source": [
    "# 최대 반복 횟수 정의\n",
    "num_epoch = 20000\n",
    "\n",
    "# 학습율 (learning_rate)\n",
    "learning_rate = 5e-4\n",
    "\n",
    "# random w, b 생성\n",
    "w = torch.randn(NUM_FEATURES, requires_grad=True, dtype=torch.float64)\n",
    "b = torch.randn(1, requires_grad=True, dtype=torch.float64)\n",
    "\n",
    "# loss, w, b 기록하기 위한 list 정의\n",
    "losses = []\n",
    "\n",
    "for epoch in range(num_epoch):\n",
    "    # Affine Function\n",
    "    y_hat = torch.matmul(x, w) + b\n",
    "\n",
    "    # 손실(loss) 계산\n",
    "    loss = loss_fn(y, y_hat)\n",
    "\n",
    "    # 손실이 20 보다 작으면 break 합니다.\n",
    "    if loss < 20:\n",
    "        break\n",
    "\n",
    "    # w, b의 미분 값인 grad 확인시 다음 미분 계산 값은 None이 return 됩니다.\n",
    "    # 이러한 현상을 방지하기 위하여 retain_grad()를 loss.backward() 이전에 호출해 줍니다.\n",
    "    w.retain_grad()\n",
    "    b.retain_grad()\n",
    "\n",
    "    # 미분 계산\n",
    "    loss.backward()\n",
    "\n",
    "    # 경사하강법 계산 및 적용\n",
    "    # w에 learning_rate * (그라디언트 w) 를 차감합니다.\n",
    "    w = w - learning_rate * w.grad\n",
    "    # b에 learning_rate * (그라디언트 b) 를 차감합니다.\n",
    "    b = b - learning_rate * b.grad\n",
    "\n",
    "    # 계산된 loss, w, b를 저장합니다.\n",
    "    losses.append(loss.item())\n",
    "\n",
    "    if epoch % 1000 == 0:\n",
    "        print(\"{0:05d} loss = {1:.5f}\".format(epoch, loss.item()))\n",
    "\n",
    "print(\"----\" * 15)\n",
    "print(\"{0:05d} loss = {1:.5f}\".format(epoch, loss.item()))"
   ]
  },
  {
   "cell_type": "markdown",
   "id": "4f025e7a",
   "metadata": {},
   "source": [
    "## weight 출력\n",
    "\n",
    "- 음수: 종속변수(주택가격)에 대한 반비례\n",
    "- 양수: 종속변수(주택가격)에 대한 정비례\n",
    "- 회귀계수:\n",
    "  - 계수의 값이 커질 수록 종속변수(주택가격)에 더 크게 영향을 미침을 의미\n",
    "  - 계수의 값이 0에 가깝다면 종속변수(주택가격)에 영향력이 없음을 의미\n"
   ]
  },
  {
   "cell_type": "code",
   "execution_count": null,
   "id": "758d6c49",
   "metadata": {},
   "outputs": [],
   "source": [
    "pd.DataFrame(list(zip(df.drop('target', 1).columns, w.data.numpy())), columns=['features', 'weights']) \\\n",
    "    .sort_values('weights', ignore_index=True)"
   ]
  },
  {
   "cell_type": "code",
   "execution_count": null,
   "id": "0949cf69",
   "metadata": {},
   "outputs": [],
   "source": [
    "# 전체 loss 에 대한 변화량 시각화\n",
    "plt.figure(figsize=(14, 6))\n",
    "plt.plot(losses[:500], c=\"darkviolet\", linestyle=\":\")\n",
    "\n",
    "plt.title(\"Losses over epoches\", fontsize=15)\n",
    "plt.xlabel(\"Epochs\")\n",
    "plt.ylabel(\"Error\")\n",
    "plt.show()"
   ]
  }
 ],
 "metadata": {
  "kernelspec": {
   "display_name": "Python 3 (ipykernel)",
   "language": "python",
   "name": "python3"
  },
  "language_info": {
   "codemirror_mode": {
    "name": "ipython",
    "version": 3
   },
   "file_extension": ".py",
   "mimetype": "text/x-python",
   "name": "python",
   "nbconvert_exporter": "python",
   "pygments_lexer": "ipython3",
   "version": "3.8.16"
  }
 },
 "nbformat": 4,
 "nbformat_minor": 5
}
