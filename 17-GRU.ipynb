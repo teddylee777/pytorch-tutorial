{
 "cells": [
  {
   "cell_type": "code",
   "execution_count": null,
   "id": "eec5dc56",
   "metadata": {},
   "outputs": [],
   "source": [
    "import torch\n",
    "import torch.nn as nn"
   ]
  },
  {
   "cell_type": "markdown",
   "id": "5fe4b897",
   "metadata": {},
   "source": [
    "## GRU\n"
   ]
  },
  {
   "cell_type": "markdown",
   "id": "b1eafadd",
   "metadata": {},
   "source": [
    "- `input_size`: input `x`에 대한 features의 수\n",
    "- `hidden_size`: hidden state의 features의 수\n",
    "- `num_layers`: GRU을 스택킹(stacking)하는 수\n",
    "- `batch_first`: 입출력 텐서의 형태가 다음과 같음. 기본값은 `False`\n",
    "  - `True`로 설정시 `(batch, seq, feature)`\n",
    "  - `False`로 설정시 `(seq, batch, feature)`\n",
    "  - (주의사항) `hidden_state`에는 영향을 미치지 않습니다.\n",
    "- `bidirectional`: 양방향 GRU 구현 여부. 기본값은 `False`\n"
   ]
  },
  {
   "cell_type": "code",
   "execution_count": null,
   "id": "8bbad737",
   "metadata": {},
   "outputs": [],
   "source": [
    "gru = nn.GRU(input_size=10, hidden_size=32, num_layers=1,\n",
    "             batch_first=True, bidirectional=False)\n",
    "gru"
   ]
  },
  {
   "cell_type": "markdown",
   "id": "6f8377bf",
   "metadata": {},
   "source": [
    "## 출력에 대한 이해\n"
   ]
  },
  {
   "cell_type": "markdown",
   "id": "2381ebb4",
   "metadata": {},
   "source": [
    "> 입력에 활용할 텐서 생성\n"
   ]
  },
  {
   "cell_type": "code",
   "execution_count": null,
   "id": "55c65923",
   "metadata": {},
   "outputs": [],
   "source": [
    "inputs = torch.zeros(1, 35, 10)\n",
    "print(inputs.shape)\n",
    "# batch_size, sequence_length, number of features"
   ]
  },
  {
   "cell_type": "code",
   "execution_count": null,
   "id": "4f443fdb",
   "metadata": {},
   "outputs": [],
   "source": [
    "outputs, hidden_state = gru(inputs)\n",
    "print(outputs.shape, hidden_state.shape)"
   ]
  },
  {
   "cell_type": "markdown",
   "id": "8af3dc7e",
   "metadata": {},
   "source": [
    "1. `outputs` 의 shape에 대한 이해\n",
    "\n",
    "- `[1, 35, 32]` 형태를 가집니다. 순서대로 `(batch_size, sequence_length, hidden_size(32) x bidirectional(1))` 입니다.\n",
    "\n",
    "2. `hidden_state` 의 shape에 대한 이해\n",
    "\n",
    "- `[1, 1, 32]` 형태를 가집니다. 순서대로 `(Bidirectional(1) x number of layers(1), batch_size, hidden_size(32))` 입니다.\n"
   ]
  },
  {
   "cell_type": "markdown",
   "id": "579b8fbb",
   "metadata": {},
   "source": [
    "## Stacking GRU\n",
    "\n",
    "- GRU를 겹층으로 쌓아올리는 것을 Stacking이라고 합니다. 이렇게 쌓아올렸을 때는 결과 shape가 달라지게 됩니다.\n",
    "- `num_layers`에 쌓고자 하는 층의 개수를 입력합니다.\n"
   ]
  },
  {
   "cell_type": "code",
   "execution_count": null,
   "id": "9327e189",
   "metadata": {},
   "outputs": [],
   "source": [
    "gru = nn.GRU(input_size=10, hidden_size=32, num_layers=2,\n",
    "             batch_first=True, bidirectional=False)\n",
    "gru"
   ]
  },
  {
   "cell_type": "code",
   "execution_count": null,
   "id": "bbec147b",
   "metadata": {},
   "outputs": [],
   "source": [
    "inputs = torch.zeros(1, 35, 10)\n",
    "print(inputs.shape)\n",
    "# batch_size, sequence_length, number of features"
   ]
  },
  {
   "cell_type": "code",
   "execution_count": null,
   "id": "81d8979b",
   "metadata": {},
   "outputs": [],
   "source": [
    "outputs, hidden_state = gru(inputs)\n",
    "print(outputs.shape, hidden_state.shape)"
   ]
  },
  {
   "cell_type": "markdown",
   "id": "232e45c1",
   "metadata": {},
   "source": [
    "1. `outputs` 의 shape에 대한 이해\n",
    "\n",
    "- `[1, 35, 32]` 형태를 가집니다. 순서대로 `(batch_size, sequence_length, hidden_size(32) x bidirectional(1))` 입니다.\n",
    "\n",
    "2. `hidden_state` 의 shape에 대한 이해\n",
    "\n",
    "- `[2, 1, 32]` 형태를 가집니다. 순서대로 `(Bidirectional(1) x number of layers(2), batch_size, hidden_size(32))` 입니다.\n"
   ]
  },
  {
   "cell_type": "markdown",
   "id": "cc2d75af",
   "metadata": {},
   "source": [
    "## Bidirectional GRU\n",
    "\n",
    "- 양방향 GRU을 사용하기 위해서는 `bidirectional=True`로 설정합니다.\n"
   ]
  },
  {
   "cell_type": "code",
   "execution_count": null,
   "id": "88dc93d9",
   "metadata": {},
   "outputs": [],
   "source": [
    "gru = nn.GRU(input_size=10, hidden_size=32, num_layers=2,\n",
    "             batch_first=True, bidirectional=True)\n",
    "gru"
   ]
  },
  {
   "cell_type": "code",
   "execution_count": null,
   "id": "c1aed9f8",
   "metadata": {},
   "outputs": [],
   "source": [
    "inputs = torch.zeros(1, 35, 10)\n",
    "print(inputs.shape)\n",
    "# batch_size, sequence_length, number of features"
   ]
  },
  {
   "cell_type": "code",
   "execution_count": null,
   "id": "145fbc2e",
   "metadata": {},
   "outputs": [],
   "source": [
    "outputs, hidden_state = gru(inputs)\n",
    "print(outputs.shape, hidden_state.shape)"
   ]
  },
  {
   "cell_type": "markdown",
   "id": "f4943fb7",
   "metadata": {},
   "source": [
    "1. `outputs` 의 shape에 대한 이해\n",
    "\n",
    "- `[1, 35, 64]` 형태를 가집니다. 순서대로 `(batch_size, sequence_length, hidden_size(32) x bidirectional(2))` 입니다.\n",
    "\n",
    "2. `hidden_state` 의 shape에 대한 이해\n",
    "\n",
    "- `[4, 1, 32]` 형태를 가집니다. 순서대로 `(Bidirectional(2) x number of layers(2), batch_size, hidden_size(32))` 입니다.\n"
   ]
  }
 ],
 "metadata": {
  "kernelspec": {
   "display_name": "Python 3 (ipykernel)",
   "language": "python",
   "name": "python3"
  },
  "language_info": {
   "codemirror_mode": {
    "name": "ipython",
    "version": 3
   },
   "file_extension": ".py",
   "mimetype": "text/x-python",
   "name": "python",
   "nbconvert_exporter": "python",
   "pygments_lexer": "ipython3",
   "version": "3.8.15"
  }
 },
 "nbformat": 4,
 "nbformat_minor": 5
}
