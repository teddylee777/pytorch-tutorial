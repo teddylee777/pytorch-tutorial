{
 "cells": [
  {
   "cell_type": "code",
   "execution_count": null,
   "id": "efb57e33",
   "metadata": {},
   "outputs": [],
   "source": [
    "import numpy as np\n",
    "\n",
    "\n",
    "class EarlyStopping:\n",
    "    def __init__(self, patience=3, delta=0.0, mode='min', verbose=True):\n",
    "        \"\"\"\n",
    "        patience (int): loss or score가 개선된 후 기다리는 기간. default: 3\n",
    "        delta  (float): 개선시 인정되는 최소 변화 수치. default: 0.0\n",
    "        mode     (str): 개선시 최소/최대값 기준 선정('min' or 'max'). default: 'min'.\n",
    "        verbose (bool): 메시지 출력. default: True\n",
    "        \"\"\"\n",
    "        self.early_stop = False\n",
    "        self.patience = patience\n",
    "        self.verbose = verbose\n",
    "        self.counter = 0\n",
    "\n",
    "        self.best_score = np.Inf if mode == 'min' else 0\n",
    "        self.mode = mode\n",
    "        self.delta = delta\n",
    "\n",
    "    def __call__(self, score):\n",
    "\n",
    "        if self.best_score is None:\n",
    "            self.best_score = score\n",
    "            self.counter = 0\n",
    "        elif self.mode == 'min':\n",
    "            if score < (self.best_score - self.delta):\n",
    "                self.counter = 0\n",
    "                self.best_score = score\n",
    "                if self.verbose:\n",
    "                    print(\n",
    "                        f'[EarlyStopping] (Update) Best Score: {self.best_score:.5f}')\n",
    "            else:\n",
    "                self.counter += 1\n",
    "                if self.verbose:\n",
    "                    print(f'[EarlyStopping] (Patience) {self.counter}/{self.patience}, '\n",
    "                          f'Best: {self.best_score:.5f}'\n",
    "                          f', Current: {score:.5f}, Delta: {np.abs(self.best_score - score):.5f}')\n",
    "\n",
    "        elif self.mode == 'max':\n",
    "            if score > (self.best_score + self.delta):\n",
    "                self.counter = 0\n",
    "                self.best_score = score\n",
    "                if self.verbose:\n",
    "                    print(\n",
    "                        f'[EarlyStopping] (Update) Best Score: {self.best_score:.5f}')\n",
    "            else:\n",
    "                self.counter += 1\n",
    "                if self.verbose:\n",
    "                    print(f'[EarlyStopping] (Patience) {self.counter}/{self.patience}, '\n",
    "                          f'Best: {self.best_score:.5f}'\n",
    "                          f', Current: {score:.5f}, Delta: {np.abs(self.best_score - score):.5f}')\n",
    "\n",
    "        if self.counter >= self.patience:\n",
    "            if self.verbose:\n",
    "                print(\n",
    "                    f'[EarlyStop Triggered] Best Score: {self.best_score:.5f}')\n",
    "            # Early Stop\n",
    "            self.early_stop = True\n",
    "        else:\n",
    "            # Continue\n",
    "            self.early_stop = False"
   ]
  },
  {
   "cell_type": "code",
   "execution_count": null,
   "id": "fe035d0f",
   "metadata": {},
   "outputs": [],
   "source": [
    "samples = [\n",
    "    0.1,  # save\n",
    "    0.25,  # patience #1\n",
    "    0.33,  # patience #2\n",
    "    0.09,  # save\n",
    "    0.4,  # patience #1\n",
    "    0.08,  # save\n",
    "    0.5,  # patience #1\n",
    "    0.55,  # patience #2\n",
    "    0.6,  # patience #3 <== Early Stop\n",
    "    0.05,\n",
    "    0.89,\n",
    "    0.99\n",
    "]"
   ]
  },
  {
   "cell_type": "code",
   "execution_count": null,
   "id": "de8aba22",
   "metadata": {},
   "outputs": [],
   "source": [
    "es = EarlyStopping(patience=3,\n",
    "                   delta=0,\n",
    "                   mode='min',\n",
    "                   verbose=True\n",
    "                   )"
   ]
  },
  {
   "cell_type": "code",
   "execution_count": null,
   "id": "1200bb10",
   "metadata": {},
   "outputs": [],
   "source": [
    "for loss in samples:\n",
    "    es(loss)\n",
    "    if es.early_stop:\n",
    "        break"
   ]
  },
  {
   "cell_type": "markdown",
   "id": "80c5ef16",
   "metadata": {},
   "source": [
    "## patience\n",
    "\n",
    "- loss or score가 개선된 후 기다리는 기간\n",
    "- default: `3`\n"
   ]
  },
  {
   "cell_type": "code",
   "execution_count": null,
   "id": "583299c9",
   "metadata": {},
   "outputs": [],
   "source": [
    "samples = [\n",
    "    0.1,  # save\n",
    "    0.25,  # patience #1\n",
    "    0.33,  # patience #2\n",
    "    0.09,  # save\n",
    "    0.4,  # patience #1\n",
    "    0.08,  # save\n",
    "    0.5,  # patience #1\n",
    "    0.55,  # patience #2\n",
    "    0.6,  # patience #3\n",
    "    0.05,  # save\n",
    "    0.89,  # patience #1\n",
    "    0.99  # patience #2\n",
    "]"
   ]
  },
  {
   "cell_type": "code",
   "execution_count": null,
   "id": "6c8dbeb6",
   "metadata": {},
   "outputs": [],
   "source": [
    "es = EarlyStopping(patience=5,\n",
    "                   delta=0,\n",
    "                   mode='min',\n",
    "                   verbose=True\n",
    "                   )"
   ]
  },
  {
   "cell_type": "code",
   "execution_count": null,
   "id": "47b131a6",
   "metadata": {},
   "outputs": [],
   "source": [
    "for loss in samples:\n",
    "    es(loss)\n",
    "    if es.early_stop:\n",
    "        break"
   ]
  },
  {
   "cell_type": "markdown",
   "id": "02b23432",
   "metadata": {},
   "source": [
    "## delta\n",
    "\n",
    "- 개선시 인정되는 **최소 변화 수치**\n",
    "\n",
    "- default: `0.0`\n"
   ]
  },
  {
   "cell_type": "code",
   "execution_count": null,
   "id": "8b8dabee",
   "metadata": {},
   "outputs": [],
   "source": [
    "samples = [\n",
    "    0.1,  # save\n",
    "    0.25,  # patience #1\n",
    "    0.33,  # patience #2\n",
    "    0.09,  # 개선은 되었으나 delta=0.02 이상 줄이지 못하였으므로.. Early Stop!\n",
    "    0.4,\n",
    "    0.08,\n",
    "    0.5,\n",
    "    0.55,\n",
    "    0.6,\n",
    "    0.05,\n",
    "    0.89,\n",
    "    0.99\n",
    "]"
   ]
  },
  {
   "cell_type": "code",
   "execution_count": null,
   "id": "6661cd3e",
   "metadata": {},
   "outputs": [],
   "source": [
    "es = EarlyStopping(patience=3,\n",
    "                   delta=0.02,\n",
    "                   mode='min',\n",
    "                   verbose=True\n",
    "                   )"
   ]
  },
  {
   "cell_type": "code",
   "execution_count": null,
   "id": "ae515b70",
   "metadata": {},
   "outputs": [],
   "source": [
    "for loss in samples:\n",
    "    es(loss)\n",
    "    if es.early_stop:\n",
    "        break"
   ]
  },
  {
   "cell_type": "markdown",
   "id": "f1b5a557",
   "metadata": {},
   "source": [
    "## mode\n",
    "\n",
    "- 개선시 최소/최대값 기준 선정\n",
    "- 선택 가능 옵션: `'min'`, `'max'`\n",
    "- default: `'min'`\n"
   ]
  },
  {
   "cell_type": "code",
   "execution_count": null,
   "id": "6d4fcf57",
   "metadata": {},
   "outputs": [],
   "source": [
    "samples = [\n",
    "    0.1,  # save\n",
    "    0.25,  # save\n",
    "    0.33,  # save\n",
    "    0.09,  # patience #1\n",
    "    0.4,  # save\n",
    "    0.08,  # patience #1\n",
    "    0.5,  # save\n",
    "    0.55,  # save\n",
    "    0.6,  # save\n",
    "    0.05,  # patience #1\n",
    "    0.89,  # save\n",
    "    0.99  # save\n",
    "]"
   ]
  },
  {
   "cell_type": "code",
   "execution_count": null,
   "id": "5755f387",
   "metadata": {},
   "outputs": [],
   "source": [
    "es = EarlyStopping(patience=3,\n",
    "                   delta=0.0,\n",
    "                   mode='max',\n",
    "                   verbose=True\n",
    "                   )"
   ]
  },
  {
   "cell_type": "code",
   "execution_count": null,
   "id": "502ede5b",
   "metadata": {},
   "outputs": [],
   "source": [
    "for loss in samples:\n",
    "    es(loss)\n",
    "    if es.early_stop:\n",
    "        break"
   ]
  }
 ],
 "metadata": {
  "kernelspec": {
   "display_name": "Python 3 (ipykernel)",
   "language": "python",
   "name": "python3"
  },
  "language_info": {
   "codemirror_mode": {
    "name": "ipython",
    "version": 3
   },
   "file_extension": ".py",
   "mimetype": "text/x-python",
   "name": "python",
   "nbconvert_exporter": "python",
   "pygments_lexer": "ipython3",
   "version": "3.9.18"
  }
 },
 "nbformat": 4,
 "nbformat_minor": 5
}
