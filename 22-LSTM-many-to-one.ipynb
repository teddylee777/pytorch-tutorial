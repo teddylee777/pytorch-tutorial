{
 "cells": [
  {
   "cell_type": "code",
   "execution_count": 45,
   "id": "dba8f51b",
   "metadata": {},
   "outputs": [],
   "source": [
    "import pandas as pd\n",
    "import numpy as np\n",
    "import matplotlib.pyplot as plt\n",
    "import seaborn as sns\n",
    "import warnings\n",
    "import random\n",
    "import os\n",
    "import torch\n",
    "from tqdm import tqdm\n",
    "\n",
    "pd.set_option('display.max_colwidth', None)\n",
    "\n",
    "# 1,000 단위 표기\n",
    "pd.options.display.float_format = '{:,.3f}'.format\n",
    "\n",
    "# Unicode warning 제거 (폰트 관련 경고메시지)\n",
    "plt.rcParams['axes.unicode_minus']=False\n",
    "\n",
    "# 그래프 출력 사이즈 설정\n",
    "plt.rcParams[\"figure.figsize\"] = (10, 6)\n",
    "\n",
    "# 경고 무시\n",
    "warnings.filterwarnings('ignore')\n",
    "\n",
    "# Data 경로 설정\n",
    "DATA_DIR = 'data'\n",
    "\n",
    "# 시드설정\n",
    "SEED = 123\n",
    "\n",
    "def seed_everything(seed=SEED):\n",
    "    random.seed(seed)\n",
    "    np.random.seed(seed)\n",
    "    os.environ[\"PYTHONHASHSEED\"] = str(seed)\n",
    "    torch.manual_seed(seed)\n",
    "    torch.cuda.manual_seed(seed)\n",
    "    torch.backends.cudnn.deterministic = True\n",
    "    torch.backends.cudnn.benchmark = True\n",
    "    \n",
    "seed_everything(SEED)\n",
    "\n",
    "%matplotlib inline"
   ]
  },
  {
   "cell_type": "code",
   "execution_count": 2,
   "id": "0fc7a5f6",
   "metadata": {},
   "outputs": [
    {
     "data": {
      "text/html": [
       "<div>\n",
       "<style scoped>\n",
       "    .dataframe tbody tr th:only-of-type {\n",
       "        vertical-align: middle;\n",
       "    }\n",
       "\n",
       "    .dataframe tbody tr th {\n",
       "        vertical-align: top;\n",
       "    }\n",
       "\n",
       "    .dataframe thead th {\n",
       "        text-align: right;\n",
       "    }\n",
       "</style>\n",
       "<table border=\"1\" class=\"dataframe\">\n",
       "  <thead>\n",
       "    <tr style=\"text-align: right;\">\n",
       "      <th></th>\n",
       "      <th>Open</th>\n",
       "      <th>High</th>\n",
       "      <th>Low</th>\n",
       "      <th>Close</th>\n",
       "      <th>Adj Close</th>\n",
       "      <th>Volume</th>\n",
       "    </tr>\n",
       "    <tr>\n",
       "      <th>Date</th>\n",
       "      <th></th>\n",
       "      <th></th>\n",
       "      <th></th>\n",
       "      <th></th>\n",
       "      <th></th>\n",
       "      <th></th>\n",
       "    </tr>\n",
       "  </thead>\n",
       "  <tbody>\n",
       "    <tr>\n",
       "      <th>2014-09-17</th>\n",
       "      <td>465.864</td>\n",
       "      <td>468.174</td>\n",
       "      <td>452.422</td>\n",
       "      <td>457.334</td>\n",
       "      <td>457.334</td>\n",
       "      <td>21056800</td>\n",
       "    </tr>\n",
       "    <tr>\n",
       "      <th>2014-09-18</th>\n",
       "      <td>456.860</td>\n",
       "      <td>456.860</td>\n",
       "      <td>413.104</td>\n",
       "      <td>424.440</td>\n",
       "      <td>424.440</td>\n",
       "      <td>34483200</td>\n",
       "    </tr>\n",
       "    <tr>\n",
       "      <th>2014-09-19</th>\n",
       "      <td>424.103</td>\n",
       "      <td>427.835</td>\n",
       "      <td>384.532</td>\n",
       "      <td>394.796</td>\n",
       "      <td>394.796</td>\n",
       "      <td>37919700</td>\n",
       "    </tr>\n",
       "    <tr>\n",
       "      <th>2014-09-20</th>\n",
       "      <td>394.673</td>\n",
       "      <td>423.296</td>\n",
       "      <td>389.883</td>\n",
       "      <td>408.904</td>\n",
       "      <td>408.904</td>\n",
       "      <td>36863600</td>\n",
       "    </tr>\n",
       "    <tr>\n",
       "      <th>2014-09-21</th>\n",
       "      <td>408.085</td>\n",
       "      <td>412.426</td>\n",
       "      <td>393.181</td>\n",
       "      <td>398.821</td>\n",
       "      <td>398.821</td>\n",
       "      <td>26580100</td>\n",
       "    </tr>\n",
       "  </tbody>\n",
       "</table>\n",
       "</div>"
      ],
      "text/plain": [
       "              Open    High     Low   Close  Adj Close    Volume\n",
       "Date                                                           \n",
       "2014-09-17 465.864 468.174 452.422 457.334    457.334  21056800\n",
       "2014-09-18 456.860 456.860 413.104 424.440    424.440  34483200\n",
       "2014-09-19 424.103 427.835 384.532 394.796    394.796  37919700\n",
       "2014-09-20 394.673 423.296 389.883 408.904    408.904  36863600\n",
       "2014-09-21 408.085 412.426 393.181 398.821    398.821  26580100"
      ]
     },
     "execution_count": 2,
     "metadata": {},
     "output_type": "execute_result"
    }
   ],
   "source": [
    "import FinanceDataReader as fdr\n",
    "\n",
    "df = fdr.DataReader('BTC/USD')\n",
    "df.head()"
   ]
  },
  {
   "cell_type": "code",
   "execution_count": 63,
   "id": "87fc0120",
   "metadata": {},
   "outputs": [
    {
     "data": {
      "text/plain": [
       "Date\n",
       "2014-09-17      457.334\n",
       "2014-09-18      424.440\n",
       "2014-09-19      394.796\n",
       "2014-09-20      408.904\n",
       "2014-09-21      398.821\n",
       "                ...    \n",
       "2023-06-29   30,445.352\n",
       "2023-06-30   30,477.252\n",
       "2023-07-01   30,590.078\n",
       "2023-07-02   30,620.770\n",
       "2023-07-03   30,747.822\n",
       "Name: Close, Length: 3212, dtype: float64"
      ]
     },
     "execution_count": 63,
     "metadata": {},
     "output_type": "execute_result"
    }
   ],
   "source": [
    "df['Close']"
   ]
  },
  {
   "cell_type": "code",
   "execution_count": 64,
   "id": "fb3f59d6",
   "metadata": {},
   "outputs": [
    {
     "data": {
      "text/plain": [
       "array([[0.00414359],\n",
       "       [0.00365546],\n",
       "       [0.00321557],\n",
       "       [0.00342492],\n",
       "       [0.0032753 ]])"
      ]
     },
     "execution_count": 64,
     "metadata": {},
     "output_type": "execute_result"
    }
   ],
   "source": [
    "from sklearn.preprocessing import MinMaxScaler\n",
    "\n",
    "scaler = MinMaxScaler()\n",
    "series = scaler.fit_transform(df['Close'].values.reshape(-1, 1))\n",
    "series[:5]"
   ]
  },
  {
   "cell_type": "markdown",
   "id": "f026942c",
   "metadata": {},
   "source": [
    "## Windowed Dataset"
   ]
  },
  {
   "cell_type": "code",
   "execution_count": 204,
   "id": "26b6751e",
   "metadata": {},
   "outputs": [],
   "source": [
    "N_PREDICTIONS = 1\n",
    "WINDOW_SIZE = 30"
   ]
  },
  {
   "cell_type": "code",
   "execution_count": 205,
   "id": "454765f1",
   "metadata": {},
   "outputs": [],
   "source": [
    "def make_dataset(series, window_size=WINDOW_SIZE, n_predictions=N_PREDICTIONS):\n",
    "    Xs = []\n",
    "    Ys = []\n",
    "    for i in range(len(series) - window_size - n_predictions +1):\n",
    "        Xs.append(series[i:i+window_size])\n",
    "        Ys.append(series[i+window_size: i+window_size+n_predictions])\n",
    "    return np.array(Xs), np.array(Ys)"
   ]
  },
  {
   "cell_type": "code",
   "execution_count": 206,
   "id": "4f2c827f",
   "metadata": {},
   "outputs": [],
   "source": [
    "# 데이터셋 생성\n",
    "Xs, Ys = make_dataset(series.flatten())"
   ]
  },
  {
   "cell_type": "code",
   "execution_count": 207,
   "id": "1f04d96c",
   "metadata": {},
   "outputs": [
    {
     "data": {
      "text/plain": [
       "((3182, 30, 1), (3182, 1))"
      ]
     },
     "execution_count": 207,
     "metadata": {},
     "output_type": "execute_result"
    }
   ],
   "source": [
    "Xs = np.expand_dims(Xs, -1)\n",
    "Xs.shape, Ys.shape"
   ]
  },
  {
   "cell_type": "code",
   "execution_count": 208,
   "id": "9bfee246",
   "metadata": {},
   "outputs": [],
   "source": [
    "n_splits = 50\n",
    "\n",
    "x_train, y_train = Xs[:-n_splits], Ys[:-n_splits]\n",
    "x_valid, y_valid = Xs[-n_splits:], Ys[-n_splits:]"
   ]
  },
  {
   "cell_type": "code",
   "execution_count": 209,
   "id": "939dd163",
   "metadata": {},
   "outputs": [
    {
     "data": {
      "text/plain": [
       "((3132, 30, 1), (3132, 1))"
      ]
     },
     "execution_count": 209,
     "metadata": {},
     "output_type": "execute_result"
    }
   ],
   "source": [
    "x_train.shape, y_train.shape"
   ]
  },
  {
   "cell_type": "code",
   "execution_count": 210,
   "id": "7077fcbb",
   "metadata": {},
   "outputs": [
    {
     "data": {
      "text/plain": [
       "((50, 30, 1), (50, 1))"
      ]
     },
     "execution_count": 210,
     "metadata": {},
     "output_type": "execute_result"
    }
   ],
   "source": [
    "x_valid.shape, y_valid.shape"
   ]
  },
  {
   "cell_type": "code",
   "execution_count": 211,
   "id": "a9df3ecc",
   "metadata": {},
   "outputs": [
    {
     "data": {
      "text/plain": [
       "Date\n",
       "2023-06-28   30,086.246\n",
       "2023-06-29   30,445.352\n",
       "2023-06-30   30,477.252\n",
       "2023-07-01   30,590.078\n",
       "2023-07-02   30,620.770\n",
       "2023-07-03   30,747.822\n",
       "Name: Close, dtype: float64"
      ]
     },
     "execution_count": 211,
     "metadata": {},
     "output_type": "execute_result"
    }
   ],
   "source": [
    "df['Close'].tail(6)"
   ]
  },
  {
   "cell_type": "code",
   "execution_count": 212,
   "id": "53bd40a4",
   "metadata": {},
   "outputs": [
    {
     "data": {
      "text/plain": [
       "array([[0.39913243],\n",
       "       [0.39978444],\n",
       "       [0.37961832],\n",
       "       [0.40156095],\n",
       "       [0.38831266],\n",
       "       [0.39071987],\n",
       "       [0.39030672],\n",
       "       [0.38097081],\n",
       "       [0.38229043],\n",
       "       [0.38173147],\n",
       "       [0.38197229],\n",
       "       [0.37018912],\n",
       "       [0.3768923 ],\n",
       "       [0.38803761],\n",
       "       [0.39075636],\n",
       "       [0.38816745],\n",
       "       [0.39580696],\n",
       "       [0.41771654],\n",
       "       [0.44294047],\n",
       "       [0.44123373],\n",
       "       [0.45285566],\n",
       "       [0.45067765],\n",
       "       [0.44966215],\n",
       "       [0.44655879],\n",
       "       [0.45274727],\n",
       "       [0.44381524],\n",
       "       [0.4491441 ],\n",
       "       [0.44961748],\n",
       "       [0.45129174],\n",
       "       [0.45174718]])"
      ]
     },
     "execution_count": 212,
     "metadata": {},
     "output_type": "execute_result"
    }
   ],
   "source": [
    "x_valid[-1]"
   ]
  },
  {
   "cell_type": "code",
   "execution_count": 213,
   "id": "72e299f5",
   "metadata": {},
   "outputs": [
    {
     "data": {
      "text/plain": [
       "array([0.45363255])"
      ]
     },
     "execution_count": 213,
     "metadata": {},
     "output_type": "execute_result"
    }
   ],
   "source": [
    "y_valid[-1]"
   ]
  },
  {
   "cell_type": "markdown",
   "id": "9d60b727",
   "metadata": {},
   "source": [
    "## Tensor DataSet 생성"
   ]
  },
  {
   "cell_type": "code",
   "execution_count": 214,
   "id": "b12927f2",
   "metadata": {},
   "outputs": [],
   "source": [
    "def make_tensor(x, device):\n",
    "    return torch.FloatTensor(x).to(device)"
   ]
  },
  {
   "cell_type": "code",
   "execution_count": 215,
   "id": "911486d3",
   "metadata": {},
   "outputs": [
    {
     "name": "stdout",
     "output_type": "stream",
     "text": [
      "cuda\n"
     ]
    }
   ],
   "source": [
    "# device 설정 (cuda 혹은 cpu)\n",
    "device = torch.device('cuda' if torch.cuda.is_available() else 'cpu')\n",
    "print(device)"
   ]
  },
  {
   "cell_type": "code",
   "execution_count": 216,
   "id": "5e9ce14f",
   "metadata": {},
   "outputs": [],
   "source": [
    "x_train = make_tensor(x_train, device=device)\n",
    "y_train = make_tensor(y_train, device=device)\n",
    "x_valid = make_tensor(x_valid, device=device)\n",
    "y_valid = make_tensor(y_valid, device=device)"
   ]
  },
  {
   "cell_type": "code",
   "execution_count": 217,
   "id": "d59bbac4",
   "metadata": {},
   "outputs": [],
   "source": [
    "train_ds = torch.utils.data.TensorDataset(x_train, y_train)\n",
    "valid_ds = torch.utils.data.TensorDataset(x_valid, y_valid)"
   ]
  },
  {
   "cell_type": "markdown",
   "id": "78f8655a",
   "metadata": {},
   "source": [
    "## DataLoader 생성"
   ]
  },
  {
   "cell_type": "code",
   "execution_count": 218,
   "id": "11ae456a",
   "metadata": {},
   "outputs": [],
   "source": [
    "batch_size = 32\n",
    "\n",
    "train_loader = torch.utils.data.DataLoader(dataset=train_ds, \n",
    "                                           batch_size=batch_size, \n",
    "                                           shuffle=True)\n",
    "\n",
    "valid_loader = torch.utils.data.DataLoader(dataset=valid_ds, \n",
    "                                          batch_size=batch_size, \n",
    "                                          shuffle=False)"
   ]
  },
  {
   "cell_type": "markdown",
   "id": "bd2ed8ab",
   "metadata": {},
   "source": [
    "## 모델"
   ]
  },
  {
   "cell_type": "code",
   "execution_count": 219,
   "id": "a5321741",
   "metadata": {},
   "outputs": [],
   "source": [
    "import torch\n",
    "import torch.nn as nn\n",
    "import torch.optim as optim"
   ]
  },
  {
   "cell_type": "code",
   "execution_count": 220,
   "id": "acb97a05",
   "metadata": {},
   "outputs": [],
   "source": [
    "class BaseModel(nn.Module):\n",
    "    def __init__(self, input_size, hidden_size, output_size, num_layers, bidirectional=True):\n",
    "        super(BaseModel, self).__init__()\n",
    "        \n",
    "        self.num_layers = num_layers\n",
    "        self.hidden_size = hidden_size\n",
    "        self.bidirectional = 2 if bidirectional else 1\n",
    "        \n",
    "        self.lstm = nn.LSTM(input_size=input_size, \n",
    "                            hidden_size=hidden_size, \n",
    "                            num_layers=num_layers, \n",
    "                            bidirectional=bidirectional,\n",
    "                            batch_first=True)\n",
    "        \n",
    "        self.fc = nn.Linear(hidden_size*self.bidirectional, 64)\n",
    "        self.relu = nn.ReLU()\n",
    "        self.out = nn.Linear(64, output_size)\n",
    "        \n",
    "    def init_hidden_and_cell_state(self, batch_size, device):\n",
    "        self.hidden_and_cell = (\n",
    "            torch.zeros(self.num_layers*self.bidirectional, batch_size, self.hidden_size).to(device),\n",
    "            torch.zeros(self.num_layers*self.bidirectional, batch_size, self.hidden_size).to(device),\n",
    "        )\n",
    "        \n",
    "    def forward(self, x):\n",
    "        output, (h, c) = self.lstm(x, self.hidden_and_cell)\n",
    "        h = output[:, -1, :]\n",
    "        o = self.relu(self.fc(h))\n",
    "        o = self.out(o)\n",
    "        return o"
   ]
  },
  {
   "cell_type": "code",
   "execution_count": 221,
   "id": "38f0d5e4",
   "metadata": {},
   "outputs": [],
   "source": [
    "config = {\n",
    "    'input_size': 1,\n",
    "    'hidden_size': 32, \n",
    "    'num_layers': 2, \n",
    "    'bidirectional': False,\n",
    "    'output_size': N_PREDICTIONS, \n",
    "    \n",
    "}\n",
    "\n",
    "model = BaseModel(**config)"
   ]
  },
  {
   "cell_type": "code",
   "execution_count": 222,
   "id": "783e1c07",
   "metadata": {},
   "outputs": [],
   "source": [
    "x, y = next(iter(train_loader))\n",
    "x.to(device), y.to(device)\n",
    "\n",
    "model = model.to(device)\n",
    "model.init_hidden_and_cell_state(batch_size, device)\n",
    "output = model(x)"
   ]
  },
  {
   "cell_type": "code",
   "execution_count": 223,
   "id": "5c3a6b85",
   "metadata": {},
   "outputs": [
    {
     "data": {
      "text/plain": [
       "torch.Size([32, 1])"
      ]
     },
     "execution_count": 223,
     "metadata": {},
     "output_type": "execute_result"
    }
   ],
   "source": [
    "output.shape"
   ]
  },
  {
   "cell_type": "markdown",
   "id": "8f97c274",
   "metadata": {},
   "source": [
    "## 손실함수 & 옵티마이저 정의"
   ]
  },
  {
   "cell_type": "code",
   "execution_count": null,
   "id": "83469512",
   "metadata": {},
   "outputs": [],
   "source": [
    "model = model.to(device)\n",
    "loss_fn = nn.HuberLoss()"
   ]
  },
  {
   "cell_type": "code",
   "execution_count": 235,
   "id": "0c9f45fd",
   "metadata": {},
   "outputs": [],
   "source": [
    "lr = 1e-5\n",
    "optimizer = optim.Adam(model.parameters(), lr=lr)"
   ]
  },
  {
   "cell_type": "markdown",
   "id": "eecfd2ce",
   "metadata": {},
   "source": [
    "## 모델 훈련"
   ]
  },
  {
   "cell_type": "code",
   "execution_count": 225,
   "id": "eec045e7",
   "metadata": {},
   "outputs": [],
   "source": [
    "def model_train(model, data_loader, loss_fn, optimizer, device):\n",
    "    # 모델을 훈련모드로 설정합니다. training mode 일 때 Gradient 가 업데이트 됩니다. 반드시 train()으로 모드 변경을 해야 합니다.\n",
    "    model.train()\n",
    "    \n",
    "    # loss와 accuracy 계산을 위한 임시 변수 입니다. 0으로 초기화합니다.\n",
    "    running_loss = 0\n",
    "    \n",
    "    # 예쁘게 Progress Bar를 출력하면서 훈련 상태를 모니터링 하기 위하여 tqdm으로 래핑합니다.\n",
    "    prograss_bar = tqdm(data_loader, unit='batch', total=len(data_loader), mininterval=1)\n",
    "    \n",
    "    # mini-batch 학습을 시작합니다.\n",
    "    for idx, (xs, ys) in enumerate(prograss_bar):\n",
    "        # txt, lbl 데이터를 device 에 올립니다. (cuda:0 혹은 cpu)\n",
    "        xs = xs.to(device)\n",
    "        ys = ys.to(device)\n",
    "        \n",
    "        # 누적 Gradient를 초기화 합니다.\n",
    "        optimizer.zero_grad()\n",
    "        \n",
    "        # LSTM Weight 초기화\n",
    "        model.init_hidden_and_cell_state(len(xs), device)\n",
    "        \n",
    "        # Forward Propagation을 진행하여 결과를 얻습니다.\n",
    "        output = model(xs)\n",
    "        \n",
    "        # 손실함수에 output, lbl 값을 대입하여 손실을 계산합니다.\n",
    "        loss = loss_fn(output, ys)\n",
    "        \n",
    "        # 오차역전파(Back Propagation)을 진행하여 미분 값을 계산합니다.\n",
    "        loss.backward()\n",
    "        \n",
    "        # 계산된 Gradient를 업데이트 합니다.\n",
    "        optimizer.step()\n",
    "        \n",
    "        # batch 별 loss 계산하여 누적합을 구합니다.\n",
    "        running_loss += loss.item()\n",
    "        \n",
    "        # 프로그레스바에 학습 상황 업데이트\n",
    "        prograss_bar.set_description(f\"training loss: {running_loss/(idx+1):.5f}\")\n",
    "        \n",
    "    \n",
    "    # 평균 손실(loss)과 정확도를 반환합니다.\n",
    "    # train_loss\n",
    "    return running_loss / len(data_loader)"
   ]
  },
  {
   "cell_type": "code",
   "execution_count": 226,
   "id": "90c2bc3e",
   "metadata": {},
   "outputs": [],
   "source": [
    "def model_evaluate(model, data_loader, loss_fn, device):\n",
    "    # model.eval()은 모델을 평가모드로 설정을 바꾸어 줍니다. \n",
    "    # dropout과 같은 layer의 역할 변경을 위하여 evaluation 진행시 꼭 필요한 절차 입니다.\n",
    "    model.eval()\n",
    "    \n",
    "    # Gradient가 업데이트 되는 것을 방지 하기 위하여 반드시 필요합니다.\n",
    "    with torch.no_grad():\n",
    "        # loss와 accuracy 계산을 위한 임시 변수 입니다. 0으로 초기화합니다.\n",
    "        corr = 0\n",
    "        running_loss = 0\n",
    "        \n",
    "        # 배치별 evaluation을 진행합니다.\n",
    "        for xs, ys in data_loader:\n",
    "            # txt, lbl 데이터를 device 에 올립니다. (cuda:0 혹은 cpu)\n",
    "            xs = xs.to(device)\n",
    "            ys = ys.to(device)\n",
    "            \n",
    "            # LSTM Weight 초기화\n",
    "            model.init_hidden_and_cell_state(len(xs), device)\n",
    "    \n",
    "            # 모델에 Forward Propagation을 하여 결과를 도출합니다.\n",
    "            output = model(xs)\n",
    "            \n",
    "            # 검증 손실을 구합니다.\n",
    "            loss = loss_fn(output, ys)\n",
    "            \n",
    "            # batch 별 loss 계산하여 누적합을 구합니다.\n",
    "            running_loss += loss.item()\n",
    "        \n",
    "        # 결과를 반환합니다.\n",
    "        # val_loss, val_acc\n",
    "        return running_loss / len(data_loader)"
   ]
  },
  {
   "cell_type": "code",
   "execution_count": 236,
   "id": "b9293681",
   "metadata": {
    "scrolled": true
   },
   "outputs": [
    {
     "name": "stderr",
     "output_type": "stream",
     "text": [
      "training loss: 0.00007: 100%|███████████████| 98/98 [00:00<00:00, 241.23batch/s]\n"
     ]
    },
    {
     "name": "stdout",
     "output_type": "stream",
     "text": [
      "[INFO] val_loss has been improved from inf to 0.00004. Saving Model!\n",
      "epoch 01, loss: 0.00007, val_loss: 0.00004\n"
     ]
    },
    {
     "name": "stderr",
     "output_type": "stream",
     "text": [
      "training loss: 0.00007: 100%|███████████████| 98/98 [00:00<00:00, 331.22batch/s]\n",
      "training loss: 0.00007: 100%|███████████████| 98/98 [00:00<00:00, 329.57batch/s]\n"
     ]
    },
    {
     "name": "stdout",
     "output_type": "stream",
     "text": [
      "[INFO] val_loss has been improved from 0.00004 to 0.00004. Saving Model!\n"
     ]
    },
    {
     "name": "stderr",
     "output_type": "stream",
     "text": [
      "training loss: 0.00007: 100%|███████████████| 98/98 [00:00<00:00, 331.46batch/s]\n",
      "training loss: 0.00007: 100%|███████████████| 98/98 [00:00<00:00, 328.84batch/s]\n"
     ]
    },
    {
     "name": "stdout",
     "output_type": "stream",
     "text": [
      "[INFO] val_loss has been improved from 0.00004 to 0.00004. Saving Model!\n"
     ]
    },
    {
     "name": "stderr",
     "output_type": "stream",
     "text": [
      "training loss: 0.00007: 100%|███████████████| 98/98 [00:00<00:00, 330.25batch/s]\n",
      "training loss: 0.00007: 100%|███████████████| 98/98 [00:00<00:00, 329.68batch/s]\n",
      "training loss: 0.00007: 100%|███████████████| 98/98 [00:00<00:00, 329.68batch/s]\n"
     ]
    },
    {
     "name": "stdout",
     "output_type": "stream",
     "text": [
      "[INFO] val_loss has been improved from 0.00004 to 0.00004. Saving Model!\n"
     ]
    },
    {
     "name": "stderr",
     "output_type": "stream",
     "text": [
      "training loss: 0.00007: 100%|███████████████| 98/98 [00:00<00:00, 331.18batch/s]\n",
      "training loss: 0.00007: 100%|███████████████| 98/98 [00:00<00:00, 327.60batch/s]\n",
      "training loss: 0.00007: 100%|███████████████| 98/98 [00:00<00:00, 329.33batch/s]\n"
     ]
    },
    {
     "name": "stdout",
     "output_type": "stream",
     "text": [
      "[INFO] val_loss has been improved from 0.00004 to 0.00004. Saving Model!\n"
     ]
    },
    {
     "name": "stderr",
     "output_type": "stream",
     "text": [
      "training loss: 0.00007: 100%|███████████████| 98/98 [00:00<00:00, 330.57batch/s]\n"
     ]
    },
    {
     "name": "stdout",
     "output_type": "stream",
     "text": [
      "[INFO] val_loss has been improved from 0.00004 to 0.00004. Saving Model!\n"
     ]
    },
    {
     "name": "stderr",
     "output_type": "stream",
     "text": [
      "training loss: 0.00007: 100%|███████████████| 98/98 [00:00<00:00, 330.80batch/s]\n"
     ]
    },
    {
     "name": "stdout",
     "output_type": "stream",
     "text": [
      "[INFO] val_loss has been improved from 0.00004 to 0.00004. Saving Model!\n"
     ]
    },
    {
     "name": "stderr",
     "output_type": "stream",
     "text": [
      "training loss: 0.00007: 100%|███████████████| 98/98 [00:00<00:00, 330.70batch/s]\n"
     ]
    },
    {
     "name": "stdout",
     "output_type": "stream",
     "text": [
      "[INFO] val_loss has been improved from 0.00004 to 0.00004. Saving Model!\n"
     ]
    },
    {
     "name": "stderr",
     "output_type": "stream",
     "text": [
      "training loss: 0.00006: 100%|███████████████| 98/98 [00:00<00:00, 330.71batch/s]\n",
      "training loss: 0.00007: 100%|███████████████| 98/98 [00:00<00:00, 329.39batch/s]\n",
      "training loss: 0.00007: 100%|███████████████| 98/98 [00:00<00:00, 329.46batch/s]\n"
     ]
    },
    {
     "name": "stdout",
     "output_type": "stream",
     "text": [
      "[INFO] val_loss has been improved from 0.00004 to 0.00004. Saving Model!\n"
     ]
    },
    {
     "name": "stderr",
     "output_type": "stream",
     "text": [
      "training loss: 0.00006: 100%|███████████████| 98/98 [00:00<00:00, 329.89batch/s]\n",
      "training loss: 0.00007: 100%|███████████████| 98/98 [00:00<00:00, 329.53batch/s]\n",
      "training loss: 0.00007: 100%|███████████████| 98/98 [00:00<00:00, 329.43batch/s]\n"
     ]
    },
    {
     "name": "stdout",
     "output_type": "stream",
     "text": [
      "[INFO] val_loss has been improved from 0.00004 to 0.00004. Saving Model!\n"
     ]
    },
    {
     "name": "stderr",
     "output_type": "stream",
     "text": [
      "training loss: 0.00007: 100%|███████████████| 98/98 [00:00<00:00, 330.91batch/s]\n"
     ]
    },
    {
     "name": "stdout",
     "output_type": "stream",
     "text": [
      "[INFO] val_loss has been improved from 0.00004 to 0.00004. Saving Model!\n"
     ]
    },
    {
     "name": "stderr",
     "output_type": "stream",
     "text": [
      "training loss: 0.00006: 100%|███████████████| 98/98 [00:00<00:00, 331.10batch/s]\n",
      "training loss: 0.00006: 100%|███████████████| 98/98 [00:00<00:00, 329.39batch/s]\n",
      "training loss: 0.00007: 100%|███████████████| 98/98 [00:00<00:00, 329.53batch/s]\n"
     ]
    },
    {
     "name": "stdout",
     "output_type": "stream",
     "text": [
      "[INFO] val_loss has been improved from 0.00004 to 0.00004. Saving Model!\n"
     ]
    },
    {
     "name": "stderr",
     "output_type": "stream",
     "text": [
      "training loss: 0.00006: 100%|███████████████| 98/98 [00:00<00:00, 330.99batch/s]\n",
      "training loss: 0.00006: 100%|███████████████| 98/98 [00:00<00:00, 329.02batch/s]\n",
      "training loss: 0.00006: 100%|███████████████| 98/98 [00:00<00:00, 329.55batch/s]\n",
      "training loss: 0.00006: 100%|███████████████| 98/98 [00:00<00:00, 329.54batch/s]\n",
      "training loss: 0.00006: 100%|███████████████| 98/98 [00:00<00:00, 329.65batch/s]\n",
      "training loss: 0.00007: 100%|███████████████| 98/98 [00:00<00:00, 329.46batch/s]\n",
      "training loss: 0.00006: 100%|███████████████| 98/98 [00:00<00:00, 329.45batch/s]\n",
      "training loss: 0.00006: 100%|███████████████| 98/98 [00:00<00:00, 329.58batch/s]\n",
      "training loss: 0.00006: 100%|███████████████| 98/98 [00:00<00:00, 328.50batch/s]\n",
      "training loss: 0.00006: 100%|███████████████| 98/98 [00:00<00:00, 330.98batch/s]\n",
      "training loss: 0.00006: 100%|███████████████| 98/98 [00:00<00:00, 331.43batch/s]\n",
      "training loss: 0.00006: 100%|███████████████| 98/98 [00:00<00:00, 331.15batch/s]\n",
      "training loss: 0.00006: 100%|███████████████| 98/98 [00:00<00:00, 331.09batch/s]\n",
      "training loss: 0.00006: 100%|███████████████| 98/98 [00:00<00:00, 330.58batch/s]\n",
      "training loss: 0.00006: 100%|███████████████| 98/98 [00:00<00:00, 329.83batch/s]\n",
      "training loss: 0.00006: 100%|███████████████| 98/98 [00:00<00:00, 330.22batch/s]\n",
      "training loss: 0.00006: 100%|███████████████| 98/98 [00:00<00:00, 330.06batch/s]\n",
      "training loss: 0.00006: 100%|███████████████| 98/98 [00:00<00:00, 328.43batch/s]\n",
      "training loss: 0.00006: 100%|███████████████| 98/98 [00:00<00:00, 330.65batch/s]\n",
      "training loss: 0.00006: 100%|███████████████| 98/98 [00:00<00:00, 330.54batch/s]\n",
      "training loss: 0.00006: 100%|███████████████| 98/98 [00:00<00:00, 331.72batch/s]\n",
      "training loss: 0.00006: 100%|███████████████| 98/98 [00:00<00:00, 331.65batch/s]\n",
      "training loss: 0.00006: 100%|███████████████| 98/98 [00:00<00:00, 331.69batch/s]\n",
      "training loss: 0.00006: 100%|███████████████| 98/98 [00:00<00:00, 331.72batch/s]\n",
      "training loss: 0.00006: 100%|███████████████| 98/98 [00:00<00:00, 330.11batch/s]\n",
      "training loss: 0.00006: 100%|███████████████| 98/98 [00:00<00:00, 331.24batch/s]\n",
      "training loss: 0.00006: 100%|███████████████| 98/98 [00:00<00:00, 330.61batch/s]\n",
      "training loss: 0.00006: 100%|███████████████| 98/98 [00:00<00:00, 330.13batch/s]\n",
      "training loss: 0.00006: 100%|███████████████| 98/98 [00:00<00:00, 330.07batch/s]\n",
      "training loss: 0.00007: 100%|███████████████| 98/98 [00:00<00:00, 329.79batch/s]\n",
      "training loss: 0.00006: 100%|███████████████| 98/98 [00:00<00:00, 329.86batch/s]\n",
      "training loss: 0.00006: 100%|███████████████| 98/98 [00:00<00:00, 329.78batch/s]\n",
      "training loss: 0.00006: 100%|███████████████| 98/98 [00:00<00:00, 329.72batch/s]\n",
      "training loss: 0.00006: 100%|███████████████| 98/98 [00:00<00:00, 329.79batch/s]\n",
      "training loss: 0.00006: 100%|███████████████| 98/98 [00:00<00:00, 329.94batch/s]\n",
      "training loss: 0.00006: 100%|███████████████| 98/98 [00:00<00:00, 329.91batch/s]\n",
      "training loss: 0.00006: 100%|███████████████| 98/98 [00:00<00:00, 330.28batch/s]\n",
      "training loss: 0.00006: 100%|███████████████| 98/98 [00:00<00:00, 330.13batch/s]\n",
      "training loss: 0.00006: 100%|███████████████| 98/98 [00:00<00:00, 330.02batch/s]\n",
      "training loss: 0.00006: 100%|███████████████| 98/98 [00:00<00:00, 330.03batch/s]\n",
      "training loss: 0.00006: 100%|███████████████| 98/98 [00:00<00:00, 329.79batch/s]\n",
      "training loss: 0.00006: 100%|███████████████| 98/98 [00:00<00:00, 329.80batch/s]\n",
      "training loss: 0.00006: 100%|███████████████| 98/98 [00:00<00:00, 328.04batch/s]\n",
      "training loss: 0.00006: 100%|███████████████| 98/98 [00:00<00:00, 330.15batch/s]\n",
      "training loss: 0.00006: 100%|███████████████| 98/98 [00:00<00:00, 330.15batch/s]\n",
      "training loss: 0.00006: 100%|███████████████| 98/98 [00:00<00:00, 329.87batch/s]\n",
      "training loss: 0.00006: 100%|███████████████| 98/98 [00:00<00:00, 329.72batch/s]\n",
      "training loss: 0.00006: 100%|███████████████| 98/98 [00:00<00:00, 330.07batch/s]\n",
      "training loss: 0.00006: 100%|███████████████| 98/98 [00:00<00:00, 329.69batch/s]\n",
      "training loss: 0.00006: 100%|███████████████| 98/98 [00:00<00:00, 329.84batch/s]\n",
      "training loss: 0.00006: 100%|███████████████| 98/98 [00:00<00:00, 329.78batch/s]\n",
      "training loss: 0.00006: 100%|███████████████| 98/98 [00:00<00:00, 329.76batch/s]\n",
      "training loss: 0.00006: 100%|███████████████| 98/98 [00:00<00:00, 329.92batch/s]\n",
      "training loss: 0.00006: 100%|███████████████| 98/98 [00:00<00:00, 329.83batch/s]\n",
      "training loss: 0.00006: 100%|███████████████| 98/98 [00:00<00:00, 330.01batch/s]\n",
      "training loss: 0.00006: 100%|███████████████| 98/98 [00:00<00:00, 329.93batch/s]\n",
      "training loss: 0.00006: 100%|███████████████| 98/98 [00:00<00:00, 330.24batch/s]\n",
      "training loss: 0.00006: 100%|███████████████| 98/98 [00:00<00:00, 329.89batch/s]\n",
      "training loss: 0.00006: 100%|███████████████| 98/98 [00:00<00:00, 328.01batch/s]\n",
      "training loss: 0.00006: 100%|███████████████| 98/98 [00:00<00:00, 330.32batch/s]\n",
      "training loss: 0.00006: 100%|███████████████| 98/98 [00:00<00:00, 330.14batch/s]\n",
      "training loss: 0.00006: 100%|███████████████| 98/98 [00:00<00:00, 329.69batch/s]\n",
      "training loss: 0.00006: 100%|███████████████| 98/98 [00:00<00:00, 329.78batch/s]\n",
      "training loss: 0.00006: 100%|███████████████| 98/98 [00:00<00:00, 329.86batch/s]\n",
      "training loss: 0.00006: 100%|███████████████| 98/98 [00:00<00:00, 329.83batch/s]\n",
      "training loss: 0.00006: 100%|███████████████| 98/98 [00:00<00:00, 329.90batch/s]\n",
      "training loss: 0.00006: 100%|███████████████| 98/98 [00:00<00:00, 329.92batch/s]\n",
      "training loss: 0.00006: 100%|███████████████| 98/98 [00:00<00:00, 330.04batch/s]\n",
      "training loss: 0.00006: 100%|███████████████| 98/98 [00:00<00:00, 329.66batch/s]\n",
      "training loss: 0.00006: 100%|███████████████| 98/98 [00:00<00:00, 329.60batch/s]\n",
      "training loss: 0.00006: 100%|███████████████| 98/98 [00:00<00:00, 329.86batch/s]\n",
      "training loss: 0.00006: 100%|███████████████| 98/98 [00:00<00:00, 329.67batch/s]\n",
      "training loss: 0.00006: 100%|███████████████| 98/98 [00:00<00:00, 329.85batch/s]\n",
      "training loss: 0.00006: 100%|███████████████| 98/98 [00:00<00:00, 329.84batch/s]\n",
      "training loss: 0.00006: 100%|███████████████| 98/98 [00:00<00:00, 330.12batch/s]\n",
      "training loss: 0.00006: 100%|███████████████| 98/98 [00:00<00:00, 329.89batch/s]\n",
      "training loss: 0.00006: 100%|███████████████| 98/98 [00:00<00:00, 329.88batch/s]\n"
     ]
    },
    {
     "name": "stdout",
     "output_type": "stream",
     "text": [
      "epoch 101, loss: 0.00006, val_loss: 0.00004\n"
     ]
    },
    {
     "name": "stderr",
     "output_type": "stream",
     "text": [
      "training loss: 0.00006: 100%|███████████████| 98/98 [00:00<00:00, 326.21batch/s]\n",
      "training loss: 0.00006: 100%|███████████████| 98/98 [00:00<00:00, 327.86batch/s]\n",
      "training loss: 0.00006: 100%|███████████████| 98/98 [00:00<00:00, 330.45batch/s]\n",
      "training loss: 0.00006: 100%|███████████████| 98/98 [00:00<00:00, 330.00batch/s]\n",
      "training loss: 0.00006: 100%|███████████████| 98/98 [00:00<00:00, 329.98batch/s]\n",
      "training loss: 0.00006: 100%|███████████████| 98/98 [00:00<00:00, 329.93batch/s]\n",
      "training loss: 0.00006: 100%|███████████████| 98/98 [00:00<00:00, 330.28batch/s]\n",
      "training loss: 0.00006: 100%|███████████████| 98/98 [00:00<00:00, 329.69batch/s]\n",
      "training loss: 0.00006: 100%|███████████████| 98/98 [00:00<00:00, 336.52batch/s]\n",
      "training loss: 0.00006: 100%|███████████████| 98/98 [00:00<00:00, 364.68batch/s]\n",
      "training loss: 0.00006: 100%|███████████████| 98/98 [00:00<00:00, 339.51batch/s]\n",
      "training loss: 0.00006: 100%|███████████████| 98/98 [00:00<00:00, 330.50batch/s]\n",
      "training loss: 0.00006: 100%|███████████████| 98/98 [00:00<00:00, 346.25batch/s]\n",
      "training loss: 0.00006: 100%|███████████████| 98/98 [00:00<00:00, 353.19batch/s]\n",
      "training loss: 0.00006: 100%|███████████████| 98/98 [00:00<00:00, 335.30batch/s]\n",
      "training loss: 0.00006: 100%|███████████████| 98/98 [00:00<00:00, 331.14batch/s]\n",
      "training loss: 0.00006: 100%|███████████████| 98/98 [00:00<00:00, 331.30batch/s]\n",
      "training loss: 0.00006: 100%|███████████████| 98/98 [00:00<00:00, 331.55batch/s]\n",
      "training loss: 0.00006: 100%|███████████████| 98/98 [00:00<00:00, 331.37batch/s]\n",
      "training loss: 0.00006: 100%|███████████████| 98/98 [00:00<00:00, 331.27batch/s]\n",
      "training loss: 0.00006: 100%|███████████████| 98/98 [00:00<00:00, 331.34batch/s]\n",
      "training loss: 0.00006: 100%|███████████████| 98/98 [00:00<00:00, 331.54batch/s]\n",
      "training loss: 0.00006: 100%|███████████████| 98/98 [00:00<00:00, 331.33batch/s]\n",
      "training loss: 0.00006: 100%|███████████████| 98/98 [00:00<00:00, 331.44batch/s]\n",
      "training loss: 0.00006: 100%|███████████████| 98/98 [00:00<00:00, 330.38batch/s]\n",
      "training loss: 0.00006: 100%|███████████████| 98/98 [00:00<00:00, 330.79batch/s]\n",
      "training loss: 0.00006: 100%|███████████████| 98/98 [00:00<00:00, 331.48batch/s]\n",
      "training loss: 0.00006: 100%|███████████████| 98/98 [00:00<00:00, 331.66batch/s]\n",
      "training loss: 0.00006: 100%|███████████████| 98/98 [00:00<00:00, 341.49batch/s]\n",
      "training loss: 0.00006: 100%|███████████████| 98/98 [00:00<00:00, 354.84batch/s]\n",
      "training loss: 0.00006: 100%|███████████████| 98/98 [00:00<00:00, 354.75batch/s]\n",
      "training loss: 0.00006: 100%|███████████████| 98/98 [00:00<00:00, 354.50batch/s]\n",
      "training loss: 0.00006: 100%|███████████████| 98/98 [00:00<00:00, 352.83batch/s]\n",
      "training loss: 0.00006: 100%|███████████████| 98/98 [00:00<00:00, 367.71batch/s]\n",
      "training loss: 0.00006: 100%|███████████████| 98/98 [00:00<00:00, 369.73batch/s]\n",
      "training loss: 0.00006: 100%|███████████████| 98/98 [00:00<00:00, 370.08batch/s]\n",
      "training loss: 0.00006: 100%|███████████████| 98/98 [00:00<00:00, 370.25batch/s]\n",
      "training loss: 0.00006: 100%|███████████████| 98/98 [00:00<00:00, 368.67batch/s]\n",
      "training loss: 0.00006: 100%|███████████████| 98/98 [00:00<00:00, 370.22batch/s]\n",
      "training loss: 0.00006: 100%|███████████████| 98/98 [00:00<00:00, 370.15batch/s]\n",
      "training loss: 0.00006: 100%|███████████████| 98/98 [00:00<00:00, 370.20batch/s]\n",
      "training loss: 0.00006: 100%|███████████████| 98/98 [00:00<00:00, 370.13batch/s]\n",
      "training loss: 0.00006: 100%|███████████████| 98/98 [00:00<00:00, 370.21batch/s]\n",
      "training loss: 0.00006: 100%|███████████████| 98/98 [00:00<00:00, 362.51batch/s]\n",
      "training loss: 0.00006: 100%|███████████████| 98/98 [00:00<00:00, 360.48batch/s]\n",
      "training loss: 0.00006: 100%|███████████████| 98/98 [00:00<00:00, 370.20batch/s]\n",
      "training loss: 0.00006: 100%|███████████████| 98/98 [00:00<00:00, 347.36batch/s]\n",
      "training loss: 0.00006: 100%|███████████████| 98/98 [00:00<00:00, 329.24batch/s]\n",
      "training loss: 0.00006: 100%|███████████████| 98/98 [00:00<00:00, 332.16batch/s]\n",
      "training loss: 0.00006: 100%|███████████████| 98/98 [00:00<00:00, 331.38batch/s]\n",
      "training loss: 0.00006: 100%|███████████████| 98/98 [00:00<00:00, 329.97batch/s]\n",
      "training loss: 0.00006: 100%|███████████████| 98/98 [00:00<00:00, 330.34batch/s]\n",
      "training loss: 0.00006: 100%|███████████████| 98/98 [00:00<00:00, 329.84batch/s]\n",
      "training loss: 0.00006: 100%|███████████████| 98/98 [00:00<00:00, 330.02batch/s]\n",
      "training loss: 0.00006: 100%|███████████████| 98/98 [00:00<00:00, 330.08batch/s]\n",
      "training loss: 0.00006: 100%|███████████████| 98/98 [00:00<00:00, 329.92batch/s]\n",
      "training loss: 0.00006: 100%|███████████████| 98/98 [00:00<00:00, 330.33batch/s]\n",
      "training loss: 0.00006: 100%|███████████████| 98/98 [00:00<00:00, 330.11batch/s]\n",
      "training loss: 0.00006: 100%|███████████████| 98/98 [00:00<00:00, 330.40batch/s]\n",
      "training loss: 0.00006: 100%|███████████████| 98/98 [00:00<00:00, 330.29batch/s]\n",
      "training loss: 0.00006: 100%|███████████████| 98/98 [00:00<00:00, 330.35batch/s]\n",
      "training loss: 0.00006: 100%|███████████████| 98/98 [00:00<00:00, 330.22batch/s]\n",
      "training loss: 0.00006: 100%|███████████████| 98/98 [00:00<00:00, 330.31batch/s]\n",
      "training loss: 0.00006: 100%|███████████████| 98/98 [00:00<00:00, 330.27batch/s]\n",
      "training loss: 0.00006: 100%|███████████████| 98/98 [00:00<00:00, 330.33batch/s]\n",
      "training loss: 0.00006: 100%|███████████████| 98/98 [00:00<00:00, 328.78batch/s]\n",
      "training loss: 0.00006: 100%|███████████████| 98/98 [00:00<00:00, 330.47batch/s]\n",
      "training loss: 0.00006: 100%|███████████████| 98/98 [00:00<00:00, 330.38batch/s]\n",
      "training loss: 0.00006: 100%|███████████████| 98/98 [00:00<00:00, 330.08batch/s]\n",
      "training loss: 0.00006: 100%|███████████████| 98/98 [00:00<00:00, 328.89batch/s]\n",
      "training loss: 0.00006: 100%|███████████████| 98/98 [00:00<00:00, 330.56batch/s]\n",
      "training loss: 0.00006: 100%|███████████████| 98/98 [00:00<00:00, 329.89batch/s]\n",
      "training loss: 0.00006: 100%|███████████████| 98/98 [00:00<00:00, 330.14batch/s]\n",
      "training loss: 0.00006: 100%|███████████████| 98/98 [00:00<00:00, 330.20batch/s]\n",
      "training loss: 0.00006: 100%|███████████████| 98/98 [00:00<00:00, 330.38batch/s]\n",
      "training loss: 0.00006: 100%|███████████████| 98/98 [00:00<00:00, 330.33batch/s]\n",
      "training loss: 0.00006: 100%|███████████████| 98/98 [00:00<00:00, 330.44batch/s]\n",
      "training loss: 0.00006: 100%|███████████████| 98/98 [00:00<00:00, 330.25batch/s]\n",
      "training loss: 0.00006: 100%|███████████████| 98/98 [00:00<00:00, 330.35batch/s]\n",
      "training loss: 0.00006: 100%|███████████████| 98/98 [00:00<00:00, 330.32batch/s]\n",
      "training loss: 0.00006: 100%|███████████████| 98/98 [00:00<00:00, 330.10batch/s]\n",
      "training loss: 0.00006: 100%|███████████████| 98/98 [00:00<00:00, 330.25batch/s]\n",
      "training loss: 0.00006: 100%|███████████████| 98/98 [00:00<00:00, 329.89batch/s]\n",
      "training loss: 0.00006: 100%|███████████████| 98/98 [00:00<00:00, 330.14batch/s]\n",
      "training loss: 0.00006: 100%|███████████████| 98/98 [00:00<00:00, 330.42batch/s]\n",
      "training loss: 0.00006: 100%|███████████████| 98/98 [00:00<00:00, 330.41batch/s]\n",
      "training loss: 0.00006: 100%|███████████████| 98/98 [00:00<00:00, 330.20batch/s]\n",
      "training loss: 0.00006: 100%|███████████████| 98/98 [00:00<00:00, 330.33batch/s]\n",
      "training loss: 0.00006: 100%|███████████████| 98/98 [00:00<00:00, 330.34batch/s]\n",
      "training loss: 0.00006: 100%|███████████████| 98/98 [00:00<00:00, 330.36batch/s]\n",
      "training loss: 0.00006: 100%|███████████████| 98/98 [00:00<00:00, 331.68batch/s]\n",
      "training loss: 0.00006: 100%|███████████████| 98/98 [00:00<00:00, 331.70batch/s]\n",
      "training loss: 0.00006: 100%|███████████████| 98/98 [00:00<00:00, 331.76batch/s]\n",
      "training loss: 0.00006: 100%|███████████████| 98/98 [00:00<00:00, 331.70batch/s]\n",
      "training loss: 0.00006: 100%|███████████████| 98/98 [00:00<00:00, 331.59batch/s]\n",
      "training loss: 0.00006: 100%|███████████████| 98/98 [00:00<00:00, 331.57batch/s]\n",
      "training loss: 0.00006: 100%|███████████████| 98/98 [00:00<00:00, 330.43batch/s]\n",
      "training loss: 0.00006: 100%|███████████████| 98/98 [00:00<00:00, 330.07batch/s]\n",
      "training loss: 0.00006: 100%|███████████████| 98/98 [00:00<00:00, 330.10batch/s]\n",
      "training loss: 0.00006: 100%|███████████████| 98/98 [00:00<00:00, 328.16batch/s]\n"
     ]
    },
    {
     "name": "stdout",
     "output_type": "stream",
     "text": [
      "epoch 201, loss: 0.00006, val_loss: 0.00004\n"
     ]
    },
    {
     "name": "stderr",
     "output_type": "stream",
     "text": [
      "training loss: 0.00006: 100%|███████████████| 98/98 [00:00<00:00, 346.41batch/s]\n",
      "training loss: 0.00006: 100%|███████████████| 98/98 [00:00<00:00, 355.49batch/s]\n",
      "training loss: 0.00006: 100%|███████████████| 98/98 [00:00<00:00, 355.65batch/s]\n",
      "training loss: 0.00006: 100%|███████████████| 98/98 [00:00<00:00, 355.33batch/s]\n",
      "training loss: 0.00006: 100%|███████████████| 98/98 [00:00<00:00, 348.24batch/s]\n",
      "training loss: 0.00006: 100%|███████████████| 98/98 [00:00<00:00, 329.90batch/s]\n",
      "training loss: 0.00006: 100%|███████████████| 98/98 [00:00<00:00, 330.21batch/s]\n",
      "training loss: 0.00006: 100%|███████████████| 98/98 [00:00<00:00, 330.51batch/s]\n",
      "training loss: 0.00006: 100%|███████████████| 98/98 [00:00<00:00, 331.70batch/s]\n",
      "training loss: 0.00006: 100%|███████████████| 98/98 [00:00<00:00, 331.47batch/s]\n",
      "training loss: 0.00006: 100%|███████████████| 98/98 [00:00<00:00, 331.57batch/s]\n",
      "training loss: 0.00006: 100%|███████████████| 98/98 [00:00<00:00, 331.84batch/s]\n",
      "training loss: 0.00006: 100%|███████████████| 98/98 [00:00<00:00, 331.48batch/s]\n",
      "training loss: 0.00006: 100%|███████████████| 98/98 [00:00<00:00, 331.58batch/s]\n",
      "training loss: 0.00006: 100%|███████████████| 98/98 [00:00<00:00, 331.67batch/s]\n",
      "training loss: 0.00006: 100%|███████████████| 98/98 [00:00<00:00, 329.81batch/s]\n",
      "training loss: 0.00006: 100%|███████████████| 98/98 [00:00<00:00, 330.45batch/s]\n",
      "training loss: 0.00006: 100%|███████████████| 98/98 [00:00<00:00, 330.28batch/s]\n",
      "training loss: 0.00006: 100%|███████████████| 98/98 [00:00<00:00, 330.31batch/s]\n",
      "training loss: 0.00006: 100%|███████████████| 98/98 [00:00<00:00, 331.51batch/s]\n",
      "training loss: 0.00006: 100%|███████████████| 98/98 [00:00<00:00, 329.78batch/s]\n",
      "training loss: 0.00006: 100%|███████████████| 98/98 [00:00<00:00, 331.59batch/s]\n",
      "training loss: 0.00006: 100%|███████████████| 98/98 [00:00<00:00, 331.52batch/s]\n",
      "training loss: 0.00006: 100%|███████████████| 98/98 [00:00<00:00, 331.56batch/s]\n",
      "training loss: 0.00006: 100%|███████████████| 98/98 [00:00<00:00, 331.78batch/s]\n",
      "training loss: 0.00006: 100%|███████████████| 98/98 [00:00<00:00, 331.43batch/s]\n",
      "training loss: 0.00006: 100%|███████████████| 98/98 [00:00<00:00, 329.81batch/s]\n",
      "training loss: 0.00006: 100%|███████████████| 98/98 [00:00<00:00, 329.94batch/s]\n",
      "training loss: 0.00006: 100%|███████████████| 98/98 [00:00<00:00, 329.99batch/s]\n",
      "training loss: 0.00006: 100%|███████████████| 98/98 [00:00<00:00, 329.95batch/s]\n",
      "training loss: 0.00006: 100%|███████████████| 98/98 [00:00<00:00, 330.39batch/s]\n",
      "training loss: 0.00006: 100%|███████████████| 98/98 [00:00<00:00, 329.94batch/s]\n",
      "training loss: 0.00006: 100%|███████████████| 98/98 [00:00<00:00, 330.17batch/s]\n",
      "training loss: 0.00006: 100%|███████████████| 98/98 [00:00<00:00, 329.93batch/s]\n",
      "training loss: 0.00006: 100%|███████████████| 98/98 [00:00<00:00, 330.48batch/s]\n",
      "training loss: 0.00006: 100%|███████████████| 98/98 [00:00<00:00, 330.09batch/s]\n",
      "training loss: 0.00006: 100%|███████████████| 98/98 [00:00<00:00, 330.08batch/s]\n",
      "training loss: 0.00006: 100%|███████████████| 98/98 [00:00<00:00, 330.27batch/s]\n",
      "training loss: 0.00006: 100%|███████████████| 98/98 [00:00<00:00, 330.25batch/s]\n",
      "training loss: 0.00006: 100%|███████████████| 98/98 [00:00<00:00, 327.79batch/s]\n",
      "training loss: 0.00006: 100%|███████████████| 98/98 [00:00<00:00, 331.41batch/s]\n",
      "training loss: 0.00006: 100%|███████████████| 98/98 [00:00<00:00, 331.47batch/s]\n",
      "training loss: 0.00006: 100%|███████████████| 98/98 [00:00<00:00, 331.46batch/s]\n",
      "training loss: 0.00006: 100%|███████████████| 98/98 [00:00<00:00, 331.47batch/s]\n",
      "training loss: 0.00006: 100%|███████████████| 98/98 [00:00<00:00, 331.47batch/s]\n",
      "training loss: 0.00006: 100%|███████████████| 98/98 [00:00<00:00, 331.45batch/s]\n",
      "training loss: 0.00006: 100%|███████████████| 98/98 [00:00<00:00, 330.58batch/s]\n",
      "training loss: 0.00006: 100%|███████████████| 98/98 [00:00<00:00, 331.61batch/s]\n",
      "training loss: 0.00006: 100%|███████████████| 98/98 [00:00<00:00, 331.53batch/s]\n",
      "training loss: 0.00006: 100%|███████████████| 98/98 [00:00<00:00, 331.56batch/s]\n",
      "training loss: 0.00006: 100%|███████████████| 98/98 [00:00<00:00, 331.57batch/s]\n",
      "training loss: 0.00006: 100%|███████████████| 98/98 [00:00<00:00, 331.38batch/s]\n",
      "training loss: 0.00006: 100%|███████████████| 98/98 [00:00<00:00, 328.68batch/s]\n",
      "training loss: 0.00006: 100%|███████████████| 98/98 [00:00<00:00, 331.22batch/s]\n",
      "training loss: 0.00006: 100%|███████████████| 98/98 [00:00<00:00, 331.35batch/s]\n",
      "training loss: 0.00006: 100%|███████████████| 98/98 [00:00<00:00, 331.40batch/s]\n",
      "training loss: 0.00006: 100%|███████████████| 98/98 [00:00<00:00, 331.29batch/s]\n",
      "training loss: 0.00006: 100%|███████████████| 98/98 [00:00<00:00, 331.43batch/s]\n",
      "training loss: 0.00006: 100%|███████████████| 98/98 [00:00<00:00, 331.45batch/s]\n",
      "training loss: 0.00006: 100%|███████████████| 98/98 [00:00<00:00, 331.54batch/s]\n",
      "training loss: 0.00006: 100%|███████████████| 98/98 [00:00<00:00, 331.12batch/s]\n",
      "training loss: 0.00006: 100%|███████████████| 98/98 [00:00<00:00, 331.37batch/s]\n",
      "training loss: 0.00006: 100%|███████████████| 98/98 [00:00<00:00, 331.49batch/s]\n",
      "training loss: 0.00006: 100%|███████████████| 98/98 [00:00<00:00, 325.74batch/s]\n",
      "training loss: 0.00006: 100%|███████████████| 98/98 [00:00<00:00, 324.41batch/s]\n",
      "training loss: 0.00006: 100%|███████████████| 98/98 [00:00<00:00, 324.56batch/s]\n",
      "training loss: 0.00006: 100%|███████████████| 98/98 [00:00<00:00, 324.55batch/s]\n",
      "training loss: 0.00006: 100%|███████████████| 98/98 [00:00<00:00, 324.51batch/s]\n",
      "training loss: 0.00006: 100%|███████████████| 98/98 [00:00<00:00, 324.49batch/s]\n",
      "training loss: 0.00006: 100%|███████████████| 98/98 [00:00<00:00, 324.52batch/s]\n",
      "training loss: 0.00006: 100%|███████████████| 98/98 [00:00<00:00, 325.11batch/s]\n",
      "training loss: 0.00006: 100%|███████████████| 98/98 [00:00<00:00, 330.02batch/s]\n",
      "training loss: 0.00006: 100%|███████████████| 98/98 [00:00<00:00, 327.68batch/s]\n",
      "training loss: 0.00006: 100%|███████████████| 98/98 [00:00<00:00, 329.95batch/s]\n",
      "training loss: 0.00006: 100%|███████████████| 98/98 [00:00<00:00, 329.88batch/s]\n",
      "training loss: 0.00006: 100%|███████████████| 98/98 [00:00<00:00, 329.73batch/s]\n",
      "training loss: 0.00006: 100%|███████████████| 98/98 [00:00<00:00, 329.94batch/s]\n",
      "training loss: 0.00006: 100%|███████████████| 98/98 [00:00<00:00, 327.15batch/s]\n",
      "training loss: 0.00006: 100%|███████████████| 98/98 [00:00<00:00, 327.11batch/s]\n",
      "training loss: 0.00006: 100%|███████████████| 98/98 [00:00<00:00, 329.02batch/s]\n",
      "training loss: 0.00006: 100%|███████████████| 98/98 [00:00<00:00, 329.00batch/s]\n",
      "training loss: 0.00006: 100%|███████████████| 98/98 [00:00<00:00, 330.09batch/s]\n",
      "training loss: 0.00006: 100%|███████████████| 98/98 [00:00<00:00, 330.11batch/s]\n",
      "training loss: 0.00006: 100%|███████████████| 98/98 [00:00<00:00, 327.85batch/s]\n",
      "training loss: 0.00006: 100%|███████████████| 98/98 [00:00<00:00, 327.80batch/s]\n",
      "training loss: 0.00006: 100%|███████████████| 98/98 [00:00<00:00, 328.04batch/s]\n",
      "training loss: 0.00006: 100%|███████████████| 98/98 [00:00<00:00, 327.32batch/s]\n",
      "training loss: 0.00006: 100%|███████████████| 98/98 [00:00<00:00, 327.33batch/s]\n",
      "training loss: 0.00006: 100%|███████████████| 98/98 [00:00<00:00, 327.63batch/s]\n",
      "training loss: 0.00006: 100%|███████████████| 98/98 [00:00<00:00, 327.47batch/s]\n",
      "training loss: 0.00006: 100%|███████████████| 98/98 [00:00<00:00, 325.25batch/s]\n",
      "training loss: 0.00006: 100%|███████████████| 98/98 [00:00<00:00, 327.28batch/s]\n",
      "training loss: 0.00006: 100%|███████████████| 98/98 [00:00<00:00, 327.60batch/s]\n",
      "training loss: 0.00006: 100%|███████████████| 98/98 [00:00<00:00, 327.27batch/s]\n",
      "training loss: 0.00006: 100%|███████████████| 98/98 [00:00<00:00, 327.45batch/s]\n",
      "training loss: 0.00006: 100%|███████████████| 98/98 [00:00<00:00, 327.44batch/s]\n",
      "training loss: 0.00006: 100%|███████████████| 98/98 [00:00<00:00, 327.34batch/s]\n",
      "training loss: 0.00006: 100%|███████████████| 98/98 [00:00<00:00, 327.41batch/s]\n",
      "training loss: 0.00006: 100%|███████████████| 98/98 [00:00<00:00, 327.61batch/s]\n",
      "training loss: 0.00006: 100%|███████████████| 98/98 [00:00<00:00, 327.39batch/s]\n"
     ]
    },
    {
     "name": "stdout",
     "output_type": "stream",
     "text": [
      "epoch 301, loss: 0.00006, val_loss: 0.00004\n"
     ]
    },
    {
     "name": "stderr",
     "output_type": "stream",
     "text": [
      "training loss: 0.00006: 100%|███████████████| 98/98 [00:00<00:00, 327.31batch/s]\n",
      "training loss: 0.00006: 100%|███████████████| 98/98 [00:00<00:00, 327.57batch/s]\n",
      "training loss: 0.00006: 100%|███████████████| 98/98 [00:00<00:00, 327.27batch/s]\n",
      "training loss: 0.00006: 100%|███████████████| 98/98 [00:00<00:00, 327.34batch/s]\n",
      "training loss: 0.00006: 100%|███████████████| 98/98 [00:00<00:00, 327.40batch/s]\n",
      "training loss: 0.00006: 100%|███████████████| 98/98 [00:00<00:00, 324.94batch/s]\n",
      "training loss: 0.00006: 100%|███████████████| 98/98 [00:00<00:00, 333.75batch/s]\n",
      "training loss: 0.00006: 100%|███████████████| 98/98 [00:00<00:00, 337.69batch/s]\n",
      "training loss: 0.00006: 100%|███████████████| 98/98 [00:00<00:00, 338.10batch/s]\n",
      "training loss: 0.00006: 100%|███████████████| 98/98 [00:00<00:00, 335.86batch/s]\n",
      "training loss: 0.00006: 100%|███████████████| 98/98 [00:00<00:00, 332.98batch/s]\n",
      "training loss: 0.00006: 100%|███████████████| 98/98 [00:00<00:00, 336.48batch/s]\n",
      "training loss: 0.00006: 100%|███████████████| 98/98 [00:00<00:00, 332.39batch/s]\n",
      "training loss: 0.00006: 100%|███████████████| 98/98 [00:00<00:00, 334.64batch/s]\n",
      "training loss: 0.00006: 100%|███████████████| 98/98 [00:00<00:00, 332.52batch/s]\n",
      "training loss: 0.00006: 100%|███████████████| 98/98 [00:00<00:00, 333.78batch/s]\n",
      "training loss: 0.00006: 100%|███████████████| 98/98 [00:00<00:00, 335.48batch/s]\n",
      "training loss: 0.00006: 100%|███████████████| 98/98 [00:00<00:00, 333.74batch/s]\n",
      "training loss: 0.00006: 100%|███████████████| 98/98 [00:00<00:00, 339.94batch/s]\n",
      "training loss: 0.00006: 100%|███████████████| 98/98 [00:00<00:00, 398.23batch/s]\n",
      "training loss: 0.00006: 100%|███████████████| 98/98 [00:00<00:00, 369.77batch/s]\n",
      "training loss: 0.00006: 100%|███████████████| 98/98 [00:00<00:00, 337.98batch/s]\n",
      "training loss: 0.00006: 100%|███████████████| 98/98 [00:00<00:00, 336.89batch/s]\n",
      "training loss: 0.00006: 100%|███████████████| 98/98 [00:00<00:00, 337.98batch/s]\n",
      "training loss: 0.00006: 100%|███████████████| 98/98 [00:00<00:00, 338.51batch/s]\n",
      "training loss: 0.00006: 100%|███████████████| 98/98 [00:00<00:00, 337.66batch/s]\n",
      "training loss: 0.00006: 100%|███████████████| 98/98 [00:00<00:00, 338.47batch/s]\n",
      "training loss: 0.00006: 100%|███████████████| 98/98 [00:00<00:00, 337.42batch/s]\n",
      "training loss: 0.00006: 100%|███████████████| 98/98 [00:00<00:00, 337.47batch/s]\n",
      "training loss: 0.00006: 100%|███████████████| 98/98 [00:00<00:00, 341.16batch/s]\n",
      "training loss: 0.00006: 100%|███████████████| 98/98 [00:00<00:00, 362.23batch/s]\n",
      "training loss: 0.00006: 100%|███████████████| 98/98 [00:00<00:00, 337.80batch/s]\n",
      "training loss: 0.00006: 100%|███████████████| 98/98 [00:00<00:00, 337.70batch/s]\n",
      "training loss: 0.00006: 100%|███████████████| 98/98 [00:00<00:00, 338.04batch/s]\n",
      "training loss: 0.00006: 100%|███████████████| 98/98 [00:00<00:00, 336.65batch/s]\n",
      "training loss: 0.00006: 100%|███████████████| 98/98 [00:00<00:00, 338.06batch/s]\n",
      "training loss: 0.00006: 100%|███████████████| 98/98 [00:00<00:00, 337.48batch/s]\n",
      "training loss: 0.00006: 100%|███████████████| 98/98 [00:00<00:00, 337.80batch/s]\n",
      "training loss: 0.00006: 100%|███████████████| 98/98 [00:00<00:00, 339.11batch/s]\n",
      "training loss: 0.00006: 100%|███████████████| 98/98 [00:00<00:00, 339.06batch/s]\n",
      "training loss: 0.00006: 100%|███████████████| 98/98 [00:00<00:00, 394.73batch/s]\n",
      "training loss: 0.00006: 100%|███████████████| 98/98 [00:00<00:00, 364.06batch/s]\n",
      "training loss: 0.00006: 100%|███████████████| 98/98 [00:00<00:00, 347.43batch/s]\n",
      "training loss: 0.00006: 100%|███████████████| 98/98 [00:00<00:00, 366.14batch/s]\n",
      "training loss: 0.00006: 100%|███████████████| 98/98 [00:00<00:00, 374.39batch/s]\n",
      "training loss: 0.00006: 100%|███████████████| 98/98 [00:00<00:00, 337.36batch/s]\n",
      "training loss: 0.00006: 100%|███████████████| 98/98 [00:00<00:00, 336.90batch/s]\n",
      "training loss: 0.00006: 100%|███████████████| 98/98 [00:00<00:00, 337.19batch/s]\n",
      "training loss: 0.00006: 100%|███████████████| 98/98 [00:00<00:00, 356.07batch/s]\n",
      "training loss: 0.00006: 100%|███████████████| 98/98 [00:00<00:00, 362.33batch/s]\n",
      "training loss: 0.00006: 100%|███████████████| 98/98 [00:00<00:00, 335.71batch/s]\n",
      "training loss: 0.00006: 100%|███████████████| 98/98 [00:00<00:00, 337.32batch/s]\n",
      "training loss: 0.00006: 100%|███████████████| 98/98 [00:00<00:00, 337.73batch/s]\n",
      "training loss: 0.00006: 100%|███████████████| 98/98 [00:00<00:00, 337.88batch/s]\n",
      "training loss: 0.00006: 100%|███████████████| 98/98 [00:00<00:00, 339.41batch/s]\n",
      "training loss: 0.00006: 100%|███████████████| 98/98 [00:00<00:00, 338.62batch/s]\n",
      "training loss: 0.00006: 100%|███████████████| 98/98 [00:00<00:00, 335.45batch/s]\n",
      "training loss: 0.00006: 100%|███████████████| 98/98 [00:00<00:00, 335.98batch/s]\n",
      "training loss: 0.00006: 100%|███████████████| 98/98 [00:00<00:00, 337.96batch/s]\n",
      "training loss: 0.00006: 100%|███████████████| 98/98 [00:00<00:00, 337.90batch/s]\n",
      "training loss: 0.00006: 100%|███████████████| 98/98 [00:00<00:00, 337.28batch/s]\n",
      "training loss: 0.00006: 100%|███████████████| 98/98 [00:00<00:00, 339.17batch/s]\n",
      "training loss: 0.00006: 100%|███████████████| 98/98 [00:00<00:00, 347.51batch/s]\n",
      "training loss: 0.00006: 100%|███████████████| 98/98 [00:00<00:00, 355.88batch/s]\n",
      "training loss: 0.00006: 100%|███████████████| 98/98 [00:00<00:00, 336.96batch/s]\n",
      "training loss: 0.00006: 100%|███████████████| 98/98 [00:00<00:00, 337.20batch/s]\n",
      "training loss: 0.00006: 100%|███████████████| 98/98 [00:00<00:00, 337.80batch/s]\n",
      "training loss: 0.00006: 100%|███████████████| 98/98 [00:00<00:00, 337.93batch/s]\n",
      "training loss: 0.00006: 100%|███████████████| 98/98 [00:00<00:00, 336.41batch/s]\n",
      "training loss: 0.00006: 100%|███████████████| 98/98 [00:00<00:00, 337.69batch/s]\n",
      "training loss: 0.00006: 100%|███████████████| 98/98 [00:00<00:00, 350.56batch/s]\n",
      "training loss: 0.00006: 100%|███████████████| 98/98 [00:00<00:00, 350.42batch/s]\n",
      "training loss: 0.00006: 100%|███████████████| 98/98 [00:00<00:00, 351.12batch/s]\n",
      "training loss: 0.00006: 100%|███████████████| 98/98 [00:00<00:00, 349.09batch/s]\n",
      "training loss: 0.00006: 100%|███████████████| 98/98 [00:00<00:00, 350.81batch/s]\n",
      "training loss: 0.00006: 100%|███████████████| 98/98 [00:00<00:00, 348.59batch/s]\n",
      "training loss: 0.00006: 100%|███████████████| 98/98 [00:00<00:00, 352.58batch/s]\n",
      "training loss: 0.00006: 100%|███████████████| 98/98 [00:00<00:00, 344.73batch/s]\n",
      "training loss: 0.00006: 100%|███████████████| 98/98 [00:00<00:00, 337.03batch/s]\n",
      "training loss: 0.00006: 100%|███████████████| 98/98 [00:00<00:00, 349.67batch/s]\n",
      "training loss: 0.00006: 100%|███████████████| 98/98 [00:00<00:00, 348.60batch/s]\n",
      "training loss: 0.00006: 100%|███████████████| 98/98 [00:00<00:00, 337.60batch/s]\n",
      "training loss: 0.00006: 100%|███████████████| 98/98 [00:00<00:00, 337.05batch/s]\n",
      "training loss: 0.00006: 100%|███████████████| 98/98 [00:00<00:00, 337.04batch/s]\n",
      "training loss: 0.00006: 100%|███████████████| 98/98 [00:00<00:00, 370.80batch/s]\n",
      "training loss: 0.00006: 100%|███████████████| 98/98 [00:00<00:00, 337.55batch/s]\n",
      "training loss: 0.00006: 100%|███████████████| 98/98 [00:00<00:00, 337.32batch/s]\n",
      "training loss: 0.00006: 100%|███████████████| 98/98 [00:00<00:00, 338.59batch/s]\n",
      "training loss: 0.00006: 100%|███████████████| 98/98 [00:00<00:00, 337.31batch/s]\n",
      "training loss: 0.00006: 100%|███████████████| 98/98 [00:00<00:00, 337.65batch/s]\n",
      "training loss: 0.00006: 100%|███████████████| 98/98 [00:00<00:00, 337.02batch/s]\n",
      "training loss: 0.00006: 100%|███████████████| 98/98 [00:00<00:00, 336.84batch/s]\n",
      "training loss: 0.00006: 100%|███████████████| 98/98 [00:00<00:00, 336.94batch/s]\n",
      "training loss: 0.00006: 100%|███████████████| 98/98 [00:00<00:00, 384.14batch/s]\n",
      "training loss: 0.00006: 100%|███████████████| 98/98 [00:00<00:00, 389.73batch/s]\n",
      "training loss: 0.00006: 100%|███████████████| 98/98 [00:00<00:00, 336.61batch/s]\n",
      "training loss: 0.00006: 100%|███████████████| 98/98 [00:00<00:00, 337.88batch/s]\n",
      "training loss: 0.00006: 100%|███████████████| 98/98 [00:00<00:00, 337.54batch/s]\n",
      "training loss: 0.00006: 100%|███████████████| 98/98 [00:00<00:00, 337.87batch/s]\n",
      "training loss: 0.00006: 100%|███████████████| 98/98 [00:00<00:00, 338.51batch/s]\n"
     ]
    },
    {
     "name": "stdout",
     "output_type": "stream",
     "text": [
      "epoch 401, loss: 0.00006, val_loss: 0.00004\n"
     ]
    },
    {
     "name": "stderr",
     "output_type": "stream",
     "text": [
      "training loss: 0.00006: 100%|███████████████| 98/98 [00:00<00:00, 337.17batch/s]\n",
      "training loss: 0.00006: 100%|███████████████| 98/98 [00:00<00:00, 338.36batch/s]\n",
      "training loss: 0.00006: 100%|███████████████| 98/98 [00:00<00:00, 339.07batch/s]\n",
      "training loss: 0.00006: 100%|███████████████| 98/98 [00:00<00:00, 338.09batch/s]\n",
      "training loss: 0.00006: 100%|███████████████| 98/98 [00:00<00:00, 347.07batch/s]\n",
      "training loss: 0.00006: 100%|███████████████| 98/98 [00:00<00:00, 404.76batch/s]\n",
      "training loss: 0.00006: 100%|███████████████| 98/98 [00:00<00:00, 405.06batch/s]\n",
      "training loss: 0.00006: 100%|███████████████| 98/98 [00:00<00:00, 404.61batch/s]\n",
      "training loss: 0.00006: 100%|███████████████| 98/98 [00:00<00:00, 363.60batch/s]\n",
      "training loss: 0.00006: 100%|███████████████| 98/98 [00:00<00:00, 337.01batch/s]\n",
      "training loss: 0.00006: 100%|███████████████| 98/98 [00:00<00:00, 336.76batch/s]\n",
      "training loss: 0.00006: 100%|███████████████| 98/98 [00:00<00:00, 337.67batch/s]\n",
      "training loss: 0.00006: 100%|███████████████| 98/98 [00:00<00:00, 339.03batch/s]\n",
      "training loss: 0.00006: 100%|███████████████| 98/98 [00:00<00:00, 337.66batch/s]\n",
      "training loss: 0.00006: 100%|███████████████| 98/98 [00:00<00:00, 337.39batch/s]\n",
      "training loss: 0.00006: 100%|███████████████| 98/98 [00:00<00:00, 337.52batch/s]\n",
      "training loss: 0.00006: 100%|███████████████| 98/98 [00:00<00:00, 338.09batch/s]\n",
      "training loss: 0.00006: 100%|███████████████| 98/98 [00:00<00:00, 336.81batch/s]\n",
      "training loss: 0.00006: 100%|███████████████| 98/98 [00:00<00:00, 337.40batch/s]\n",
      "training loss: 0.00006: 100%|███████████████| 98/98 [00:00<00:00, 337.64batch/s]\n",
      "training loss: 0.00006: 100%|███████████████| 98/98 [00:00<00:00, 338.02batch/s]\n",
      "training loss: 0.00006: 100%|███████████████| 98/98 [00:00<00:00, 336.71batch/s]\n",
      "training loss: 0.00006: 100%|███████████████| 98/98 [00:00<00:00, 337.66batch/s]\n",
      "training loss: 0.00006: 100%|███████████████| 98/98 [00:00<00:00, 339.31batch/s]\n",
      "training loss: 0.00006: 100%|███████████████| 98/98 [00:00<00:00, 337.97batch/s]\n",
      "training loss: 0.00006: 100%|███████████████| 98/98 [00:00<00:00, 336.66batch/s]\n",
      "training loss: 0.00006: 100%|███████████████| 98/98 [00:00<00:00, 337.03batch/s]\n",
      "training loss: 0.00006: 100%|███████████████| 98/98 [00:00<00:00, 345.61batch/s]\n",
      "training loss: 0.00006: 100%|███████████████| 98/98 [00:00<00:00, 385.77batch/s]\n",
      "training loss: 0.00006: 100%|███████████████| 98/98 [00:00<00:00, 334.68batch/s]\n",
      "training loss: 0.00006: 100%|███████████████| 98/98 [00:00<00:00, 336.58batch/s]\n",
      "training loss: 0.00006: 100%|███████████████| 98/98 [00:00<00:00, 337.85batch/s]\n",
      "training loss: 0.00006: 100%|███████████████| 98/98 [00:00<00:00, 335.53batch/s]\n",
      "training loss: 0.00006: 100%|███████████████| 98/98 [00:00<00:00, 337.24batch/s]\n",
      "training loss: 0.00006: 100%|███████████████| 98/98 [00:00<00:00, 337.50batch/s]\n",
      "training loss: 0.00006: 100%|███████████████| 98/98 [00:00<00:00, 337.01batch/s]\n",
      "training loss: 0.00006: 100%|███████████████| 98/98 [00:00<00:00, 337.83batch/s]\n",
      "training loss: 0.00006: 100%|███████████████| 98/98 [00:00<00:00, 338.70batch/s]\n",
      "training loss: 0.00006: 100%|███████████████| 98/98 [00:00<00:00, 337.54batch/s]\n",
      "training loss: 0.00006: 100%|███████████████| 98/98 [00:00<00:00, 337.56batch/s]\n",
      "training loss: 0.00006: 100%|███████████████| 98/98 [00:00<00:00, 336.15batch/s]\n",
      "training loss: 0.00006: 100%|███████████████| 98/98 [00:00<00:00, 336.78batch/s]\n",
      "training loss: 0.00006: 100%|███████████████| 98/98 [00:00<00:00, 337.58batch/s]\n",
      "training loss: 0.00006: 100%|███████████████| 98/98 [00:00<00:00, 338.37batch/s]\n",
      "training loss: 0.00006: 100%|███████████████| 98/98 [00:00<00:00, 337.88batch/s]\n",
      "training loss: 0.00006: 100%|███████████████| 98/98 [00:00<00:00, 337.73batch/s]\n",
      "training loss: 0.00006: 100%|███████████████| 98/98 [00:00<00:00, 338.42batch/s]\n",
      "training loss: 0.00006: 100%|███████████████| 98/98 [00:00<00:00, 337.98batch/s]\n",
      "training loss: 0.00006: 100%|███████████████| 98/98 [00:00<00:00, 336.64batch/s]\n",
      "training loss: 0.00006: 100%|███████████████| 98/98 [00:00<00:00, 391.27batch/s]\n",
      "training loss: 0.00006: 100%|███████████████| 98/98 [00:00<00:00, 336.62batch/s]\n",
      "training loss: 0.00006: 100%|███████████████| 98/98 [00:00<00:00, 337.12batch/s]\n",
      "training loss: 0.00006: 100%|███████████████| 98/98 [00:00<00:00, 337.53batch/s]\n",
      "training loss: 0.00006: 100%|███████████████| 98/98 [00:00<00:00, 337.94batch/s]\n",
      "training loss: 0.00006: 100%|███████████████| 98/98 [00:00<00:00, 338.03batch/s]\n",
      "training loss: 0.00006: 100%|███████████████| 98/98 [00:00<00:00, 337.47batch/s]\n",
      "training loss: 0.00006: 100%|███████████████| 98/98 [00:00<00:00, 330.46batch/s]\n",
      "training loss: 0.00006: 100%|███████████████| 98/98 [00:00<00:00, 330.40batch/s]\n",
      "training loss: 0.00006: 100%|███████████████| 98/98 [00:00<00:00, 330.70batch/s]\n",
      "training loss: 0.00006: 100%|███████████████| 98/98 [00:00<00:00, 327.23batch/s]\n",
      "training loss: 0.00006: 100%|███████████████| 98/98 [00:00<00:00, 328.63batch/s]\n",
      "training loss: 0.00006: 100%|███████████████| 98/98 [00:00<00:00, 328.47batch/s]\n",
      "training loss: 0.00006: 100%|███████████████| 98/98 [00:00<00:00, 328.96batch/s]\n",
      "training loss: 0.00006: 100%|███████████████| 98/98 [00:00<00:00, 328.05batch/s]\n",
      "training loss: 0.00006: 100%|███████████████| 98/98 [00:00<00:00, 327.85batch/s]\n",
      "training loss: 0.00006: 100%|███████████████| 98/98 [00:00<00:00, 328.47batch/s]\n",
      "training loss: 0.00006: 100%|███████████████| 98/98 [00:00<00:00, 325.65batch/s]\n",
      "training loss: 0.00006: 100%|███████████████| 98/98 [00:00<00:00, 328.14batch/s]\n",
      "training loss: 0.00006: 100%|███████████████| 98/98 [00:00<00:00, 327.49batch/s]\n",
      "training loss: 0.00006: 100%|███████████████| 98/98 [00:00<00:00, 330.11batch/s]\n",
      "training loss: 0.00006: 100%|███████████████| 98/98 [00:00<00:00, 329.99batch/s]\n",
      "training loss: 0.00006: 100%|███████████████| 98/98 [00:00<00:00, 330.08batch/s]\n",
      "training loss: 0.00006: 100%|███████████████| 98/98 [00:00<00:00, 329.89batch/s]\n",
      "training loss: 0.00006: 100%|███████████████| 98/98 [00:00<00:00, 330.24batch/s]\n",
      "training loss: 0.00006: 100%|███████████████| 98/98 [00:00<00:00, 329.79batch/s]\n",
      "training loss: 0.00006: 100%|███████████████| 98/98 [00:00<00:00, 327.78batch/s]\n",
      "training loss: 0.00006: 100%|███████████████| 98/98 [00:00<00:00, 330.51batch/s]\n",
      "training loss: 0.00006: 100%|███████████████| 98/98 [00:00<00:00, 329.92batch/s]\n",
      "training loss: 0.00006: 100%|███████████████| 98/98 [00:00<00:00, 328.95batch/s]\n",
      "training loss: 0.00006: 100%|███████████████| 98/98 [00:00<00:00, 329.97batch/s]\n",
      "training loss: 0.00006: 100%|███████████████| 98/98 [00:00<00:00, 329.79batch/s]\n",
      "training loss: 0.00006: 100%|███████████████| 98/98 [00:00<00:00, 329.84batch/s]\n",
      "training loss: 0.00006: 100%|███████████████| 98/98 [00:00<00:00, 330.06batch/s]\n",
      "training loss: 0.00006: 100%|███████████████| 98/98 [00:00<00:00, 329.81batch/s]\n",
      "training loss: 0.00006: 100%|███████████████| 98/98 [00:00<00:00, 329.73batch/s]\n",
      "training loss: 0.00006: 100%|███████████████| 98/98 [00:00<00:00, 329.83batch/s]\n",
      "training loss: 0.00006: 100%|███████████████| 98/98 [00:00<00:00, 329.74batch/s]\n",
      "training loss: 0.00006: 100%|███████████████| 98/98 [00:00<00:00, 329.91batch/s]\n",
      "training loss: 0.00006: 100%|███████████████| 98/98 [00:00<00:00, 329.99batch/s]\n",
      "training loss: 0.00006: 100%|███████████████| 98/98 [00:00<00:00, 329.73batch/s]\n",
      "training loss: 0.00006: 100%|███████████████| 98/98 [00:00<00:00, 330.02batch/s]\n",
      "training loss: 0.00006: 100%|███████████████| 98/98 [00:00<00:00, 329.99batch/s]\n",
      "training loss: 0.00006: 100%|███████████████| 98/98 [00:00<00:00, 329.73batch/s]\n",
      "training loss: 0.00006: 100%|███████████████| 98/98 [00:00<00:00, 330.16batch/s]\n",
      "training loss: 0.00006: 100%|███████████████| 98/98 [00:00<00:00, 330.34batch/s]\n",
      "training loss: 0.00006: 100%|███████████████| 98/98 [00:00<00:00, 329.79batch/s]\n",
      "training loss: 0.00006: 100%|███████████████| 98/98 [00:00<00:00, 329.58batch/s]\n",
      "training loss: 0.00006: 100%|███████████████| 98/98 [00:00<00:00, 329.80batch/s]\n",
      "training loss: 0.00006: 100%|███████████████| 98/98 [00:00<00:00, 330.09batch/s]\n",
      "training loss: 0.00006: 100%|███████████████| 98/98 [00:00<00:00, 330.01batch/s]\n"
     ]
    },
    {
     "name": "stdout",
     "output_type": "stream",
     "text": [
      "epoch 501, loss: 0.00006, val_loss: 0.00004\n"
     ]
    },
    {
     "name": "stderr",
     "output_type": "stream",
     "text": [
      "training loss: 0.00006: 100%|███████████████| 98/98 [00:00<00:00, 329.94batch/s]\n",
      "training loss: 0.00006: 100%|███████████████| 98/98 [00:00<00:00, 330.05batch/s]\n",
      "training loss: 0.00006: 100%|███████████████| 98/98 [00:00<00:00, 329.90batch/s]\n",
      "training loss: 0.00006: 100%|███████████████| 98/98 [00:00<00:00, 329.96batch/s]\n",
      "training loss: 0.00006: 100%|███████████████| 98/98 [00:00<00:00, 330.05batch/s]\n",
      "training loss: 0.00006: 100%|███████████████| 98/98 [00:00<00:00, 330.37batch/s]\n",
      "training loss: 0.00006: 100%|███████████████| 98/98 [00:00<00:00, 330.11batch/s]\n",
      "training loss: 0.00006: 100%|███████████████| 98/98 [00:00<00:00, 329.79batch/s]\n",
      "training loss: 0.00006: 100%|███████████████| 98/98 [00:00<00:00, 329.31batch/s]\n",
      "training loss: 0.00006: 100%|███████████████| 98/98 [00:00<00:00, 329.81batch/s]\n",
      "training loss: 0.00006: 100%|███████████████| 98/98 [00:00<00:00, 330.15batch/s]\n",
      "training loss: 0.00006: 100%|███████████████| 98/98 [00:00<00:00, 329.96batch/s]\n",
      "training loss: 0.00006: 100%|███████████████| 98/98 [00:00<00:00, 329.67batch/s]\n",
      "training loss: 0.00006: 100%|███████████████| 98/98 [00:00<00:00, 329.39batch/s]\n",
      "training loss: 0.00006:  78%|███████████▋   | 76/98 [00:00<00:00, 333.63batch/s]\n"
     ]
    },
    {
     "ename": "KeyboardInterrupt",
     "evalue": "",
     "output_type": "error",
     "traceback": [
      "\u001b[0;31m---------------------------------------------------------------------------\u001b[0m",
      "\u001b[0;31mKeyboardInterrupt\u001b[0m                         Traceback (most recent call last)",
      "Cell \u001b[0;32mIn[236], line 13\u001b[0m\n\u001b[1;32m      9\u001b[0m \u001b[38;5;66;03m# Epoch 별 훈련 및 검증을 수행합니다.\u001b[39;00m\n\u001b[1;32m     10\u001b[0m \u001b[38;5;28;01mfor\u001b[39;00m epoch \u001b[38;5;129;01min\u001b[39;00m \u001b[38;5;28mrange\u001b[39m(num_epochs):\n\u001b[1;32m     11\u001b[0m     \u001b[38;5;66;03m# Model Training\u001b[39;00m\n\u001b[1;32m     12\u001b[0m     \u001b[38;5;66;03m# 훈련 손실을 반환 받습니다.\u001b[39;00m\n\u001b[0;32m---> 13\u001b[0m     train_loss \u001b[38;5;241m=\u001b[39m \u001b[43mmodel_train\u001b[49m\u001b[43m(\u001b[49m\u001b[43mmodel\u001b[49m\u001b[43m,\u001b[49m\u001b[43m \u001b[49m\u001b[43mtrain_loader\u001b[49m\u001b[43m,\u001b[49m\u001b[43m \u001b[49m\u001b[43mloss_fn\u001b[49m\u001b[43m,\u001b[49m\u001b[43m \u001b[49m\u001b[43moptimizer\u001b[49m\u001b[43m,\u001b[49m\u001b[43m \u001b[49m\u001b[43mdevice\u001b[49m\u001b[43m)\u001b[49m\n\u001b[1;32m     15\u001b[0m     \u001b[38;5;66;03m# 검증 손실을 반환 받습니다.\u001b[39;00m\n\u001b[1;32m     16\u001b[0m     val_loss \u001b[38;5;241m=\u001b[39m model_evaluate(model, valid_loader, loss_fn, device)   \n",
      "Cell \u001b[0;32mIn[225], line 36\u001b[0m, in \u001b[0;36mmodel_train\u001b[0;34m(model, data_loader, loss_fn, optimizer, device)\u001b[0m\n\u001b[1;32m     33\u001b[0m optimizer\u001b[38;5;241m.\u001b[39mstep()\n\u001b[1;32m     35\u001b[0m \u001b[38;5;66;03m# batch 별 loss 계산하여 누적합을 구합니다.\u001b[39;00m\n\u001b[0;32m---> 36\u001b[0m running_loss \u001b[38;5;241m+\u001b[39m\u001b[38;5;241m=\u001b[39m \u001b[43mloss\u001b[49m\u001b[38;5;241;43m.\u001b[39;49m\u001b[43mitem\u001b[49m\u001b[43m(\u001b[49m\u001b[43m)\u001b[49m\n\u001b[1;32m     38\u001b[0m \u001b[38;5;66;03m# 프로그레스바에 학습 상황 업데이트\u001b[39;00m\n\u001b[1;32m     39\u001b[0m prograss_bar\u001b[38;5;241m.\u001b[39mset_description(\u001b[38;5;124mf\u001b[39m\u001b[38;5;124m\"\u001b[39m\u001b[38;5;124mtraining loss: \u001b[39m\u001b[38;5;132;01m{\u001b[39;00mrunning_loss\u001b[38;5;241m/\u001b[39m(idx\u001b[38;5;241m+\u001b[39m\u001b[38;5;241m1\u001b[39m)\u001b[38;5;132;01m:\u001b[39;00m\u001b[38;5;124m.5f\u001b[39m\u001b[38;5;132;01m}\u001b[39;00m\u001b[38;5;124m\"\u001b[39m)\n",
      "\u001b[0;31mKeyboardInterrupt\u001b[0m: "
     ]
    }
   ],
   "source": [
    "# 최대 Epoch을 지정합니다.\n",
    "num_epochs = 1000\n",
    "\n",
    "# checkpoint로 저장할 모델의 이름을 정의 합니다.\n",
    "model_name = 'TimeSeries-LSTM'\n",
    "\n",
    "min_loss = np.inf\n",
    "\n",
    "# Epoch 별 훈련 및 검증을 수행합니다.\n",
    "for epoch in range(num_epochs):\n",
    "    # Model Training\n",
    "    # 훈련 손실을 반환 받습니다.\n",
    "    train_loss = model_train(model, train_loader, loss_fn, optimizer, device)\n",
    "\n",
    "    # 검증 손실을 반환 받습니다.\n",
    "    val_loss = model_evaluate(model, valid_loader, loss_fn, device)   \n",
    "    \n",
    "    # val_loss 가 개선되었다면 min_loss를 갱신하고 model의 가중치(weights)를 저장합니다.\n",
    "    if val_loss < min_loss:\n",
    "        print(f'[INFO] val_loss has been improved from {min_loss:.5f} to {val_loss:.5f}. Saving Model!')\n",
    "        min_loss = val_loss\n",
    "        torch.save(model.state_dict(), f'{model_name}.pth')\n",
    "    \n",
    "    # Epoch 별 결과를 출력합니다.\n",
    "    if epoch % 100 == 0:\n",
    "        print(f'epoch {epoch+1:02d}, loss: {train_loss:.5f}, val_loss: {val_loss:.5f}')"
   ]
  },
  {
   "cell_type": "markdown",
   "id": "df0c3381",
   "metadata": {},
   "source": [
    "## 저장한 가중치 로드"
   ]
  },
  {
   "cell_type": "code",
   "execution_count": 228,
   "id": "2cf297a0",
   "metadata": {},
   "outputs": [
    {
     "data": {
      "text/plain": [
       "<All keys matched successfully>"
      ]
     },
     "execution_count": 228,
     "metadata": {},
     "output_type": "execute_result"
    }
   ],
   "source": [
    "model.load_state_dict(torch.load(f'{model_name}.pth'))"
   ]
  },
  {
   "cell_type": "markdown",
   "id": "eb162667",
   "metadata": {},
   "source": [
    "## Evaluation\n",
    "\n",
    "- `N_PREDICTION` = 1"
   ]
  },
  {
   "cell_type": "code",
   "execution_count": 237,
   "id": "579f7cd2",
   "metadata": {},
   "outputs": [
    {
     "data": {
      "text/plain": [
       "torch.Size([30, 1])"
      ]
     },
     "execution_count": 237,
     "metadata": {},
     "output_type": "execute_result"
    }
   ],
   "source": [
    "last_data = series[-WINDOW_SIZE:]\n",
    "last_data = torch.FloatTensor(last_data).to(device)\n",
    "last_data.shape"
   ]
  },
  {
   "cell_type": "code",
   "execution_count": 244,
   "id": "c818036a",
   "metadata": {},
   "outputs": [
    {
     "data": {
      "text/plain": [
       "torch.Size([1, 1])"
      ]
     },
     "execution_count": 244,
     "metadata": {},
     "output_type": "execute_result"
    }
   ],
   "source": [
    "model.init_hidden_and_cell_state(1, device)\n",
    "output = model(last_data)\n",
    "output.shape"
   ]
  },
  {
   "cell_type": "code",
   "execution_count": 238,
   "id": "56e82747",
   "metadata": {},
   "outputs": [
    {
     "data": {
      "text/plain": [
       "tensor([[[0.3998],\n",
       "         [0.3796],\n",
       "         [0.4016],\n",
       "         [0.3883],\n",
       "         [0.3907],\n",
       "         [0.3903],\n",
       "         [0.3810],\n",
       "         [0.3823],\n",
       "         [0.3817],\n",
       "         [0.3820],\n",
       "         [0.3702],\n",
       "         [0.3769],\n",
       "         [0.3880],\n",
       "         [0.3908],\n",
       "         [0.3882],\n",
       "         [0.3958],\n",
       "         [0.4177],\n",
       "         [0.4429],\n",
       "         [0.4412],\n",
       "         [0.4529],\n",
       "         [0.4507],\n",
       "         [0.4497],\n",
       "         [0.4466],\n",
       "         [0.4527],\n",
       "         [0.4438],\n",
       "         [0.4491],\n",
       "         [0.4496],\n",
       "         [0.4513],\n",
       "         [0.4517],\n",
       "         [0.4536]]], device='cuda:0')"
      ]
     },
     "execution_count": 238,
     "metadata": {},
     "output_type": "execute_result"
    }
   ],
   "source": [
    "last_data = torch.unsqueeze(last_data, 0)#.unsqueeze(0)\n",
    "last_data"
   ]
  },
  {
   "cell_type": "code",
   "execution_count": 239,
   "id": "9d86e684",
   "metadata": {},
   "outputs": [
    {
     "data": {
      "text/plain": [
       "torch.Size([1, 30, 1])"
      ]
     },
     "execution_count": 239,
     "metadata": {},
     "output_type": "execute_result"
    }
   ],
   "source": [
    "inputs = torch.tensor(last_data)\n",
    "inputs.shape"
   ]
  },
  {
   "cell_type": "code",
   "execution_count": 240,
   "id": "960c8431",
   "metadata": {},
   "outputs": [
    {
     "data": {
      "text/plain": [
       "(50,)"
      ]
     },
     "execution_count": 240,
     "metadata": {},
     "output_type": "execute_result"
    }
   ],
   "source": [
    "NEXT_TIMESTEPS = 50\n",
    "\n",
    "model.eval()\n",
    "\n",
    "results = []\n",
    "inputs = torch.tensor(last_data)\n",
    "\n",
    "with torch.no_grad():\n",
    "    inputs = torch.tensor(last_data)\n",
    "    for i in range(NEXT_TIMESTEPS):\n",
    "        model.init_hidden_and_cell_state(1, device)\n",
    "        output = model(inputs)\n",
    "        results.append(output[0, 0])\n",
    "        inputs = torch.cat([inputs.squeeze()[-(WINDOW_SIZE-1):], output[0, 0].view(1)], axis=0)\n",
    "        inputs = torch.unsqueeze(inputs, -1).unsqueeze(0)\n",
    "        \n",
    "results = torch.tensor(results).numpy()\n",
    "results.shape"
   ]
  },
  {
   "cell_type": "code",
   "execution_count": 241,
   "id": "1855f050",
   "metadata": {},
   "outputs": [
    {
     "data": {
      "image/png": "[encoded data removed]",
      "text/plain": [
       "<Figure size 1000x600 with 1 Axes>"
      ]
     },
     "metadata": {},
     "output_type": "display_data"
    }
   ],
   "source": [
    "fig, ax = plt.subplots(1, 1)\n",
    "ax.plot(series.flatten()[-NEXT_TIMESTEPS:], color='black', linestyle='dotted', label='real')\n",
    "ax.plot(results, color='tomato', label='prediction')\n",
    "plt.show()"
   ]
  },
  {
   "cell_type": "code",
   "execution_count": null,
   "id": "8fbc3c77",
   "metadata": {},
   "outputs": [],
   "source": []
  }
 ],
 "metadata": {
  "kernelspec": {
   "display_name": "Python 3 (ipykernel)",
   "language": "python",
   "name": "python3"
  },
  "language_info": {
   "codemirror_mode": {
    "name": "ipython",
    "version": 3
   },
   "file_extension": ".py",
   "mimetype": "text/x-python",
   "name": "python",
   "nbconvert_exporter": "python",
   "pygments_lexer": "ipython3",
   "version": "3.8.16"
  }
 },
 "nbformat": 4,
 "nbformat_minor": 5
}
