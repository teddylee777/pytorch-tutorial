{
 "cells": [
  {
   "cell_type": "code",
   "execution_count": 30,
   "id": "82d3737e",
   "metadata": {},
   "outputs": [],
   "source": [
    "import pandas as pd\n",
    "import numpy as np\n",
    "import matplotlib.pyplot as plt\n",
    "import seaborn as sns\n",
    "import warnings\n",
    "import random\n",
    "import os\n",
    "import torch\n",
    "from tqdm import tqdm\n",
    "\n",
    "pd.set_option('display.max_colwidth', None)\n",
    "\n",
    "# 1,000 단위 표기\n",
    "pd.options.display.float_format = '{:,.5f}'.format\n",
    "\n",
    "# Unicode warning 제거 (폰트 관련 경고메시지)\n",
    "plt.rcParams['axes.unicode_minus']=False\n",
    "\n",
    "# 그래프 출력 사이즈 설정\n",
    "plt.rcParams[\"figure.figsize\"] = (10, 6)\n",
    "\n",
    "# 경고 무시\n",
    "warnings.filterwarnings('ignore')\n",
    "\n",
    "# Data 경로 설정\n",
    "DATA_DIR = 'data'\n",
    "\n",
    "# 시드설정\n",
    "SEED = 123\n",
    "\n",
    "def seed_everything(seed=SEED):\n",
    "    random.seed(seed)\n",
    "    np.random.seed(seed)\n",
    "    os.environ[\"PYTHONHASHSEED\"] = str(seed)\n",
    "    torch.manual_seed(seed)\n",
    "    torch.cuda.manual_seed(seed)\n",
    "    torch.backends.cudnn.deterministic = True\n",
    "    torch.backends.cudnn.benchmark = True\n",
    "    \n",
    "seed_everything(SEED)\n",
    "\n",
    "%matplotlib inline"
   ]
  },
  {
   "cell_type": "code",
   "execution_count": 31,
   "id": "c0009ff9",
   "metadata": {},
   "outputs": [
    {
     "data": {
      "text/html": [
       "<div>\n",
       "<style scoped>\n",
       "    .dataframe tbody tr th:only-of-type {\n",
       "        vertical-align: middle;\n",
       "    }\n",
       "\n",
       "    .dataframe tbody tr th {\n",
       "        vertical-align: top;\n",
       "    }\n",
       "\n",
       "    .dataframe thead th {\n",
       "        text-align: right;\n",
       "    }\n",
       "</style>\n",
       "<table border=\"1\" class=\"dataframe\">\n",
       "  <thead>\n",
       "    <tr style=\"text-align: right;\">\n",
       "      <th></th>\n",
       "      <th>Open</th>\n",
       "      <th>High</th>\n",
       "      <th>Low</th>\n",
       "      <th>Close</th>\n",
       "      <th>Volume</th>\n",
       "    </tr>\n",
       "    <tr>\n",
       "      <th>Date</th>\n",
       "      <th></th>\n",
       "      <th></th>\n",
       "      <th></th>\n",
       "      <th></th>\n",
       "      <th></th>\n",
       "    </tr>\n",
       "  </thead>\n",
       "  <tbody>\n",
       "    <tr>\n",
       "      <th>2014-09-17</th>\n",
       "      <td>465.86401</td>\n",
       "      <td>468.17401</td>\n",
       "      <td>452.42200</td>\n",
       "      <td>457.33402</td>\n",
       "      <td>21056800</td>\n",
       "    </tr>\n",
       "    <tr>\n",
       "      <th>2014-09-18</th>\n",
       "      <td>456.85998</td>\n",
       "      <td>456.85998</td>\n",
       "      <td>413.10400</td>\n",
       "      <td>424.44000</td>\n",
       "      <td>34483200</td>\n",
       "    </tr>\n",
       "    <tr>\n",
       "      <th>2014-09-19</th>\n",
       "      <td>424.10300</td>\n",
       "      <td>427.83499</td>\n",
       "      <td>384.53201</td>\n",
       "      <td>394.79599</td>\n",
       "      <td>37919700</td>\n",
       "    </tr>\n",
       "    <tr>\n",
       "      <th>2014-09-20</th>\n",
       "      <td>394.67300</td>\n",
       "      <td>423.29599</td>\n",
       "      <td>389.88300</td>\n",
       "      <td>408.90399</td>\n",
       "      <td>36863600</td>\n",
       "    </tr>\n",
       "    <tr>\n",
       "      <th>2014-09-21</th>\n",
       "      <td>408.08499</td>\n",
       "      <td>412.42600</td>\n",
       "      <td>393.18100</td>\n",
       "      <td>398.82101</td>\n",
       "      <td>26580100</td>\n",
       "    </tr>\n",
       "  </tbody>\n",
       "</table>\n",
       "</div>"
      ],
      "text/plain": [
       "                Open      High       Low     Close    Volume\n",
       "Date                                                        \n",
       "2014-09-17 465.86401 468.17401 452.42200 457.33402  21056800\n",
       "2014-09-18 456.85998 456.85998 413.10400 424.44000  34483200\n",
       "2014-09-19 424.10300 427.83499 384.53201 394.79599  37919700\n",
       "2014-09-20 394.67300 423.29599 389.88300 408.90399  36863600\n",
       "2014-09-21 408.08499 412.42600 393.18100 398.82101  26580100"
      ]
     },
     "execution_count": 31,
     "metadata": {},
     "output_type": "execute_result"
    }
   ],
   "source": [
    "import FinanceDataReader as fdr\n",
    "\n",
    "df = fdr.DataReader('BTC/USD')\n",
    "df = df.drop('Adj Close', axis=1)\n",
    "df.head()"
   ]
  },
  {
   "cell_type": "code",
   "execution_count": 32,
   "id": "2a1ea404",
   "metadata": {},
   "outputs": [
    {
     "data": {
      "text/plain": [
       "array([[4.28907290e-03, 3.73944128e-03, 4.24270741e-03, 4.14358659e-03,\n",
       "        4.31449241e-05],\n",
       "       [4.15542811e-03, 3.57446063e-03, 3.64887469e-03, 3.65546320e-03,\n",
       "        8.14009147e-05],\n",
       "       [3.66922344e-03, 3.15121937e-03, 3.21734240e-03, 3.21556748e-03,\n",
       "        9.11925723e-05],\n",
       "       [3.23240062e-03, 3.08503185e-03, 3.29816008e-03, 3.42492004e-03,\n",
       "        8.81834148e-05],\n",
       "       [3.43147175e-03, 2.92652603e-03, 3.34797093e-03, 3.27529593e-03,\n",
       "        5.88825241e-05]])"
      ]
     },
     "execution_count": 32,
     "metadata": {},
     "output_type": "execute_result"
    }
   ],
   "source": [
    "from sklearn.preprocessing import MinMaxScaler\n",
    "\n",
    "scaler = MinMaxScaler()\n",
    "series = scaler.fit_transform(df)\n",
    "series[:5]"
   ]
  },
  {
   "cell_type": "code",
   "execution_count": 33,
   "id": "feccfc5d",
   "metadata": {},
   "outputs": [
    {
     "data": {
      "text/html": [
       "<div>\n",
       "<style scoped>\n",
       "    .dataframe tbody tr th:only-of-type {\n",
       "        vertical-align: middle;\n",
       "    }\n",
       "\n",
       "    .dataframe tbody tr th {\n",
       "        vertical-align: top;\n",
       "    }\n",
       "\n",
       "    .dataframe thead th {\n",
       "        text-align: right;\n",
       "    }\n",
       "</style>\n",
       "<table border=\"1\" class=\"dataframe\">\n",
       "  <thead>\n",
       "    <tr style=\"text-align: right;\">\n",
       "      <th></th>\n",
       "      <th>Open</th>\n",
       "      <th>High</th>\n",
       "      <th>Low</th>\n",
       "      <th>Close</th>\n",
       "      <th>Volume</th>\n",
       "    </tr>\n",
       "    <tr>\n",
       "      <th>Date</th>\n",
       "      <th></th>\n",
       "      <th></th>\n",
       "      <th></th>\n",
       "      <th></th>\n",
       "      <th></th>\n",
       "    </tr>\n",
       "  </thead>\n",
       "  <tbody>\n",
       "    <tr>\n",
       "      <th>2014-09-17</th>\n",
       "      <td>0.00429</td>\n",
       "      <td>0.00374</td>\n",
       "      <td>0.00424</td>\n",
       "      <td>0.00414</td>\n",
       "      <td>0.00004</td>\n",
       "    </tr>\n",
       "    <tr>\n",
       "      <th>2014-09-18</th>\n",
       "      <td>0.00416</td>\n",
       "      <td>0.00357</td>\n",
       "      <td>0.00365</td>\n",
       "      <td>0.00366</td>\n",
       "      <td>0.00008</td>\n",
       "    </tr>\n",
       "    <tr>\n",
       "      <th>2014-09-19</th>\n",
       "      <td>0.00367</td>\n",
       "      <td>0.00315</td>\n",
       "      <td>0.00322</td>\n",
       "      <td>0.00322</td>\n",
       "      <td>0.00009</td>\n",
       "    </tr>\n",
       "    <tr>\n",
       "      <th>2014-09-20</th>\n",
       "      <td>0.00323</td>\n",
       "      <td>0.00309</td>\n",
       "      <td>0.00330</td>\n",
       "      <td>0.00342</td>\n",
       "      <td>0.00009</td>\n",
       "    </tr>\n",
       "    <tr>\n",
       "      <th>2014-09-21</th>\n",
       "      <td>0.00343</td>\n",
       "      <td>0.00293</td>\n",
       "      <td>0.00335</td>\n",
       "      <td>0.00328</td>\n",
       "      <td>0.00006</td>\n",
       "    </tr>\n",
       "    <tr>\n",
       "      <th>...</th>\n",
       "      <td>...</td>\n",
       "      <td>...</td>\n",
       "      <td>...</td>\n",
       "      <td>...</td>\n",
       "      <td>...</td>\n",
       "    </tr>\n",
       "    <tr>\n",
       "      <th>2023-06-29</th>\n",
       "      <td>0.44394</td>\n",
       "      <td>0.44598</td>\n",
       "      <td>0.45137</td>\n",
       "      <td>0.44914</td>\n",
       "      <td>0.03754</td>\n",
       "    </tr>\n",
       "    <tr>\n",
       "      <th>2023-06-30</th>\n",
       "      <td>0.44921</td>\n",
       "      <td>0.45270</td>\n",
       "      <td>0.44447</td>\n",
       "      <td>0.44962</td>\n",
       "      <td>0.07517</td>\n",
       "    </tr>\n",
       "    <tr>\n",
       "      <th>2023-07-01</th>\n",
       "      <td>0.44966</td>\n",
       "      <td>0.44372</td>\n",
       "      <td>0.45548</td>\n",
       "      <td>0.45129</td>\n",
       "      <td>0.02587</td>\n",
       "    </tr>\n",
       "    <tr>\n",
       "      <th>2023-07-02</th>\n",
       "      <td>0.45137</td>\n",
       "      <td>0.44554</td>\n",
       "      <td>0.45450</td>\n",
       "      <td>0.45175</td>\n",
       "      <td>0.03000</td>\n",
       "    </tr>\n",
       "    <tr>\n",
       "      <th>2023-07-03</th>\n",
       "      <td>0.45180</td>\n",
       "      <td>0.45069</td>\n",
       "      <td>0.45939</td>\n",
       "      <td>0.45767</td>\n",
       "      <td>0.03916</td>\n",
       "    </tr>\n",
       "  </tbody>\n",
       "</table>\n",
       "<p>3212 rows × 5 columns</p>\n",
       "</div>"
      ],
      "text/plain": [
       "              Open    High     Low   Close  Volume\n",
       "Date                                              \n",
       "2014-09-17 0.00429 0.00374 0.00424 0.00414 0.00004\n",
       "2014-09-18 0.00416 0.00357 0.00365 0.00366 0.00008\n",
       "2014-09-19 0.00367 0.00315 0.00322 0.00322 0.00009\n",
       "2014-09-20 0.00323 0.00309 0.00330 0.00342 0.00009\n",
       "2014-09-21 0.00343 0.00293 0.00335 0.00328 0.00006\n",
       "...            ...     ...     ...     ...     ...\n",
       "2023-06-29 0.44394 0.44598 0.45137 0.44914 0.03754\n",
       "2023-06-30 0.44921 0.45270 0.44447 0.44962 0.07517\n",
       "2023-07-01 0.44966 0.44372 0.45548 0.45129 0.02587\n",
       "2023-07-02 0.45137 0.44554 0.45450 0.45175 0.03000\n",
       "2023-07-03 0.45180 0.45069 0.45939 0.45767 0.03916\n",
       "\n",
       "[3212 rows x 5 columns]"
      ]
     },
     "execution_count": 33,
     "metadata": {},
     "output_type": "execute_result"
    }
   ],
   "source": [
    "series_df = pd.DataFrame(series, index=df.index, columns=df.columns)\n",
    "series_df"
   ]
  },
  {
   "cell_type": "markdown",
   "id": "1d23a30b",
   "metadata": {},
   "source": [
    "## Windowed Dataset"
   ]
  },
  {
   "cell_type": "code",
   "execution_count": 56,
   "id": "262bff96",
   "metadata": {},
   "outputs": [],
   "source": [
    "N_PREDICTIONS = 1\n",
    "N_FEATURES = 4\n",
    "WINDOW_SIZE = 10"
   ]
  },
  {
   "cell_type": "code",
   "execution_count": 35,
   "id": "391c4c3b",
   "metadata": {},
   "outputs": [],
   "source": [
    "def make_dataset(series, target, window_size=WINDOW_SIZE, n_predictions=N_PREDICTIONS):\n",
    "    Xs = []\n",
    "    Ys = []\n",
    "    for i in range(len(series) - window_size - n_predictions +1):\n",
    "        Xs.append(series.iloc[i:i+window_size].drop(target, axis=1))\n",
    "        Ys.append(series.iloc[i+window_size: i+window_size+n_predictions].loc[:, target])\n",
    "    return np.array(Xs), np.array(Ys)"
   ]
  },
  {
   "cell_type": "code",
   "execution_count": 36,
   "id": "2869e188",
   "metadata": {},
   "outputs": [
    {
     "data": {
      "text/plain": [
       "((3202, 10, 4), (3202, 1))"
      ]
     },
     "execution_count": 36,
     "metadata": {},
     "output_type": "execute_result"
    }
   ],
   "source": [
    "# 데이터셋 생성\n",
    "Xs, Ys = make_dataset(series_df, 'Close')\n",
    "Xs.shape, Ys.shape"
   ]
  },
  {
   "cell_type": "code",
   "execution_count": 37,
   "id": "de5dcb3d",
   "metadata": {},
   "outputs": [],
   "source": [
    "n_splits = 200\n",
    "\n",
    "x_train, y_train = Xs[:-n_splits], Ys[:-n_splits]\n",
    "x_valid, y_valid = Xs[-n_splits:], Ys[-n_splits:]"
   ]
  },
  {
   "cell_type": "code",
   "execution_count": 38,
   "id": "478333fc",
   "metadata": {},
   "outputs": [
    {
     "data": {
      "text/plain": [
       "((3002, 10, 4), (3002, 1))"
      ]
     },
     "execution_count": 38,
     "metadata": {},
     "output_type": "execute_result"
    }
   ],
   "source": [
    "x_train.shape, y_train.shape"
   ]
  },
  {
   "cell_type": "code",
   "execution_count": 39,
   "id": "3f699b3a",
   "metadata": {},
   "outputs": [
    {
     "data": {
      "text/plain": [
       "((200, 10, 4), (200, 1))"
      ]
     },
     "execution_count": 39,
     "metadata": {},
     "output_type": "execute_result"
    }
   ],
   "source": [
    "x_valid.shape, y_valid.shape"
   ]
  },
  {
   "cell_type": "code",
   "execution_count": 40,
   "id": "999b772e",
   "metadata": {},
   "outputs": [
    {
     "data": {
      "text/html": [
       "<div>\n",
       "<style scoped>\n",
       "    .dataframe tbody tr th:only-of-type {\n",
       "        vertical-align: middle;\n",
       "    }\n",
       "\n",
       "    .dataframe tbody tr th {\n",
       "        vertical-align: top;\n",
       "    }\n",
       "\n",
       "    .dataframe thead th {\n",
       "        text-align: right;\n",
       "    }\n",
       "</style>\n",
       "<table border=\"1\" class=\"dataframe\">\n",
       "  <thead>\n",
       "    <tr style=\"text-align: right;\">\n",
       "      <th></th>\n",
       "      <th>Open</th>\n",
       "      <th>High</th>\n",
       "      <th>Low</th>\n",
       "      <th>Close</th>\n",
       "      <th>Volume</th>\n",
       "    </tr>\n",
       "    <tr>\n",
       "      <th>Date</th>\n",
       "      <th></th>\n",
       "      <th></th>\n",
       "      <th></th>\n",
       "      <th></th>\n",
       "      <th></th>\n",
       "    </tr>\n",
       "  </thead>\n",
       "  <tbody>\n",
       "    <tr>\n",
       "      <th>2023-06-24</th>\n",
       "      <td>0.45318</td>\n",
       "      <td>0.44610</td>\n",
       "      <td>0.45489</td>\n",
       "      <td>0.45068</td>\n",
       "      <td>0.03460</td>\n",
       "    </tr>\n",
       "    <tr>\n",
       "      <th>2023-06-25</th>\n",
       "      <td>0.45075</td>\n",
       "      <td>0.44956</td>\n",
       "      <td>0.45546</td>\n",
       "      <td>0.44966</td>\n",
       "      <td>0.03618</td>\n",
       "    </tr>\n",
       "    <tr>\n",
       "      <th>2023-06-26</th>\n",
       "      <td>0.44979</td>\n",
       "      <td>0.44365</td>\n",
       "      <td>0.44984</td>\n",
       "      <td>0.44656</td>\n",
       "      <td>0.04698</td>\n",
       "    </tr>\n",
       "    <tr>\n",
       "      <th>2023-06-27</th>\n",
       "      <td>0.44673</td>\n",
       "      <td>0.44905</td>\n",
       "      <td>0.45408</td>\n",
       "      <td>0.45275</td>\n",
       "      <td>0.04679</td>\n",
       "    </tr>\n",
       "    <tr>\n",
       "      <th>2023-06-28</th>\n",
       "      <td>0.45300</td>\n",
       "      <td>0.44463</td>\n",
       "      <td>0.44933</td>\n",
       "      <td>0.44382</td>\n",
       "      <td>0.04150</td>\n",
       "    </tr>\n",
       "    <tr>\n",
       "      <th>2023-06-29</th>\n",
       "      <td>0.44394</td>\n",
       "      <td>0.44598</td>\n",
       "      <td>0.45137</td>\n",
       "      <td>0.44914</td>\n",
       "      <td>0.03754</td>\n",
       "    </tr>\n",
       "    <tr>\n",
       "      <th>2023-06-30</th>\n",
       "      <td>0.44921</td>\n",
       "      <td>0.45270</td>\n",
       "      <td>0.44447</td>\n",
       "      <td>0.44962</td>\n",
       "      <td>0.07517</td>\n",
       "    </tr>\n",
       "    <tr>\n",
       "      <th>2023-07-01</th>\n",
       "      <td>0.44966</td>\n",
       "      <td>0.44372</td>\n",
       "      <td>0.45548</td>\n",
       "      <td>0.45129</td>\n",
       "      <td>0.02587</td>\n",
       "    </tr>\n",
       "    <tr>\n",
       "      <th>2023-07-02</th>\n",
       "      <td>0.45137</td>\n",
       "      <td>0.44554</td>\n",
       "      <td>0.45450</td>\n",
       "      <td>0.45175</td>\n",
       "      <td>0.03000</td>\n",
       "    </tr>\n",
       "    <tr>\n",
       "      <th>2023-07-03</th>\n",
       "      <td>0.45180</td>\n",
       "      <td>0.45069</td>\n",
       "      <td>0.45939</td>\n",
       "      <td>0.45767</td>\n",
       "      <td>0.03916</td>\n",
       "    </tr>\n",
       "  </tbody>\n",
       "</table>\n",
       "</div>"
      ],
      "text/plain": [
       "              Open    High     Low   Close  Volume\n",
       "Date                                              \n",
       "2023-06-24 0.45318 0.44610 0.45489 0.45068 0.03460\n",
       "2023-06-25 0.45075 0.44956 0.45546 0.44966 0.03618\n",
       "2023-06-26 0.44979 0.44365 0.44984 0.44656 0.04698\n",
       "2023-06-27 0.44673 0.44905 0.45408 0.45275 0.04679\n",
       "2023-06-28 0.45300 0.44463 0.44933 0.44382 0.04150\n",
       "2023-06-29 0.44394 0.44598 0.45137 0.44914 0.03754\n",
       "2023-06-30 0.44921 0.45270 0.44447 0.44962 0.07517\n",
       "2023-07-01 0.44966 0.44372 0.45548 0.45129 0.02587\n",
       "2023-07-02 0.45137 0.44554 0.45450 0.45175 0.03000\n",
       "2023-07-03 0.45180 0.45069 0.45939 0.45767 0.03916"
      ]
     },
     "execution_count": 40,
     "metadata": {},
     "output_type": "execute_result"
    }
   ],
   "source": [
    "series_df[-10:]"
   ]
  },
  {
   "cell_type": "code",
   "execution_count": 44,
   "id": "9ff08bca",
   "metadata": {},
   "outputs": [
    {
     "data": {
      "text/plain": [
       "array([[0.4411197 , 0.4546335 , 0.44817184, 0.06869591],\n",
       "       [0.45317731, 0.44609736, 0.45489179, 0.03459607],\n",
       "       [0.45074921, 0.44955508, 0.45546264, 0.03617927],\n",
       "       [0.44978997, 0.44364585, 0.4498412 , 0.04697737],\n",
       "       [0.44672934, 0.44905223, 0.45408382, 0.04679399],\n",
       "       [0.45299656, 0.44462649, 0.44932886, 0.04150189],\n",
       "       [0.44393693, 0.44598218, 0.45137357, 0.03753952],\n",
       "       [0.44920858, 0.45269883, 0.44447243, 0.07516879],\n",
       "       [0.4496612 , 0.44372255, 0.45547657, 0.02587372],\n",
       "       [0.45137438, 0.44554313, 0.45449718, 0.02999613]])"
      ]
     },
     "execution_count": 44,
     "metadata": {},
     "output_type": "execute_result"
    }
   ],
   "source": [
    "x_valid[-1]"
   ]
  },
  {
   "cell_type": "code",
   "execution_count": 45,
   "id": "2f9df9af",
   "metadata": {},
   "outputs": [
    {
     "data": {
      "text/plain": [
       "array([0.45767191])"
      ]
     },
     "execution_count": 45,
     "metadata": {},
     "output_type": "execute_result"
    }
   ],
   "source": [
    "y_valid[-1]"
   ]
  },
  {
   "cell_type": "markdown",
   "id": "1f9813b8",
   "metadata": {},
   "source": [
    "## Tensor DataSet 생성"
   ]
  },
  {
   "cell_type": "code",
   "execution_count": 46,
   "id": "5609aebc",
   "metadata": {},
   "outputs": [],
   "source": [
    "def make_tensor(x, device):\n",
    "    return torch.FloatTensor(x).to(device)"
   ]
  },
  {
   "cell_type": "code",
   "execution_count": 47,
   "id": "7888074a",
   "metadata": {},
   "outputs": [
    {
     "name": "stdout",
     "output_type": "stream",
     "text": [
      "cuda\n"
     ]
    }
   ],
   "source": [
    "# device 설정 (cuda 혹은 cpu)\n",
    "device = torch.device('cuda' if torch.cuda.is_available() else 'cpu')\n",
    "print(device)"
   ]
  },
  {
   "cell_type": "code",
   "execution_count": 48,
   "id": "66b2c3ec",
   "metadata": {},
   "outputs": [],
   "source": [
    "x_train = make_tensor(x_train, device=device)\n",
    "y_train = make_tensor(y_train, device=device)\n",
    "x_valid = make_tensor(x_valid, device=device)\n",
    "y_valid = make_tensor(y_valid, device=device)"
   ]
  },
  {
   "cell_type": "code",
   "execution_count": 49,
   "id": "aa75152e",
   "metadata": {},
   "outputs": [],
   "source": [
    "train_ds = torch.utils.data.TensorDataset(x_train, y_train)\n",
    "valid_ds = torch.utils.data.TensorDataset(x_valid, y_valid)"
   ]
  },
  {
   "cell_type": "markdown",
   "id": "9fb1f09a",
   "metadata": {},
   "source": [
    "## DataLoader 생성"
   ]
  },
  {
   "cell_type": "code",
   "execution_count": 50,
   "id": "96950fe2",
   "metadata": {},
   "outputs": [],
   "source": [
    "batch_size = 32\n",
    "\n",
    "train_loader = torch.utils.data.DataLoader(dataset=train_ds, \n",
    "                                           batch_size=batch_size, \n",
    "                                           shuffle=False)\n",
    "\n",
    "valid_loader = torch.utils.data.DataLoader(dataset=valid_ds, \n",
    "                                          batch_size=batch_size, \n",
    "                                          shuffle=False)"
   ]
  },
  {
   "cell_type": "code",
   "execution_count": 51,
   "id": "2d98a0f7",
   "metadata": {},
   "outputs": [],
   "source": [
    "x, y = next(iter(train_loader))\n",
    "x, y = x.to(device), y.to(device)"
   ]
  },
  {
   "cell_type": "code",
   "execution_count": 52,
   "id": "6aa1f8ec",
   "metadata": {},
   "outputs": [
    {
     "data": {
      "text/plain": [
       "torch.Size([32, 10, 4])"
      ]
     },
     "execution_count": 52,
     "metadata": {},
     "output_type": "execute_result"
    }
   ],
   "source": [
    "x.shape"
   ]
  },
  {
   "cell_type": "markdown",
   "id": "45ab64b6",
   "metadata": {},
   "source": [
    "## Conv1d\n",
    "\n",
    "![](https://i.stack.imgur.com/NmYZJ.png)"
   ]
  },
  {
   "cell_type": "code",
   "execution_count": 53,
   "id": "c6790db1",
   "metadata": {},
   "outputs": [
    {
     "data": {
      "text/plain": [
       "torch.Size([32, 50, 4])"
      ]
     },
     "execution_count": 53,
     "metadata": {},
     "output_type": "execute_result"
    }
   ],
   "source": [
    "import torch.nn as nn\n",
    "\n",
    "conv1 = nn.Conv1d(in_channels=WINDOW_SIZE, out_channels=50, kernel_size=3, padding='same', device=device)\n",
    "conv_out = conv1(x)\n",
    "conv_out.shape"
   ]
  },
  {
   "cell_type": "markdown",
   "id": "9c293705",
   "metadata": {},
   "source": [
    "## 모델"
   ]
  },
  {
   "cell_type": "code",
   "execution_count": 54,
   "id": "df8dcbb2",
   "metadata": {},
   "outputs": [],
   "source": [
    "import torch\n",
    "import torch.nn as nn\n",
    "import torch.optim as optim"
   ]
  },
  {
   "cell_type": "code",
   "execution_count": 87,
   "id": "706bb7a4",
   "metadata": {},
   "outputs": [],
   "source": [
    "class BaseModel(nn.Module):\n",
    "    def __init__(self, input_size, window_size, hidden_size, output_size, num_layers, bidirectional=True, drop_prob=0.1):\n",
    "        super(BaseModel, self).__init__()\n",
    "        \n",
    "        self.num_layers = num_layers\n",
    "        self.hidden_size = hidden_size\n",
    "        self.bidirectional = 2 if bidirectional else 1\n",
    "        \n",
    "        self.conv = nn.Conv1d(in_channels=window_size, out_channels=64, kernel_size=3, padding='same', device=device)\n",
    "        self.lstm = nn.LSTM(input_size=input_size, \n",
    "                            hidden_size=hidden_size, \n",
    "                            num_layers=num_layers, \n",
    "                            bidirectional=bidirectional,\n",
    "                            batch_first=True)\n",
    "        \n",
    "        self.dropout = nn.Dropout(drop_prob)\n",
    "        \n",
    "        self.fc = nn.Linear(hidden_size*self.bidirectional, output_size)\n",
    "        \n",
    "    def init_hidden_and_cell_state(self, batch_size, device):\n",
    "        self.hidden_and_cell = (\n",
    "            torch.zeros(self.num_layers*self.bidirectional, batch_size, self.hidden_size).to(device),\n",
    "            torch.zeros(self.num_layers*self.bidirectional, batch_size, self.hidden_size).to(device),\n",
    "        )\n",
    "        \n",
    "    def forward(self, x):\n",
    "        x = self.conv(x)\n",
    "        output, (h, c) = self.lstm(x, self.hidden_and_cell)\n",
    "        h = output[:, -1, :]\n",
    "        o = self.dropout(h)\n",
    "        o = self.fc(o)\n",
    "        return o"
   ]
  },
  {
   "cell_type": "code",
   "execution_count": 88,
   "id": "5d28bc07",
   "metadata": {},
   "outputs": [],
   "source": [
    "config = {\n",
    "    'input_size': N_FEATURES,\n",
    "    'window_size': WINDOW_SIZE,\n",
    "    'hidden_size': 64, \n",
    "    'num_layers': 2, \n",
    "    'bidirectional': True,\n",
    "    'output_size': N_PREDICTIONS, \n",
    "    \n",
    "}\n",
    "\n",
    "model = BaseModel(**config)"
   ]
  },
  {
   "cell_type": "code",
   "execution_count": 89,
   "id": "7bde6538",
   "metadata": {},
   "outputs": [],
   "source": [
    "x, y = next(iter(train_loader))\n",
    "x.to(device), y.to(device)\n",
    "\n",
    "model = model.to(device)\n",
    "model.init_hidden_and_cell_state(batch_size, device)\n",
    "output = model(x)"
   ]
  },
  {
   "cell_type": "code",
   "execution_count": 90,
   "id": "5d463180",
   "metadata": {},
   "outputs": [
    {
     "data": {
      "text/plain": [
       "torch.Size([32, 1])"
      ]
     },
     "execution_count": 90,
     "metadata": {},
     "output_type": "execute_result"
    }
   ],
   "source": [
    "output.shape"
   ]
  },
  {
   "cell_type": "markdown",
   "id": "42d90944",
   "metadata": {},
   "source": [
    "## 손실함수 & 옵티마이저 정의"
   ]
  },
  {
   "cell_type": "code",
   "execution_count": 91,
   "id": "b0251347",
   "metadata": {},
   "outputs": [],
   "source": [
    "model = model.to(device)\n",
    "loss_fn = nn.HuberLoss()\n",
    "\n",
    "lr = 1e-4\n",
    "optimizer = optim.Adam(model.parameters(), lr=lr)"
   ]
  },
  {
   "cell_type": "markdown",
   "id": "df9fc320",
   "metadata": {},
   "source": [
    "## 모델 훈련"
   ]
  },
  {
   "cell_type": "code",
   "execution_count": 92,
   "id": "0ad4400e",
   "metadata": {},
   "outputs": [],
   "source": [
    "def model_train(model, data_loader, loss_fn, optimizer, device):\n",
    "    # 모델을 훈련모드로 설정합니다. training mode 일 때 Gradient 가 업데이트 됩니다. 반드시 train()으로 모드 변경을 해야 합니다.\n",
    "    model.train()\n",
    "    \n",
    "    # loss와 accuracy 계산을 위한 임시 변수 입니다. 0으로 초기화합니다.\n",
    "    running_loss = 0\n",
    "    \n",
    "    # 예쁘게 Progress Bar를 출력하면서 훈련 상태를 모니터링 하기 위하여 tqdm으로 래핑합니다.\n",
    "#     prograss_bar = tqdm(data_loader, unit='batch', total=len(data_loader), mininterval=1)\n",
    "    \n",
    "    # mini-batch 학습을 시작합니다.\n",
    "    for idx, (xs, ys) in enumerate(data_loader):\n",
    "        # txt, lbl 데이터를 device 에 올립니다. (cuda:0 혹은 cpu)\n",
    "        xs = xs.to(device)\n",
    "        ys = ys.to(device)\n",
    "        \n",
    "        # 누적 Gradient를 초기화 합니다.\n",
    "        optimizer.zero_grad()\n",
    "        \n",
    "        # LSTM Weight 초기화\n",
    "        model.init_hidden_and_cell_state(len(xs), device)\n",
    "        \n",
    "        # Forward Propagation을 진행하여 결과를 얻습니다.\n",
    "        output = model(xs)\n",
    "        \n",
    "        # 손실함수에 output, lbl 값을 대입하여 손실을 계산합니다.\n",
    "        loss = loss_fn(output, ys)\n",
    "        \n",
    "        # 오차역전파(Back Propagation)을 진행하여 미분 값을 계산합니다.\n",
    "        loss.backward()\n",
    "        \n",
    "        # 계산된 Gradient를 업데이트 합니다.\n",
    "        optimizer.step()\n",
    "        \n",
    "        # batch 별 loss 계산하여 누적합을 구합니다.\n",
    "        running_loss += loss.item()\n",
    "        \n",
    "        # 프로그레스바에 학습 상황 업데이트\n",
    "#         prograss_bar.set_description(f\"training loss: {running_loss/(idx+1):.5f}\")\n",
    "        \n",
    "    \n",
    "    # 평균 손실(loss)과 정확도를 반환합니다.\n",
    "    # train_loss\n",
    "    return running_loss / len(data_loader)"
   ]
  },
  {
   "cell_type": "code",
   "execution_count": 93,
   "id": "9ad435d1",
   "metadata": {},
   "outputs": [],
   "source": [
    "def model_evaluate(model, data_loader, loss_fn, device):\n",
    "    # model.eval()은 모델을 평가모드로 설정을 바꾸어 줍니다. \n",
    "    # dropout과 같은 layer의 역할 변경을 위하여 evaluation 진행시 꼭 필요한 절차 입니다.\n",
    "    model.eval()\n",
    "    \n",
    "    # Gradient가 업데이트 되는 것을 방지 하기 위하여 반드시 필요합니다.\n",
    "    with torch.no_grad():\n",
    "        # loss와 accuracy 계산을 위한 임시 변수 입니다. 0으로 초기화합니다.\n",
    "        corr = 0\n",
    "        running_loss = 0\n",
    "        \n",
    "        # 배치별 evaluation을 진행합니다.\n",
    "        for xs, ys in data_loader:\n",
    "            # txt, lbl 데이터를 device 에 올립니다. (cuda:0 혹은 cpu)\n",
    "            xs = xs.to(device)\n",
    "            ys = ys.to(device)\n",
    "            \n",
    "            # LSTM Weight 초기화\n",
    "            model.init_hidden_and_cell_state(len(xs), device)\n",
    "    \n",
    "            # 모델에 Forward Propagation을 하여 결과를 도출합니다.\n",
    "            output = model(xs)\n",
    "            \n",
    "            # 검증 손실을 구합니다.\n",
    "            loss = loss_fn(output, ys)\n",
    "            \n",
    "            # batch 별 loss 계산하여 누적합을 구합니다.\n",
    "            running_loss += loss.item()\n",
    "        \n",
    "        # 결과를 반환합니다.\n",
    "        # val_loss, val_acc\n",
    "        return running_loss / len(data_loader)"
   ]
  },
  {
   "cell_type": "code",
   "execution_count": 94,
   "id": "7d5042d6",
   "metadata": {},
   "outputs": [
    {
     "name": "stdout",
     "output_type": "stream",
     "text": [
      "[INFO] val_loss has been improved from inf to 0.00223. Saving Model!\n",
      "epoch 01, loss: 0.02294, val_loss: 0.00223\n",
      "[INFO] val_loss has been improved from 0.00223 to 0.00223. Saving Model!\n",
      "[INFO] val_loss has been improved from 0.00223 to 0.00158. Saving Model!\n",
      "[INFO] val_loss has been improved from 0.00158 to 0.00125. Saving Model!\n",
      "[INFO] val_loss has been improved from 0.00125 to 0.00074. Saving Model!\n",
      "[INFO] val_loss has been improved from 0.00074 to 0.00065. Saving Model!\n",
      "[INFO] val_loss has been improved from 0.00065 to 0.00064. Saving Model!\n",
      "[INFO] val_loss has been improved from 0.00064 to 0.00052. Saving Model!\n",
      "[INFO] val_loss has been improved from 0.00052 to 0.00044. Saving Model!\n",
      "[INFO] val_loss has been improved from 0.00044 to 0.00031. Saving Model!\n",
      "[INFO] val_loss has been improved from 0.00031 to 0.00029. Saving Model!\n",
      "[INFO] val_loss has been improved from 0.00029 to 0.00024. Saving Model!\n",
      "[INFO] val_loss has been improved from 0.00024 to 0.00022. Saving Model!\n",
      "[INFO] val_loss has been improved from 0.00022 to 0.00022. Saving Model!\n",
      "[INFO] val_loss has been improved from 0.00022 to 0.00020. Saving Model!\n",
      "[INFO] val_loss has been improved from 0.00020 to 0.00019. Saving Model!\n",
      "[INFO] val_loss has been improved from 0.00019 to 0.00018. Saving Model!\n",
      "epoch 101, loss: 0.00039, val_loss: 0.00025\n",
      "[INFO] val_loss has been improved from 0.00018 to 0.00017. Saving Model!\n",
      "[INFO] val_loss has been improved from 0.00017 to 0.00017. Saving Model!\n",
      "[INFO] val_loss has been improved from 0.00017 to 0.00016. Saving Model!\n",
      "[INFO] val_loss has been improved from 0.00016 to 0.00015. Saving Model!\n",
      "[INFO] val_loss has been improved from 0.00015 to 0.00015. Saving Model!\n",
      "[INFO] val_loss has been improved from 0.00015 to 0.00014. Saving Model!\n",
      "[INFO] val_loss has been improved from 0.00014 to 0.00014. Saving Model!\n",
      "[INFO] val_loss has been improved from 0.00014 to 0.00014. Saving Model!\n",
      "[INFO] val_loss has been improved from 0.00014 to 0.00013. Saving Model!\n",
      "epoch 201, loss: 0.00022, val_loss: 0.00016\n",
      "[INFO] val_loss has been improved from 0.00013 to 0.00013. Saving Model!\n",
      "[INFO] val_loss has been improved from 0.00013 to 0.00011. Saving Model!\n",
      "[INFO] val_loss has been improved from 0.00011 to 0.00010. Saving Model!\n",
      "[INFO] val_loss has been improved from 0.00010 to 0.00008. Saving Model!\n",
      "[INFO] val_loss has been improved from 0.00008 to 0.00008. Saving Model!\n",
      "[INFO] val_loss has been improved from 0.00008 to 0.00008. Saving Model!\n",
      "[INFO] val_loss has been improved from 0.00008 to 0.00008. Saving Model!\n",
      "[INFO] val_loss has been improved from 0.00008 to 0.00008. Saving Model!\n",
      "epoch 301, loss: 0.00036, val_loss: 0.00008\n",
      "[INFO] val_loss has been improved from 0.00008 to 0.00007. Saving Model!\n",
      "[INFO] val_loss has been improved from 0.00007 to 0.00007. Saving Model!\n",
      "[INFO] val_loss has been improved from 0.00007 to 0.00007. Saving Model!\n",
      "[INFO] val_loss has been improved from 0.00007 to 0.00007. Saving Model!\n",
      "epoch 401, loss: 0.00036, val_loss: 0.00009\n"
     ]
    }
   ],
   "source": [
    "# 최대 Epoch을 지정합니다.\n",
    "num_epochs = 500\n",
    "\n",
    "# checkpoint로 저장할 모델의 이름을 정의 합니다.\n",
    "model_name = 'TimeSeries-LSTM-Conv1d'\n",
    "\n",
    "min_loss = np.inf\n",
    "\n",
    "# Epoch 별 훈련 및 검증을 수행합니다.\n",
    "for epoch in range(num_epochs):\n",
    "    # Model Training\n",
    "    # 훈련 손실을 반환 받습니다.\n",
    "    train_loss = model_train(model, train_loader, loss_fn, optimizer, device)\n",
    "\n",
    "    # 검증 손실을 반환 받습니다.\n",
    "    val_loss = model_evaluate(model, valid_loader, loss_fn, device)   \n",
    "    \n",
    "    # val_loss 가 개선되었다면 min_loss를 갱신하고 model의 가중치(weights)를 저장합니다.\n",
    "    if val_loss < min_loss:\n",
    "        print(f'[INFO] val_loss has been improved from {min_loss:.5f} to {val_loss:.5f}. Saving Model!')\n",
    "        min_loss = val_loss\n",
    "        torch.save(model.state_dict(), f'{model_name}.pth')\n",
    "    \n",
    "    # Epoch 별 결과를 출력합니다.\n",
    "    if epoch % 100 == 0:\n",
    "        print(f'epoch {epoch+1:02d}, loss: {train_loss:.5f}, val_loss: {val_loss:.5f}')"
   ]
  },
  {
   "cell_type": "markdown",
   "id": "7a3e4341",
   "metadata": {},
   "source": [
    "## 저장한 가중치 로드"
   ]
  },
  {
   "cell_type": "code",
   "execution_count": 98,
   "id": "ffbacb5c",
   "metadata": {},
   "outputs": [
    {
     "data": {
      "text/plain": [
       "<All keys matched successfully>"
      ]
     },
     "execution_count": 98,
     "metadata": {},
     "output_type": "execute_result"
    }
   ],
   "source": [
    "model.load_state_dict(torch.load(f'{model_name}.pth'))"
   ]
  },
  {
   "cell_type": "markdown",
   "id": "0a9c2b39",
   "metadata": {},
   "source": [
    "## Evaluation"
   ]
  },
  {
   "cell_type": "code",
   "execution_count": 99,
   "id": "2141f643",
   "metadata": {},
   "outputs": [
    {
     "data": {
      "text/plain": [
       "200"
      ]
     },
     "execution_count": 99,
     "metadata": {},
     "output_type": "execute_result"
    }
   ],
   "source": [
    "model.eval()\n",
    "\n",
    "results = []\n",
    "\n",
    "with torch.no_grad():\n",
    "    for x, y in valid_loader:\n",
    "        x, y = x.to(device), y.to(device)\n",
    "        model.init_hidden_and_cell_state(len(x), device)\n",
    "        output = model(x)\n",
    "        results.extend(output.detach().cpu().numpy().flatten().tolist())\n",
    "        \n",
    "len(results)"
   ]
  },
  {
   "cell_type": "markdown",
   "id": "d4655166",
   "metadata": {},
   "source": [
    "## 예측 결과 시각화"
   ]
  },
  {
   "cell_type": "code",
   "execution_count": 101,
   "id": "3a7f07b6",
   "metadata": {},
   "outputs": [
    {
     "data": {
      "image/png": "[encoded data removed]",
      "text/plain": [
       "<Figure size 1000x600 with 1 Axes>"
      ]
     },
     "metadata": {},
     "output_type": "display_data"
    }
   ],
   "source": [
    "fig, ax = plt.subplots(1, 1)\n",
    "ax.plot(results, color='black', linestyle='dotted', label='real')\n",
    "ax.plot(y_valid.detach().cpu().numpy().flatten(), color='tomato', label='prediction')\n",
    "plt.legend()\n",
    "plt.show()"
   ]
  }
 ],
 "metadata": {
  "kernelspec": {
   "display_name": "Python 3 (ipykernel)",
   "language": "python",
   "name": "python3"
  },
  "language_info": {
   "codemirror_mode": {
    "name": "ipython",
    "version": 3
   },
   "file_extension": ".py",
   "mimetype": "text/x-python",
   "name": "python",
   "nbconvert_exporter": "python",
   "pygments_lexer": "ipython3",
   "version": "3.8.16"
  }
 },
 "nbformat": 4,
 "nbformat_minor": 5
}
