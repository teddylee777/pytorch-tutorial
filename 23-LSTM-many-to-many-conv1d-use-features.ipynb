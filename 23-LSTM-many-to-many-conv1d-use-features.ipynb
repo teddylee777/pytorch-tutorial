{
 "cells": [
  {
   "cell_type": "code",
   "execution_count": 1,
   "id": "82d3737e",
   "metadata": {},
   "outputs": [
    {
     "name": "stderr",
     "output_type": "stream",
     "text": [
      "/var/folders/_0/7lvqf88d2hxdjf1k1f_0gbs00000gn/T/ipykernel_31164/2210612969.py:1: DeprecationWarning: \n",
      "Pyarrow will become a required dependency of pandas in the next major release of pandas (pandas 3.0),\n",
      "(to allow more performant data types, such as the Arrow string type, and better interoperability with other libraries)\n",
      "but was not found to be installed on your system.\n",
      "If this would cause problems for you,\n",
      "please provide us feedback at https://github.com/pandas-dev/pandas/issues/54466\n",
      "        \n",
      "  import pandas as pd\n"
     ]
    }
   ],
   "source": [
    "import pandas as pd\n",
    "import numpy as np\n",
    "import matplotlib.pyplot as plt\n",
    "import seaborn as sns\n",
    "import warnings\n",
    "import random\n",
    "import os\n",
    "import torch\n",
    "from tqdm import tqdm\n",
    "\n",
    "pd.set_option('display.max_colwidth', None)\n",
    "\n",
    "# 1,000 단위 표기\n",
    "pd.options.display.float_format = '{:,.5f}'.format\n",
    "\n",
    "# Unicode warning 제거 (폰트 관련 경고메시지)\n",
    "plt.rcParams['axes.unicode_minus']=False\n",
    "\n",
    "# 그래프 출력 사이즈 설정\n",
    "plt.rcParams[\"figure.figsize\"] = (10, 6)\n",
    "\n",
    "# 경고 무시\n",
    "warnings.filterwarnings('ignore')\n",
    "\n",
    "# Data 경로 설정\n",
    "DATA_DIR = 'data'\n",
    "\n",
    "# 시드설정\n",
    "SEED = 123\n",
    "\n",
    "def seed_everything(seed=SEED):\n",
    "    random.seed(seed)\n",
    "    np.random.seed(seed)\n",
    "    os.environ[\"PYTHONHASHSEED\"] = str(seed)\n",
    "    torch.manual_seed(seed)\n",
    "    torch.cuda.manual_seed(seed)\n",
    "    torch.backends.cudnn.deterministic = True\n",
    "    torch.backends.cudnn.benchmark = True\n",
    "    \n",
    "seed_everything(SEED)\n",
    "\n",
    "%matplotlib inline"
   ]
  },
  {
   "cell_type": "code",
   "execution_count": 5,
   "id": "3c4e39be",
   "metadata": {},
   "outputs": [],
   "source": [
    "# FinanceDataReader 설치\n",
    "!pip install finance-datareader -q\n",
    "!pip install plotly -q"
   ]
  },
  {
   "cell_type": "code",
   "execution_count": 12,
   "id": "c0009ff9",
   "metadata": {},
   "outputs": [
    {
     "data": {
      "text/html": [
       "<div>\n",
       "<style scoped>\n",
       "    .dataframe tbody tr th:only-of-type {\n",
       "        vertical-align: middle;\n",
       "    }\n",
       "\n",
       "    .dataframe tbody tr th {\n",
       "        vertical-align: top;\n",
       "    }\n",
       "\n",
       "    .dataframe thead th {\n",
       "        text-align: right;\n",
       "    }\n",
       "</style>\n",
       "<table border=\"1\" class=\"dataframe\">\n",
       "  <thead>\n",
       "    <tr style=\"text-align: right;\">\n",
       "      <th></th>\n",
       "      <th>Open</th>\n",
       "      <th>High</th>\n",
       "      <th>Low</th>\n",
       "      <th>Close</th>\n",
       "      <th>Volume</th>\n",
       "    </tr>\n",
       "    <tr>\n",
       "      <th>Date</th>\n",
       "      <th></th>\n",
       "      <th></th>\n",
       "      <th></th>\n",
       "      <th></th>\n",
       "      <th></th>\n",
       "    </tr>\n",
       "  </thead>\n",
       "  <tbody>\n",
       "    <tr>\n",
       "      <th>1999-11-05</th>\n",
       "      <td>4440</td>\n",
       "      <td>4490</td>\n",
       "      <td>4320</td>\n",
       "      <td>4320</td>\n",
       "      <td>609784</td>\n",
       "    </tr>\n",
       "    <tr>\n",
       "      <th>1999-11-08</th>\n",
       "      <td>4340</td>\n",
       "      <td>4350</td>\n",
       "      <td>4190</td>\n",
       "      <td>4200</td>\n",
       "      <td>612169</td>\n",
       "    </tr>\n",
       "    <tr>\n",
       "      <th>1999-11-09</th>\n",
       "      <td>4220</td>\n",
       "      <td>4460</td>\n",
       "      <td>4170</td>\n",
       "      <td>4430</td>\n",
       "      <td>947061</td>\n",
       "    </tr>\n",
       "    <tr>\n",
       "      <th>1999-11-10</th>\n",
       "      <td>4400</td>\n",
       "      <td>4420</td>\n",
       "      <td>4300</td>\n",
       "      <td>4320</td>\n",
       "      <td>707761</td>\n",
       "    </tr>\n",
       "    <tr>\n",
       "      <th>1999-11-11</th>\n",
       "      <td>4390</td>\n",
       "      <td>4480</td>\n",
       "      <td>4320</td>\n",
       "      <td>4330</td>\n",
       "      <td>747622</td>\n",
       "    </tr>\n",
       "  </tbody>\n",
       "</table>\n",
       "</div>"
      ],
      "text/plain": [
       "            Open  High   Low  Close  Volume\n",
       "Date                                       \n",
       "1999-11-05  4440  4490  4320   4320  609784\n",
       "1999-11-08  4340  4350  4190   4200  612169\n",
       "1999-11-09  4220  4460  4170   4430  947061\n",
       "1999-11-10  4400  4420  4300   4320  707761\n",
       "1999-11-11  4390  4480  4320   4330  747622"
      ]
     },
     "execution_count": 12,
     "metadata": {},
     "output_type": "execute_result"
    }
   ],
   "source": [
    "import FinanceDataReader as fdr\n",
    "\n",
    "# 삼성전자 주가 데이터 로드\n",
    "df = fdr.DataReader(\"005930\")\n",
    "df = df.drop(\"Change\", axis=1)\n",
    "df.head()"
   ]
  },
  {
   "cell_type": "code",
   "execution_count": 16,
   "id": "2a1ea404",
   "metadata": {},
   "outputs": [
    {
     "data": {
      "text/plain": [
       "array([[0.04916944, 0.0463843 , 0.04826816, 0.01801291, 0.00675241],\n",
       "       [0.04806202, 0.04493802, 0.04681564, 0.01665345, 0.00677882],\n",
       "       [0.04673311, 0.04607438, 0.04659218, 0.01925909, 0.01048722],\n",
       "       [0.04872647, 0.04566116, 0.04804469, 0.01801291, 0.00783735],\n",
       "       [0.04861573, 0.04628099, 0.04826816, 0.0181262 , 0.00827875]])"
      ]
     },
     "execution_count": 16,
     "metadata": {},
     "output_type": "execute_result"
    }
   ],
   "source": [
    "from sklearn.preprocessing import MinMaxScaler\n",
    "\n",
    "scaler = MinMaxScaler()\n",
    "scaled = scaler.fit_transform(df)\n",
    "scaled[:5]"
   ]
  },
  {
   "cell_type": "code",
   "execution_count": 17,
   "id": "feccfc5d",
   "metadata": {},
   "outputs": [
    {
     "data": {
      "text/html": [
       "<div>\n",
       "<style scoped>\n",
       "    .dataframe tbody tr th:only-of-type {\n",
       "        vertical-align: middle;\n",
       "    }\n",
       "\n",
       "    .dataframe tbody tr th {\n",
       "        vertical-align: top;\n",
       "    }\n",
       "\n",
       "    .dataframe thead th {\n",
       "        text-align: right;\n",
       "    }\n",
       "</style>\n",
       "<table border=\"1\" class=\"dataframe\">\n",
       "  <thead>\n",
       "    <tr style=\"text-align: right;\">\n",
       "      <th></th>\n",
       "      <th>Open</th>\n",
       "      <th>High</th>\n",
       "      <th>Low</th>\n",
       "      <th>Close</th>\n",
       "      <th>Volume</th>\n",
       "    </tr>\n",
       "    <tr>\n",
       "      <th>Date</th>\n",
       "      <th></th>\n",
       "      <th></th>\n",
       "      <th></th>\n",
       "      <th></th>\n",
       "      <th></th>\n",
       "    </tr>\n",
       "  </thead>\n",
       "  <tbody>\n",
       "    <tr>\n",
       "      <th>1999-11-05</th>\n",
       "      <td>0.04917</td>\n",
       "      <td>0.04638</td>\n",
       "      <td>0.04827</td>\n",
       "      <td>0.01801</td>\n",
       "      <td>0.00675</td>\n",
       "    </tr>\n",
       "    <tr>\n",
       "      <th>1999-11-08</th>\n",
       "      <td>0.04806</td>\n",
       "      <td>0.04494</td>\n",
       "      <td>0.04682</td>\n",
       "      <td>0.01665</td>\n",
       "      <td>0.00678</td>\n",
       "    </tr>\n",
       "    <tr>\n",
       "      <th>1999-11-09</th>\n",
       "      <td>0.04673</td>\n",
       "      <td>0.04607</td>\n",
       "      <td>0.04659</td>\n",
       "      <td>0.01926</td>\n",
       "      <td>0.01049</td>\n",
       "    </tr>\n",
       "    <tr>\n",
       "      <th>1999-11-10</th>\n",
       "      <td>0.04873</td>\n",
       "      <td>0.04566</td>\n",
       "      <td>0.04804</td>\n",
       "      <td>0.01801</td>\n",
       "      <td>0.00784</td>\n",
       "    </tr>\n",
       "    <tr>\n",
       "      <th>1999-11-11</th>\n",
       "      <td>0.04862</td>\n",
       "      <td>0.04628</td>\n",
       "      <td>0.04827</td>\n",
       "      <td>0.01813</td>\n",
       "      <td>0.00828</td>\n",
       "    </tr>\n",
       "    <tr>\n",
       "      <th>...</th>\n",
       "      <td>...</td>\n",
       "      <td>...</td>\n",
       "      <td>...</td>\n",
       "      <td>...</td>\n",
       "      <td>...</td>\n",
       "    </tr>\n",
       "    <tr>\n",
       "      <th>2024-02-21</th>\n",
       "      <td>0.81285</td>\n",
       "      <td>0.76136</td>\n",
       "      <td>0.81453</td>\n",
       "      <td>0.79608</td>\n",
       "      <td>0.12738</td>\n",
       "    </tr>\n",
       "    <tr>\n",
       "      <th>2024-02-22</th>\n",
       "      <td>0.81728</td>\n",
       "      <td>0.76343</td>\n",
       "      <td>0.81229</td>\n",
       "      <td>0.79721</td>\n",
       "      <td>0.16842</td>\n",
       "    </tr>\n",
       "    <tr>\n",
       "      <th>2024-02-23</th>\n",
       "      <td>0.81506</td>\n",
       "      <td>0.76653</td>\n",
       "      <td>0.81453</td>\n",
       "      <td>0.79495</td>\n",
       "      <td>0.17967</td>\n",
       "    </tr>\n",
       "    <tr>\n",
       "      <th>2024-02-26</th>\n",
       "      <td>0.80066</td>\n",
       "      <td>0.75620</td>\n",
       "      <td>0.80670</td>\n",
       "      <td>0.79381</td>\n",
       "      <td>0.16244</td>\n",
       "    </tr>\n",
       "    <tr>\n",
       "      <th>2024-02-27</th>\n",
       "      <td>0.80952</td>\n",
       "      <td>0.75826</td>\n",
       "      <td>0.81229</td>\n",
       "      <td>0.79495</td>\n",
       "      <td>0.14411</td>\n",
       "    </tr>\n",
       "  </tbody>\n",
       "</table>\n",
       "<p>6000 rows × 5 columns</p>\n",
       "</div>"
      ],
      "text/plain": [
       "              Open    High     Low   Close  Volume\n",
       "Date                                              \n",
       "1999-11-05 0.04917 0.04638 0.04827 0.01801 0.00675\n",
       "1999-11-08 0.04806 0.04494 0.04682 0.01665 0.00678\n",
       "1999-11-09 0.04673 0.04607 0.04659 0.01926 0.01049\n",
       "1999-11-10 0.04873 0.04566 0.04804 0.01801 0.00784\n",
       "1999-11-11 0.04862 0.04628 0.04827 0.01813 0.00828\n",
       "...            ...     ...     ...     ...     ...\n",
       "2024-02-21 0.81285 0.76136 0.81453 0.79608 0.12738\n",
       "2024-02-22 0.81728 0.76343 0.81229 0.79721 0.16842\n",
       "2024-02-23 0.81506 0.76653 0.81453 0.79495 0.17967\n",
       "2024-02-26 0.80066 0.75620 0.80670 0.79381 0.16244\n",
       "2024-02-27 0.80952 0.75826 0.81229 0.79495 0.14411\n",
       "\n",
       "[6000 rows x 5 columns]"
      ]
     },
     "execution_count": 17,
     "metadata": {},
     "output_type": "execute_result"
    }
   ],
   "source": [
    "scaled_df = pd.DataFrame(scaled, index=df.index, columns=df.columns)\n",
    "scaled_df"
   ]
  },
  {
   "cell_type": "markdown",
   "id": "1d23a30b",
   "metadata": {},
   "source": [
    "## Windowed Dataset\n"
   ]
  },
  {
   "cell_type": "code",
   "execution_count": 18,
   "id": "262bff96",
   "metadata": {},
   "outputs": [],
   "source": [
    "N_PREDICTIONS = 1\n",
    "N_FEATURES = 4\n",
    "WINDOW_SIZE = 10"
   ]
  },
  {
   "cell_type": "code",
   "execution_count": 19,
   "id": "391c4c3b",
   "metadata": {},
   "outputs": [],
   "source": [
    "def make_dataset(series, target, window_size=WINDOW_SIZE, n_predictions=N_PREDICTIONS):\n",
    "    Xs = []\n",
    "    Ys = []\n",
    "    for i in range(len(series) - window_size - n_predictions + 1):\n",
    "        Xs.append(series.iloc[i : i + window_size].drop(target, axis=1))\n",
    "        Ys.append(\n",
    "            series.iloc[i + window_size : i + window_size + n_predictions].loc[\n",
    "                :, target\n",
    "            ]\n",
    "        )\n",
    "    return np.array(Xs), np.array(Ys)"
   ]
  },
  {
   "cell_type": "code",
   "execution_count": 20,
   "id": "2869e188",
   "metadata": {},
   "outputs": [
    {
     "data": {
      "text/plain": [
       "((5990, 10, 4), (5990, 1))"
      ]
     },
     "execution_count": 20,
     "metadata": {},
     "output_type": "execute_result"
    }
   ],
   "source": [
    "# 데이터셋 생성\n",
    "Xs, Ys = make_dataset(scaled_df, \"Close\")\n",
    "Xs.shape, Ys.shape"
   ]
  },
  {
   "cell_type": "code",
   "execution_count": 21,
   "id": "de5dcb3d",
   "metadata": {},
   "outputs": [],
   "source": [
    "n_splits = 200\n",
    "\n",
    "x_train, y_train = Xs[:-n_splits], Ys[:-n_splits]\n",
    "x_valid, y_valid = Xs[-n_splits:], Ys[-n_splits:]"
   ]
  },
  {
   "cell_type": "code",
   "execution_count": 22,
   "id": "478333fc",
   "metadata": {},
   "outputs": [
    {
     "data": {
      "text/plain": [
       "((5790, 10, 4), (5790, 1))"
      ]
     },
     "execution_count": 22,
     "metadata": {},
     "output_type": "execute_result"
    }
   ],
   "source": [
    "x_train.shape, y_train.shape"
   ]
  },
  {
   "cell_type": "code",
   "execution_count": 23,
   "id": "3f699b3a",
   "metadata": {},
   "outputs": [
    {
     "data": {
      "text/plain": [
       "((200, 10, 4), (200, 1))"
      ]
     },
     "execution_count": 23,
     "metadata": {},
     "output_type": "execute_result"
    }
   ],
   "source": [
    "x_valid.shape, y_valid.shape"
   ]
  },
  {
   "cell_type": "code",
   "execution_count": 24,
   "id": "999b772e",
   "metadata": {},
   "outputs": [
    {
     "data": {
      "text/html": [
       "<div>\n",
       "<style scoped>\n",
       "    .dataframe tbody tr th:only-of-type {\n",
       "        vertical-align: middle;\n",
       "    }\n",
       "\n",
       "    .dataframe tbody tr th {\n",
       "        vertical-align: top;\n",
       "    }\n",
       "\n",
       "    .dataframe thead th {\n",
       "        text-align: right;\n",
       "    }\n",
       "</style>\n",
       "<table border=\"1\" class=\"dataframe\">\n",
       "  <thead>\n",
       "    <tr style=\"text-align: right;\">\n",
       "      <th></th>\n",
       "      <th>Open</th>\n",
       "      <th>High</th>\n",
       "      <th>Low</th>\n",
       "      <th>Close</th>\n",
       "      <th>Volume</th>\n",
       "    </tr>\n",
       "    <tr>\n",
       "      <th>Date</th>\n",
       "      <th></th>\n",
       "      <th></th>\n",
       "      <th></th>\n",
       "      <th></th>\n",
       "      <th></th>\n",
       "    </tr>\n",
       "  </thead>\n",
       "  <tbody>\n",
       "    <tr>\n",
       "      <th>2024-02-14</th>\n",
       "      <td>0.81617</td>\n",
       "      <td>0.76756</td>\n",
       "      <td>0.82346</td>\n",
       "      <td>0.80741</td>\n",
       "      <td>0.13770</td>\n",
       "    </tr>\n",
       "    <tr>\n",
       "      <th>2024-02-15</th>\n",
       "      <td>0.82171</td>\n",
       "      <td>0.76860</td>\n",
       "      <td>0.81564</td>\n",
       "      <td>0.79608</td>\n",
       "      <td>0.15636</td>\n",
       "    </tr>\n",
       "    <tr>\n",
       "      <th>2024-02-16</th>\n",
       "      <td>0.81174</td>\n",
       "      <td>0.75826</td>\n",
       "      <td>0.81006</td>\n",
       "      <td>0.79381</td>\n",
       "      <td>0.14888</td>\n",
       "    </tr>\n",
       "    <tr>\n",
       "      <th>2024-02-19</th>\n",
       "      <td>0.80620</td>\n",
       "      <td>0.76343</td>\n",
       "      <td>0.81341</td>\n",
       "      <td>0.80514</td>\n",
       "      <td>0.14093</td>\n",
       "    </tr>\n",
       "    <tr>\n",
       "      <th>2024-02-20</th>\n",
       "      <td>0.81617</td>\n",
       "      <td>0.76136</td>\n",
       "      <td>0.81341</td>\n",
       "      <td>0.79948</td>\n",
       "      <td>0.16257</td>\n",
       "    </tr>\n",
       "    <tr>\n",
       "      <th>2024-02-21</th>\n",
       "      <td>0.81285</td>\n",
       "      <td>0.76136</td>\n",
       "      <td>0.81453</td>\n",
       "      <td>0.79608</td>\n",
       "      <td>0.12738</td>\n",
       "    </tr>\n",
       "    <tr>\n",
       "      <th>2024-02-22</th>\n",
       "      <td>0.81728</td>\n",
       "      <td>0.76343</td>\n",
       "      <td>0.81229</td>\n",
       "      <td>0.79721</td>\n",
       "      <td>0.16842</td>\n",
       "    </tr>\n",
       "    <tr>\n",
       "      <th>2024-02-23</th>\n",
       "      <td>0.81506</td>\n",
       "      <td>0.76653</td>\n",
       "      <td>0.81453</td>\n",
       "      <td>0.79495</td>\n",
       "      <td>0.17967</td>\n",
       "    </tr>\n",
       "    <tr>\n",
       "      <th>2024-02-26</th>\n",
       "      <td>0.80066</td>\n",
       "      <td>0.75620</td>\n",
       "      <td>0.80670</td>\n",
       "      <td>0.79381</td>\n",
       "      <td>0.16244</td>\n",
       "    </tr>\n",
       "    <tr>\n",
       "      <th>2024-02-27</th>\n",
       "      <td>0.80952</td>\n",
       "      <td>0.75826</td>\n",
       "      <td>0.81229</td>\n",
       "      <td>0.79495</td>\n",
       "      <td>0.14411</td>\n",
       "    </tr>\n",
       "  </tbody>\n",
       "</table>\n",
       "</div>"
      ],
      "text/plain": [
       "              Open    High     Low   Close  Volume\n",
       "Date                                              \n",
       "2024-02-14 0.81617 0.76756 0.82346 0.80741 0.13770\n",
       "2024-02-15 0.82171 0.76860 0.81564 0.79608 0.15636\n",
       "2024-02-16 0.81174 0.75826 0.81006 0.79381 0.14888\n",
       "2024-02-19 0.80620 0.76343 0.81341 0.80514 0.14093\n",
       "2024-02-20 0.81617 0.76136 0.81341 0.79948 0.16257\n",
       "2024-02-21 0.81285 0.76136 0.81453 0.79608 0.12738\n",
       "2024-02-22 0.81728 0.76343 0.81229 0.79721 0.16842\n",
       "2024-02-23 0.81506 0.76653 0.81453 0.79495 0.17967\n",
       "2024-02-26 0.80066 0.75620 0.80670 0.79381 0.16244\n",
       "2024-02-27 0.80952 0.75826 0.81229 0.79495 0.14411"
      ]
     },
     "execution_count": 24,
     "metadata": {},
     "output_type": "execute_result"
    }
   ],
   "source": [
    "scaled_df[-10:]"
   ]
  },
  {
   "cell_type": "code",
   "execution_count": 25,
   "id": "9ff08bca",
   "metadata": {},
   "outputs": [
    {
     "data": {
      "text/plain": [
       "array([[0.82834994, 0.7768595 , 0.83128492, 0.24324742],\n",
       "       [0.81616833, 0.76756198, 0.82346369, 0.13769761],\n",
       "       [0.82170543, 0.76859504, 0.81564246, 0.15636361],\n",
       "       [0.81173865, 0.75826446, 0.81005587, 0.14887997],\n",
       "       [0.80620155, 0.76342975, 0.81340782, 0.14092507],\n",
       "       [0.81616833, 0.76136364, 0.81340782, 0.16257445],\n",
       "       [0.81284607, 0.76136364, 0.81452514, 0.12738326],\n",
       "       [0.81727575, 0.76342975, 0.8122905 , 0.16841521],\n",
       "       [0.81506091, 0.76652893, 0.81452514, 0.1796684 ],\n",
       "       [0.80066445, 0.75619835, 0.80670391, 0.16244018]])"
      ]
     },
     "execution_count": 25,
     "metadata": {},
     "output_type": "execute_result"
    }
   ],
   "source": [
    "x_valid[-1]"
   ]
  },
  {
   "cell_type": "code",
   "execution_count": 26,
   "id": "2f9df9af",
   "metadata": {},
   "outputs": [
    {
     "data": {
      "text/plain": [
       "array([0.79494732])"
      ]
     },
     "execution_count": 26,
     "metadata": {},
     "output_type": "execute_result"
    }
   ],
   "source": [
    "y_valid[-1]"
   ]
  },
  {
   "cell_type": "markdown",
   "id": "1f9813b8",
   "metadata": {},
   "source": [
    "## Tensor DataSet 생성\n"
   ]
  },
  {
   "cell_type": "code",
   "execution_count": 27,
   "id": "5609aebc",
   "metadata": {},
   "outputs": [],
   "source": [
    "def make_tensor(x, device):\n",
    "    return torch.FloatTensor(x).to(device)"
   ]
  },
  {
   "cell_type": "code",
   "execution_count": 28,
   "id": "7888074a",
   "metadata": {},
   "outputs": [
    {
     "name": "stdout",
     "output_type": "stream",
     "text": [
      "mps\n"
     ]
    }
   ],
   "source": [
    "# CUDA 사용 가능 여부 확인\n",
    "if torch.backends.mps.is_built():\n",
    "    # mac os mps 지원 체크\n",
    "    device = torch.device(\"mps\" if torch.backends.mps.is_built() else \"cpu\")\n",
    "else:\n",
    "    # cuda 사용 가능한지 체크\n",
    "    device = torch.device(\"cuda:0\" if torch.cuda.is_available() else \"cpu\")\n",
    "print(device)"
   ]
  },
  {
   "cell_type": "code",
   "execution_count": 29,
   "id": "66b2c3ec",
   "metadata": {},
   "outputs": [],
   "source": [
    "x_train = make_tensor(x_train, device=device)\n",
    "y_train = make_tensor(y_train, device=device)\n",
    "x_valid = make_tensor(x_valid, device=device)\n",
    "y_valid = make_tensor(y_valid, device=device)"
   ]
  },
  {
   "cell_type": "code",
   "execution_count": 30,
   "id": "aa75152e",
   "metadata": {},
   "outputs": [],
   "source": [
    "train_ds = torch.utils.data.TensorDataset(x_train, y_train)\n",
    "valid_ds = torch.utils.data.TensorDataset(x_valid, y_valid)"
   ]
  },
  {
   "cell_type": "markdown",
   "id": "9fb1f09a",
   "metadata": {},
   "source": [
    "## DataLoader 생성\n"
   ]
  },
  {
   "cell_type": "code",
   "execution_count": 56,
   "id": "96950fe2",
   "metadata": {},
   "outputs": [],
   "source": [
    "batch_size = 32\n",
    "\n",
    "train_loader = torch.utils.data.DataLoader(\n",
    "    dataset=train_ds, batch_size=batch_size, shuffle=False\n",
    ")\n",
    "\n",
    "validation_loader = torch.utils.data.DataLoader(\n",
    "    dataset=valid_ds, batch_size=batch_size, shuffle=False\n",
    ")"
   ]
  },
  {
   "cell_type": "code",
   "execution_count": 57,
   "id": "2d98a0f7",
   "metadata": {},
   "outputs": [],
   "source": [
    "x, y = next(iter(train_loader))\n",
    "x, y = x.to(device), y.to(device)"
   ]
  },
  {
   "cell_type": "code",
   "execution_count": 58,
   "id": "6aa1f8ec",
   "metadata": {},
   "outputs": [
    {
     "data": {
      "text/plain": [
       "torch.Size([32, 10, 4])"
      ]
     },
     "execution_count": 58,
     "metadata": {},
     "output_type": "execute_result"
    }
   ],
   "source": [
    "x.shape"
   ]
  },
  {
   "cell_type": "markdown",
   "id": "45ab64b6",
   "metadata": {},
   "source": [
    "## Conv1d\n",
    "\n",
    "![](https://i.stack.imgur.com/NmYZJ.png)\n"
   ]
  },
  {
   "cell_type": "code",
   "execution_count": 38,
   "id": "c6790db1",
   "metadata": {},
   "outputs": [
    {
     "name": "stdout",
     "output_type": "stream",
     "text": [
      "입력 shape: torch.Size([32, 10, 4])\n",
      "출력 shape: torch.Size([32, 50, 4])\n"
     ]
    }
   ],
   "source": [
    "import torch.nn as nn\n",
    "\n",
    "conv1 = nn.Conv1d(\n",
    "    in_channels=WINDOW_SIZE,\n",
    "    out_channels=50,\n",
    "    kernel_size=3,\n",
    "    padding=\"same\",\n",
    "    device=device,\n",
    ")\n",
    "conv_out = conv1(x)\n",
    "print(f\"입력 shape: {x.shape}\")\n",
    "print(f\"출력 shape: {conv_out.shape}\")"
   ]
  },
  {
   "cell_type": "markdown",
   "id": "9c293705",
   "metadata": {},
   "source": [
    "## 모델\n"
   ]
  },
  {
   "cell_type": "code",
   "execution_count": 39,
   "id": "df8dcbb2",
   "metadata": {},
   "outputs": [],
   "source": [
    "import torch\n",
    "import torch.nn as nn\n",
    "import torch.optim as optim"
   ]
  },
  {
   "cell_type": "code",
   "execution_count": 40,
   "id": "706bb7a4",
   "metadata": {},
   "outputs": [],
   "source": [
    "class BaseModel(nn.Module):\n",
    "    def __init__(\n",
    "        self,\n",
    "        input_size,\n",
    "        window_size,\n",
    "        hidden_size,\n",
    "        output_size,\n",
    "        num_layers,\n",
    "        bidirectional=True,\n",
    "        drop_prob=0.1,\n",
    "    ):\n",
    "        super(BaseModel, self).__init__()\n",
    "\n",
    "        self.num_layers = num_layers\n",
    "        self.hidden_size = hidden_size\n",
    "        self.bidirectional = 2 if bidirectional else 1\n",
    "\n",
    "        self.conv = nn.Conv1d(\n",
    "            in_channels=window_size,\n",
    "            out_channels=64,\n",
    "            kernel_size=3,\n",
    "            padding=\"same\",\n",
    "            device=device,\n",
    "        )\n",
    "        self.lstm = nn.LSTM(\n",
    "            input_size=input_size,\n",
    "            hidden_size=hidden_size,\n",
    "            num_layers=num_layers,\n",
    "            bidirectional=bidirectional,\n",
    "            batch_first=True,\n",
    "        )\n",
    "\n",
    "        self.dropout = nn.Dropout(drop_prob)\n",
    "\n",
    "        self.fc = nn.Linear(hidden_size * self.bidirectional, output_size)\n",
    "\n",
    "    def init_hidden_and_cell_state(self, batch_size, device):\n",
    "        self.hidden_and_cell = (\n",
    "            torch.zeros(\n",
    "                self.num_layers * self.bidirectional, batch_size, self.hidden_size\n",
    "            ).to(device),\n",
    "            torch.zeros(\n",
    "                self.num_layers * self.bidirectional, batch_size, self.hidden_size\n",
    "            ).to(device),\n",
    "        )\n",
    "\n",
    "    def forward(self, x):\n",
    "        x = self.conv(x)\n",
    "        output, (h, c) = self.lstm(x, self.hidden_and_cell)\n",
    "        h = output[:, -1, :]\n",
    "        o = self.dropout(h)\n",
    "        o = self.fc(o)\n",
    "        return o"
   ]
  },
  {
   "cell_type": "code",
   "execution_count": 41,
   "id": "5d28bc07",
   "metadata": {},
   "outputs": [],
   "source": [
    "config = {\n",
    "    \"input_size\": N_FEATURES,\n",
    "    \"window_size\": WINDOW_SIZE,\n",
    "    \"hidden_size\": 64,\n",
    "    \"num_layers\": 2,\n",
    "    \"bidirectional\": True,\n",
    "    \"output_size\": N_PREDICTIONS,\n",
    "}\n",
    "\n",
    "model = BaseModel(**config)"
   ]
  },
  {
   "cell_type": "code",
   "execution_count": 42,
   "id": "7bde6538",
   "metadata": {},
   "outputs": [],
   "source": [
    "x, y = next(iter(train_loader))\n",
    "x.to(device), y.to(device)\n",
    "\n",
    "model = model.to(device)\n",
    "model.init_hidden_and_cell_state(batch_size, device)\n",
    "output = model(x)"
   ]
  },
  {
   "cell_type": "code",
   "execution_count": 43,
   "id": "5d463180",
   "metadata": {},
   "outputs": [
    {
     "data": {
      "text/plain": [
       "torch.Size([32, 1])"
      ]
     },
     "execution_count": 43,
     "metadata": {},
     "output_type": "execute_result"
    }
   ],
   "source": [
    "output.shape"
   ]
  },
  {
   "cell_type": "markdown",
   "id": "42d90944",
   "metadata": {},
   "source": [
    "## 손실함수 & 옵티마이저 정의\n"
   ]
  },
  {
   "cell_type": "code",
   "execution_count": 77,
   "id": "b0251347",
   "metadata": {},
   "outputs": [],
   "source": [
    "model = model.to(device)\n",
    "loss_fn = nn.L1Loss()\n",
    "optimizer = optim.Adam(model.parameters(), lr=5e-5)"
   ]
  },
  {
   "cell_type": "markdown",
   "id": "df9fc320",
   "metadata": {},
   "source": [
    "## 모델 훈련\n"
   ]
  },
  {
   "cell_type": "code",
   "execution_count": 78,
   "id": "9ef6bc1d",
   "metadata": {},
   "outputs": [],
   "source": [
    "from tqdm import tqdm\n",
    "\n",
    "\n",
    "def fit(model, data_loader, loss_fn, optimizer, device, phase=\"train\"):\n",
    "    if phase == \"train\":\n",
    "        # 모델을 훈련모드로 설정합니다. training mode 일 때 Gradient 가 업데이트 됩니다. 반드시 train()으로 모드 변경을 해야 합니다.\n",
    "        model.train()\n",
    "    else:\n",
    "        # model.eval()은 모델을 평가모드로 설정을 바꾸어 줍니다.\n",
    "        model.eval()\n",
    "\n",
    "    # loss와 accuracy 계산을 위한 임시 변수 입니다. 0으로 초기화합니다.\n",
    "    running_loss = 0\n",
    "    running_metric = 0\n",
    "\n",
    "    # 예쁘게 Progress Bar를 출력하면서 훈련 상태를 모니터링 하기 위하여 tqdm으로 래핑합니다.\n",
    "    prograss_bar = tqdm(\n",
    "        data_loader, leave=False, unit=\"batch\", total=len(data_loader), mininterval=1\n",
    "    )\n",
    "\n",
    "    # mini-batch 학습을 시작합니다.\n",
    "    for x, y in prograss_bar:\n",
    "        # image, label 데이터를 device에 올립니다.\n",
    "        x, y = x.to(device), y.to(device)\n",
    "\n",
    "        optimizer.zero_grad()\n",
    "        # 누적 Gradient를 초기화 합니다.\n",
    "        with torch.set_grad_enabled(phase == \"train\"):\n",
    "            model.init_hidden_and_cell_state(len(x), device)\n",
    "            # Forward Propagation을 진행하여 결과를 얻습니다.\n",
    "            output = model(x)\n",
    "\n",
    "            # 손실함수에 output, label 값을 대입하여 손실을 계산합니다.\n",
    "            loss = loss_fn(output, y)\n",
    "\n",
    "            if phase == \"train\":\n",
    "                # 오차역전파(Back Propagation)을 진행하여 미분 값을 계산합니다.\n",
    "                loss.backward()\n",
    "\n",
    "                # 계산된 Gradient를 업데이트 합니다.\n",
    "                optimizer.step()\n",
    "\n",
    "        # 추가로 설정한 평가지표를 계산합니다.\n",
    "        metric = nn.L1Loss()(output, y)\n",
    "        running_metric += metric\n",
    "\n",
    "        # 이를 누적한 뒤 Epoch 종료시 전체 데이터셋의 개수로 나누어 평균 loss를 산출합니다.\n",
    "        running_loss += loss.item()\n",
    "\n",
    "    # 평균 손실(loss)과 정확도를 반환합니다.\n",
    "    # train_loss, train_acc\n",
    "    return running_loss / len(data_loader), running_metric / len(data_loader)"
   ]
  },
  {
   "cell_type": "code",
   "execution_count": 79,
   "id": "8e6375a9",
   "metadata": {},
   "outputs": [
    {
     "name": "stderr",
     "output_type": "stream",
     "text": [
      "                                                    \r"
     ]
    },
    {
     "name": "stdout",
     "output_type": "stream",
     "text": [
      "[INFO] val_loss has been improved from inf to 0.01274. Saving Model!\n",
      "[Epoch01] time: 0m 3s \t loss: 0.01152, mae: 0.01152 | val_loss: 0.01274, val_mae: 0.01274\n"
     ]
    },
    {
     "name": "stderr",
     "output_type": "stream",
     "text": [
      "                                                    \r"
     ]
    },
    {
     "name": "stdout",
     "output_type": "stream",
     "text": [
      "[INFO] val_loss has been improved from 0.01274 to 0.01264. Saving Model!\n",
      "[Epoch02] time: 0m 3s \t loss: 0.01121, mae: 0.01121 | val_loss: 0.01264, val_mae: 0.01264\n"
     ]
    },
    {
     "name": "stderr",
     "output_type": "stream",
     "text": [
      "                                                    \r"
     ]
    },
    {
     "name": "stdout",
     "output_type": "stream",
     "text": [
      "[Epoch03] time: 0m 3s \t loss: 0.01074, mae: 0.01074 | val_loss: 0.01313, val_mae: 0.01313\n"
     ]
    },
    {
     "name": "stderr",
     "output_type": "stream",
     "text": [
      "                                                    \r"
     ]
    },
    {
     "name": "stdout",
     "output_type": "stream",
     "text": [
      "[Epoch04] time: 0m 3s \t loss: 0.01046, mae: 0.01046 | val_loss: 0.01278, val_mae: 0.01278\n"
     ]
    },
    {
     "name": "stderr",
     "output_type": "stream",
     "text": [
      "                                                    \r"
     ]
    },
    {
     "name": "stdout",
     "output_type": "stream",
     "text": [
      "[INFO] val_loss has been improved from 0.01264 to 0.01263. Saving Model!\n",
      "[Epoch05] time: 0m 3s \t loss: 0.01034, mae: 0.01034 | val_loss: 0.01263, val_mae: 0.01263\n"
     ]
    },
    {
     "name": "stderr",
     "output_type": "stream",
     "text": [
      "                                                    \r"
     ]
    },
    {
     "name": "stdout",
     "output_type": "stream",
     "text": [
      "[Epoch06] time: 0m 3s \t loss: 0.01042, mae: 0.01042 | val_loss: 0.01387, val_mae: 0.01387\n"
     ]
    },
    {
     "name": "stderr",
     "output_type": "stream",
     "text": [
      "                                                    \r"
     ]
    },
    {
     "name": "stdout",
     "output_type": "stream",
     "text": [
      "[INFO] val_loss has been improved from 0.01263 to 0.01255. Saving Model!\n",
      "[Epoch07] time: 0m 3s \t loss: 0.01032, mae: 0.01032 | val_loss: 0.01255, val_mae: 0.01255\n"
     ]
    },
    {
     "name": "stderr",
     "output_type": "stream",
     "text": [
      "                                                    \r"
     ]
    },
    {
     "name": "stdout",
     "output_type": "stream",
     "text": [
      "[Epoch08] time: 0m 3s \t loss: 0.01033, mae: 0.01033 | val_loss: 0.01285, val_mae: 0.01285\n"
     ]
    },
    {
     "name": "stderr",
     "output_type": "stream",
     "text": [
      "                                                    \r"
     ]
    },
    {
     "name": "stdout",
     "output_type": "stream",
     "text": [
      "[Epoch09] time: 0m 3s \t loss: 0.01043, mae: 0.01043 | val_loss: 0.01260, val_mae: 0.01260\n"
     ]
    },
    {
     "name": "stderr",
     "output_type": "stream",
     "text": [
      "                                                    \r"
     ]
    },
    {
     "name": "stdout",
     "output_type": "stream",
     "text": [
      "[Epoch10] time: 0m 3s \t loss: 0.01004, mae: 0.01004 | val_loss: 0.01423, val_mae: 0.01423\n"
     ]
    },
    {
     "name": "stderr",
     "output_type": "stream",
     "text": [
      "                                                    \r"
     ]
    },
    {
     "name": "stdout",
     "output_type": "stream",
     "text": [
      "[Epoch11] time: 0m 3s \t loss: 0.01015, mae: 0.01015 | val_loss: 0.01305, val_mae: 0.01305\n"
     ]
    },
    {
     "name": "stderr",
     "output_type": "stream",
     "text": [
      "                                                    \r"
     ]
    },
    {
     "name": "stdout",
     "output_type": "stream",
     "text": [
      "[Epoch12] time: 0m 3s \t loss: 0.01006, mae: 0.01006 | val_loss: 0.01283, val_mae: 0.01283\n"
     ]
    },
    {
     "name": "stderr",
     "output_type": "stream",
     "text": [
      "                                                    \r"
     ]
    },
    {
     "name": "stdout",
     "output_type": "stream",
     "text": [
      "[Epoch13] time: 0m 3s \t loss: 0.01002, mae: 0.01002 | val_loss: 0.01358, val_mae: 0.01358\n"
     ]
    },
    {
     "name": "stderr",
     "output_type": "stream",
     "text": [
      "                                                    \r"
     ]
    },
    {
     "name": "stdout",
     "output_type": "stream",
     "text": [
      "[Epoch14] time: 0m 3s \t loss: 0.01011, mae: 0.01011 | val_loss: 0.01339, val_mae: 0.01339\n"
     ]
    },
    {
     "name": "stderr",
     "output_type": "stream",
     "text": [
      "                                                    \r"
     ]
    },
    {
     "name": "stdout",
     "output_type": "stream",
     "text": [
      "[Epoch15] time: 0m 3s \t loss: 0.01003, mae: 0.01003 | val_loss: 0.01328, val_mae: 0.01328\n"
     ]
    },
    {
     "name": "stderr",
     "output_type": "stream",
     "text": [
      "                                                    \r"
     ]
    },
    {
     "name": "stdout",
     "output_type": "stream",
     "text": [
      "[Epoch16] time: 0m 3s \t loss: 0.00990, mae: 0.00990 | val_loss: 0.01385, val_mae: 0.01385\n"
     ]
    },
    {
     "name": "stderr",
     "output_type": "stream",
     "text": [
      "                                                    \r"
     ]
    },
    {
     "name": "stdout",
     "output_type": "stream",
     "text": [
      "[Epoch17] time: 0m 3s \t loss: 0.01023, mae: 0.01023 | val_loss: 0.01313, val_mae: 0.01313\n"
     ]
    },
    {
     "name": "stderr",
     "output_type": "stream",
     "text": [
      "                                                    \r"
     ]
    },
    {
     "name": "stdout",
     "output_type": "stream",
     "text": [
      "[Epoch18] time: 0m 3s \t loss: 0.00996, mae: 0.00996 | val_loss: 0.01468, val_mae: 0.01468\n"
     ]
    },
    {
     "name": "stderr",
     "output_type": "stream",
     "text": [
      "                                                    \r"
     ]
    },
    {
     "name": "stdout",
     "output_type": "stream",
     "text": [
      "[Epoch19] time: 0m 3s \t loss: 0.01003, mae: 0.01003 | val_loss: 0.01452, val_mae: 0.01452\n"
     ]
    },
    {
     "name": "stderr",
     "output_type": "stream",
     "text": [
      "                                                    \r"
     ]
    },
    {
     "name": "stdout",
     "output_type": "stream",
     "text": [
      "[Epoch20] time: 0m 3s \t loss: 0.01009, mae: 0.01009 | val_loss: 0.01269, val_mae: 0.01269\n"
     ]
    },
    {
     "name": "stderr",
     "output_type": "stream",
     "text": [
      "                                                    \r"
     ]
    },
    {
     "name": "stdout",
     "output_type": "stream",
     "text": [
      "[Epoch21] time: 0m 3s \t loss: 0.01012, mae: 0.01012 | val_loss: 0.01281, val_mae: 0.01281\n"
     ]
    },
    {
     "name": "stderr",
     "output_type": "stream",
     "text": [
      "                                                    \r"
     ]
    },
    {
     "name": "stdout",
     "output_type": "stream",
     "text": [
      "[Epoch22] time: 0m 3s \t loss: 0.00971, mae: 0.00971 | val_loss: 0.01582, val_mae: 0.01582\n"
     ]
    },
    {
     "name": "stderr",
     "output_type": "stream",
     "text": [
      "                                                    \r"
     ]
    },
    {
     "name": "stdout",
     "output_type": "stream",
     "text": [
      "[Epoch23] time: 0m 3s \t loss: 0.00983, mae: 0.00983 | val_loss: 0.01312, val_mae: 0.01312\n"
     ]
    },
    {
     "name": "stderr",
     "output_type": "stream",
     "text": [
      "                                                    \r"
     ]
    },
    {
     "name": "stdout",
     "output_type": "stream",
     "text": [
      "[Epoch24] time: 0m 3s \t loss: 0.01006, mae: 0.01006 | val_loss: 0.01282, val_mae: 0.01282\n"
     ]
    },
    {
     "name": "stderr",
     "output_type": "stream",
     "text": [
      "                                                    \r"
     ]
    },
    {
     "name": "stdout",
     "output_type": "stream",
     "text": [
      "[Epoch25] time: 0m 3s \t loss: 0.00980, mae: 0.00980 | val_loss: 0.01439, val_mae: 0.01439\n"
     ]
    },
    {
     "name": "stderr",
     "output_type": "stream",
     "text": [
      "                                                    \r"
     ]
    },
    {
     "name": "stdout",
     "output_type": "stream",
     "text": [
      "[Epoch26] time: 0m 3s \t loss: 0.00985, mae: 0.00985 | val_loss: 0.01505, val_mae: 0.01505\n"
     ]
    },
    {
     "name": "stderr",
     "output_type": "stream",
     "text": [
      "                                                    \r"
     ]
    },
    {
     "name": "stdout",
     "output_type": "stream",
     "text": [
      "[Epoch27] time: 0m 3s \t loss: 0.00997, mae: 0.00997 | val_loss: 0.01365, val_mae: 0.01365\n"
     ]
    },
    {
     "name": "stderr",
     "output_type": "stream",
     "text": [
      "                                                    \r"
     ]
    },
    {
     "name": "stdout",
     "output_type": "stream",
     "text": [
      "[Epoch28] time: 0m 3s \t loss: 0.00997, mae: 0.00997 | val_loss: 0.01339, val_mae: 0.01339\n"
     ]
    },
    {
     "name": "stderr",
     "output_type": "stream",
     "text": [
      "                                                    \r"
     ]
    },
    {
     "name": "stdout",
     "output_type": "stream",
     "text": [
      "[Epoch29] time: 0m 3s \t loss: 0.00977, mae: 0.00977 | val_loss: 0.01439, val_mae: 0.01439\n"
     ]
    },
    {
     "name": "stderr",
     "output_type": "stream",
     "text": [
      "                                                    \r"
     ]
    },
    {
     "name": "stdout",
     "output_type": "stream",
     "text": [
      "[Epoch30] time: 0m 3s \t loss: 0.01000, mae: 0.01000 | val_loss: 0.01484, val_mae: 0.01484\n"
     ]
    },
    {
     "name": "stderr",
     "output_type": "stream",
     "text": [
      "                                                    \r"
     ]
    },
    {
     "name": "stdout",
     "output_type": "stream",
     "text": [
      "[Epoch31] time: 0m 3s \t loss: 0.00991, mae: 0.00991 | val_loss: 0.01511, val_mae: 0.01511\n"
     ]
    },
    {
     "name": "stderr",
     "output_type": "stream",
     "text": [
      "                                                    \r"
     ]
    },
    {
     "name": "stdout",
     "output_type": "stream",
     "text": [
      "[INFO] val_loss has been improved from 0.01255 to 0.01246. Saving Model!\n",
      "[Epoch32] time: 0m 3s \t loss: 0.00997, mae: 0.00997 | val_loss: 0.01246, val_mae: 0.01246\n"
     ]
    },
    {
     "name": "stderr",
     "output_type": "stream",
     "text": [
      "                                                    \r"
     ]
    },
    {
     "name": "stdout",
     "output_type": "stream",
     "text": [
      "[Epoch33] time: 0m 3s \t loss: 0.00994, mae: 0.00994 | val_loss: 0.01463, val_mae: 0.01463\n"
     ]
    },
    {
     "name": "stderr",
     "output_type": "stream",
     "text": [
      "                                                    \r"
     ]
    },
    {
     "name": "stdout",
     "output_type": "stream",
     "text": [
      "[Epoch34] time: 0m 3s \t loss: 0.00984, mae: 0.00984 | val_loss: 0.01471, val_mae: 0.01471\n"
     ]
    },
    {
     "name": "stderr",
     "output_type": "stream",
     "text": [
      "                                                    \r"
     ]
    },
    {
     "name": "stdout",
     "output_type": "stream",
     "text": [
      "[Epoch35] time: 0m 3s \t loss: 0.00981, mae: 0.00981 | val_loss: 0.01397, val_mae: 0.01397\n"
     ]
    },
    {
     "name": "stderr",
     "output_type": "stream",
     "text": [
      "                                                    \r"
     ]
    },
    {
     "name": "stdout",
     "output_type": "stream",
     "text": [
      "[Epoch36] time: 0m 3s \t loss: 0.00968, mae: 0.00968 | val_loss: 0.01440, val_mae: 0.01440\n"
     ]
    },
    {
     "name": "stderr",
     "output_type": "stream",
     "text": [
      "                                                    \r"
     ]
    },
    {
     "name": "stdout",
     "output_type": "stream",
     "text": [
      "[Epoch37] time: 0m 3s \t loss: 0.00980, mae: 0.00980 | val_loss: 0.01461, val_mae: 0.01461\n"
     ]
    },
    {
     "name": "stderr",
     "output_type": "stream",
     "text": [
      "                                                    \r"
     ]
    },
    {
     "name": "stdout",
     "output_type": "stream",
     "text": [
      "[Epoch38] time: 0m 3s \t loss: 0.01034, mae: 0.01034 | val_loss: 0.01248, val_mae: 0.01248\n"
     ]
    },
    {
     "name": "stderr",
     "output_type": "stream",
     "text": [
      "                                                    \r"
     ]
    },
    {
     "name": "stdout",
     "output_type": "stream",
     "text": [
      "[Epoch39] time: 0m 3s \t loss: 0.00988, mae: 0.00988 | val_loss: 0.01458, val_mae: 0.01458\n"
     ]
    },
    {
     "name": "stderr",
     "output_type": "stream",
     "text": [
      "                                                    \r"
     ]
    },
    {
     "name": "stdout",
     "output_type": "stream",
     "text": [
      "[Epoch40] time: 0m 3s \t loss: 0.00980, mae: 0.00980 | val_loss: 0.01431, val_mae: 0.01431\n"
     ]
    },
    {
     "name": "stderr",
     "output_type": "stream",
     "text": [
      "                                                    \r"
     ]
    },
    {
     "name": "stdout",
     "output_type": "stream",
     "text": [
      "[Epoch41] time: 0m 3s \t loss: 0.00991, mae: 0.00991 | val_loss: 0.01383, val_mae: 0.01383\n"
     ]
    },
    {
     "name": "stderr",
     "output_type": "stream",
     "text": [
      "                                                    \r"
     ]
    },
    {
     "name": "stdout",
     "output_type": "stream",
     "text": [
      "[Epoch42] time: 0m 3s \t loss: 0.01013, mae: 0.01013 | val_loss: 0.01325, val_mae: 0.01325\n"
     ]
    },
    {
     "name": "stderr",
     "output_type": "stream",
     "text": [
      "                                                    \r"
     ]
    },
    {
     "name": "stdout",
     "output_type": "stream",
     "text": [
      "[Epoch43] time: 0m 3s \t loss: 0.00989, mae: 0.00989 | val_loss: 0.01281, val_mae: 0.01281\n"
     ]
    },
    {
     "name": "stderr",
     "output_type": "stream",
     "text": [
      "                                                    \r"
     ]
    },
    {
     "name": "stdout",
     "output_type": "stream",
     "text": [
      "[Epoch44] time: 0m 3s \t loss: 0.00989, mae: 0.00989 | val_loss: 0.01355, val_mae: 0.01355\n"
     ]
    },
    {
     "name": "stderr",
     "output_type": "stream",
     "text": [
      "                                                    \r"
     ]
    },
    {
     "name": "stdout",
     "output_type": "stream",
     "text": [
      "[Epoch45] time: 0m 3s \t loss: 0.00969, mae: 0.00969 | val_loss: 0.01269, val_mae: 0.01269\n"
     ]
    },
    {
     "name": "stderr",
     "output_type": "stream",
     "text": [
      "                                                    \r"
     ]
    },
    {
     "name": "stdout",
     "output_type": "stream",
     "text": [
      "[Epoch46] time: 0m 3s \t loss: 0.00977, mae: 0.00977 | val_loss: 0.01380, val_mae: 0.01380\n"
     ]
    },
    {
     "name": "stderr",
     "output_type": "stream",
     "text": [
      "                                                    \r"
     ]
    },
    {
     "name": "stdout",
     "output_type": "stream",
     "text": [
      "[Epoch47] time: 0m 3s \t loss: 0.00990, mae: 0.00990 | val_loss: 0.01347, val_mae: 0.01347\n"
     ]
    },
    {
     "name": "stderr",
     "output_type": "stream",
     "text": [
      "                                                    \r"
     ]
    },
    {
     "name": "stdout",
     "output_type": "stream",
     "text": [
      "[Epoch48] time: 0m 3s \t loss: 0.00973, mae: 0.00973 | val_loss: 0.01332, val_mae: 0.01332\n"
     ]
    },
    {
     "name": "stderr",
     "output_type": "stream",
     "text": [
      "                                                    \r"
     ]
    },
    {
     "name": "stdout",
     "output_type": "stream",
     "text": [
      "[Epoch49] time: 0m 3s \t loss: 0.00986, mae: 0.00986 | val_loss: 0.01605, val_mae: 0.01605\n"
     ]
    },
    {
     "name": "stderr",
     "output_type": "stream",
     "text": [
      "                                                    "
     ]
    },
    {
     "name": "stdout",
     "output_type": "stream",
     "text": [
      "[Epoch50] time: 0m 3s \t loss: 0.00961, mae: 0.00961 | val_loss: 0.01499, val_mae: 0.01499\n"
     ]
    },
    {
     "name": "stderr",
     "output_type": "stream",
     "text": [
      "\r"
     ]
    }
   ],
   "source": [
    "import time\n",
    "\n",
    "# 최대 Epoch을 지정합니다.\n",
    "num_epochs = 50\n",
    "\n",
    "min_loss = np.inf\n",
    "\n",
    "STATE_DICT_PATH = \"TimeSeries-Prediction.pth\"\n",
    "\n",
    "# Epoch 별 훈련 및 검증을 수행합니다.\n",
    "for epoch in range(num_epochs):\n",
    "    # Model Training\n",
    "    # 훈련 손실과 정확도를 반환 받습니다.\n",
    "    start = time.time()\n",
    "    train_loss, train_mae = fit(\n",
    "        model, train_loader, loss_fn, optimizer, device, phase=\"train\"\n",
    "    )\n",
    "\n",
    "    # 검증 손실과 검증 정확도를 반환 받습니다.\n",
    "    val_loss, val_mae = fit(\n",
    "        model, validation_loader, loss_fn, optimizer, device, phase=\"eval\"\n",
    "    )\n",
    "\n",
    "    # val_loss 가 개선되었다면 min_loss를 갱신하고 model의 가중치(weights)를 저장합니다.\n",
    "    if val_loss < min_loss:\n",
    "        print(\n",
    "            f\"[INFO] val_loss has been improved from {min_loss:.5f} to {val_loss:.5f}. Saving Model!\"\n",
    "        )\n",
    "        min_loss = val_loss\n",
    "        torch.save(model.state_dict(), STATE_DICT_PATH)\n",
    "\n",
    "    time_elapsed = time.time() - start\n",
    "    # Epoch 별 결과를 출력합니다.\n",
    "    print(\n",
    "        f\"[Epoch{epoch+1:02d}] time: {time_elapsed // 60:.0f}m {time_elapsed % 60:.0f}s \\t loss: {train_loss:.5f}, mae: {train_mae:.5f} | val_loss: {val_loss:.5f}, val_mae: {val_mae:.5f}\"\n",
    "    )"
   ]
  },
  {
   "cell_type": "markdown",
   "id": "7a3e4341",
   "metadata": {},
   "source": [
    "## 저장한 가중치 로드\n"
   ]
  },
  {
   "cell_type": "code",
   "execution_count": 80,
   "id": "ffbacb5c",
   "metadata": {},
   "outputs": [
    {
     "data": {
      "text/plain": [
       "<All keys matched successfully>"
      ]
     },
     "execution_count": 80,
     "metadata": {},
     "output_type": "execute_result"
    }
   ],
   "source": [
    "model.load_state_dict(torch.load(STATE_DICT_PATH))"
   ]
  },
  {
   "cell_type": "markdown",
   "id": "0a9c2b39",
   "metadata": {},
   "source": [
    "## Evaluation\n"
   ]
  },
  {
   "cell_type": "code",
   "execution_count": 81,
   "id": "2141f643",
   "metadata": {},
   "outputs": [
    {
     "data": {
      "text/plain": [
       "200"
      ]
     },
     "execution_count": 81,
     "metadata": {},
     "output_type": "execute_result"
    }
   ],
   "source": [
    "model.eval()\n",
    "\n",
    "results = []\n",
    "\n",
    "with torch.no_grad():\n",
    "    for x, y in validation_loader:\n",
    "        x, y = x.to(device), y.to(device)\n",
    "        model.init_hidden_and_cell_state(len(x), device)\n",
    "        output = model(x)\n",
    "        results.extend(output.detach().cpu().numpy().flatten().tolist())\n",
    "\n",
    "len(results)"
   ]
  },
  {
   "cell_type": "markdown",
   "id": "d4655166",
   "metadata": {},
   "source": [
    "## 예측 결과 시각화\n"
   ]
  },
  {
   "cell_type": "code",
   "execution_count": 82,
   "id": "3a7f07b6",
   "metadata": {},
   "outputs": [
    {
     "data": {
      "image/png": "[encoded data removed]",
      "text/plain": [
       "<Figure size 1000x600 with 1 Axes>"
      ]
     },
     "metadata": {},
     "output_type": "display_data"
    }
   ],
   "source": [
    "fig, ax = plt.subplots(1, 1)\n",
    "ax.plot(results, color=\"white\", linestyle=\"dotted\", label=\"real\")\n",
    "ax.plot(y_valid.detach().cpu().numpy().flatten(), color=\"tomato\", label=\"prediction\")\n",
    "plt.legend()\n",
    "plt.show()"
   ]
  },
  {
   "cell_type": "code",
   "execution_count": null,
   "id": "d390aea4",
   "metadata": {},
   "outputs": [],
   "source": []
  }
 ],
 "metadata": {
  "kernelspec": {
   "display_name": "Python 3 (ipykernel)",
   "language": "python",
   "name": "python3"
  },
  "language_info": {
   "codemirror_mode": {
    "name": "ipython",
    "version": 3
   },
   "file_extension": ".py",
   "mimetype": "text/x-python",
   "name": "python",
   "nbconvert_exporter": "python",
   "pygments_lexer": "ipython3",
   "version": "3.9.18"
  }
 },
 "nbformat": 4,
 "nbformat_minor": 5
}
